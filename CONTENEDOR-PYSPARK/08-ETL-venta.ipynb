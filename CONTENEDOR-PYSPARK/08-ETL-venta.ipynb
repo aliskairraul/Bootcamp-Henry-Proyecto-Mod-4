{
 "cells": [
  {
   "cell_type": "markdown",
   "metadata": {},
   "source": [
    "#### NOTA: En este cuaderno se crearan las Tablas `venta_header` y `venta_detail` del Datawarehouse"
   ]
  },
  {
   "cell_type": "markdown",
   "metadata": {},
   "source": [
    "***\n",
    "### Importando Librerias"
   ]
  },
  {
   "cell_type": "code",
   "execution_count": 1,
   "metadata": {},
   "outputs": [],
   "source": [
    "from pyspark.sql import SparkSession"
   ]
  },
  {
   "cell_type": "code",
   "execution_count": 2,
   "metadata": {},
   "outputs": [],
   "source": [
    "from pyspark.sql.functions import col, count, when, isnull"
   ]
  },
  {
   "cell_type": "markdown",
   "metadata": {},
   "source": [
    "***\n",
    "Creando Session de Spark"
   ]
  },
  {
   "cell_type": "code",
   "execution_count": 3,
   "metadata": {},
   "outputs": [],
   "source": [
    "spark = SparkSession.builder.appName('venta_header-venta_detail').getOrCreate()"
   ]
  },
  {
   "cell_type": "markdown",
   "metadata": {},
   "source": [
    "***\n",
    "Importando Conexion a Contenedor `mod4_postgres`"
   ]
  },
  {
   "cell_type": "code",
   "execution_count": 4,
   "metadata": {},
   "outputs": [],
   "source": [
    "from db.connection import connec_db"
   ]
  },
  {
   "cell_type": "markdown",
   "metadata": {},
   "source": [
    "***\n",
    "Trabajando el csv asociado a  `compra`"
   ]
  },
  {
   "cell_type": "code",
   "execution_count": 4,
   "metadata": {},
   "outputs": [],
   "source": [
    "venta = spark.read.csv(\"Data/Venta.csv\", sep=\",\", header=True, inferSchema=True)"
   ]
  },
  {
   "cell_type": "markdown",
   "metadata": {},
   "source": [
    "***\n",
    "Visualizando como vienen los Datos"
   ]
  },
  {
   "cell_type": "code",
   "execution_count": 5,
   "metadata": {},
   "outputs": [
    {
     "name": "stdout",
     "output_type": "stream",
     "text": [
      "+-------+----------+-------------+-------+---------+----------+----------+----------+------+--------+\n",
      "|IdVenta|     Fecha|Fecha_Entrega|IdCanal|IdCliente|IdSucursal|IdEmpleado|IdProducto|Precio|Cantidad|\n",
      "+-------+----------+-------------+-------+---------+----------+----------+----------+------+--------+\n",
      "|      1|2018-03-09|   2018-03-17|      3|      969|        13|      1674|     42817|813.12|       2|\n",
      "|      2|2018-12-28|   2018-12-29|      2|      884|        13|      1674|     42795|543.18|       3|\n",
      "|      3|2016-03-28|   2016-03-31|      2|     1722|        13|      1674|     42837|430.32|       1|\n",
      "|      4|2017-10-23|   2017-10-24|      3|     2876|        13|      1674|     42834|818.84|       2|\n",
      "|      5|2017-11-22|   2017-11-25|      2|      678|        13|      1674|     42825|554.18|       3|\n",
      "+-------+----------+-------------+-------+---------+----------+----------+----------+------+--------+\n",
      "only showing top 5 rows\n",
      "\n"
     ]
    }
   ],
   "source": [
    "venta.show(5)"
   ]
  },
  {
   "cell_type": "markdown",
   "metadata": {},
   "source": [
    "***\n",
    "Visualizando la Inferencia del Schema"
   ]
  },
  {
   "cell_type": "code",
   "execution_count": 6,
   "metadata": {},
   "outputs": [
    {
     "name": "stdout",
     "output_type": "stream",
     "text": [
      "root\n",
      " |-- IdVenta: integer (nullable = true)\n",
      " |-- Fecha: date (nullable = true)\n",
      " |-- Fecha_Entrega: date (nullable = true)\n",
      " |-- IdCanal: integer (nullable = true)\n",
      " |-- IdCliente: integer (nullable = true)\n",
      " |-- IdSucursal: integer (nullable = true)\n",
      " |-- IdEmpleado: integer (nullable = true)\n",
      " |-- IdProducto: integer (nullable = true)\n",
      " |-- Precio: double (nullable = true)\n",
      " |-- Cantidad: integer (nullable = true)\n",
      "\n"
     ]
    }
   ],
   "source": [
    "venta.printSchema()"
   ]
  },
  {
   "cell_type": "markdown",
   "metadata": {},
   "source": [
    "***\n",
    "Buscando Valores Faltantes"
   ]
  },
  {
   "cell_type": "code",
   "execution_count": 7,
   "metadata": {},
   "outputs": [
    {
     "name": "stdout",
     "output_type": "stream",
     "text": [
      "+-------+-----+-------------+-------+---------+----------+----------+----------+------+--------+\n",
      "|IdVenta|Fecha|Fecha_Entrega|IdCanal|IdCliente|IdSucursal|IdEmpleado|IdProducto|Precio|Cantidad|\n",
      "+-------+-----+-------------+-------+---------+----------+----------+----------+------+--------+\n",
      "|      0|    0|            0|      0|        0|         0|         0|         0|   924|     892|\n",
      "+-------+-----+-------------+-------+---------+----------+----------+----------+------+--------+\n",
      "\n"
     ]
    }
   ],
   "source": [
    "# Contar valores nulos por columna\n",
    "venta.agg(*[count(when(isnull(c), c)).alias(c) for c in venta.columns]).show()\n",
    "\n"
   ]
  },
  {
   "cell_type": "markdown",
   "metadata": {},
   "source": [
    "En las cantidades Faltantes segun los Homeworks se asumio colocar 1 <br>\n",
    "En cuanto a los precios se localizaron todos en la tabla `producto` y se buscan por 'IdProducto`\n"
   ]
  },
  {
   "cell_type": "code",
   "execution_count": 8,
   "metadata": {},
   "outputs": [],
   "source": [
    "# Se asigna 1 a las cantidades\n",
    "venta = venta.fillna({'Cantidad':1})\n",
    "\n",
    "# Se coloca 0 por ahora a los precios\n",
    "venta = venta.fillna({'Precio':0})"
   ]
  },
  {
   "cell_type": "markdown",
   "metadata": {},
   "source": [
    "***\n",
    "Hay que obtener la informacion de los precios de la data de Productos"
   ]
  },
  {
   "cell_type": "code",
   "execution_count": 9,
   "metadata": {},
   "outputs": [],
   "source": [
    "producto = spark.read.csv(\"Data/PRODUCTOS.csv\", sep=\",\", header=True, inferSchema=True)"
   ]
  },
  {
   "cell_type": "code",
   "execution_count": 10,
   "metadata": {},
   "outputs": [],
   "source": [
    "producto = producto.withColumnRenamed(\"Precio\",\"precio_p\")"
   ]
  },
  {
   "cell_type": "code",
   "execution_count": 11,
   "metadata": {},
   "outputs": [
    {
     "name": "stdout",
     "output_type": "stream",
     "text": [
      "+-----------+------------------+---------+--------+\n",
      "|ID_PRODUCTO|          Concepto|     Tipo|precio_p|\n",
      "+-----------+------------------+---------+--------+\n",
      "|      42737|EPSON COPYFAX 2000|IMPRESIÓN|  1658.0|\n",
      "+-----------+------------------+---------+--------+\n",
      "only showing top 1 row\n",
      "\n"
     ]
    }
   ],
   "source": [
    "producto.show(1)"
   ]
  },
  {
   "cell_type": "code",
   "execution_count": 12,
   "metadata": {},
   "outputs": [
    {
     "data": {
      "text/plain": [
       "46645"
      ]
     },
     "execution_count": 12,
     "metadata": {},
     "output_type": "execute_result"
    }
   ],
   "source": [
    "venta.count()"
   ]
  },
  {
   "cell_type": "code",
   "execution_count": 13,
   "metadata": {},
   "outputs": [],
   "source": [
    "venta_join_prod = venta.join(producto, producto[\"ID_PRODUCTO\"] == venta[\"IdProducto\"], \"left\")"
   ]
  },
  {
   "cell_type": "code",
   "execution_count": 14,
   "metadata": {},
   "outputs": [
    {
     "data": {
      "text/plain": [
       "46645"
      ]
     },
     "execution_count": 14,
     "metadata": {},
     "output_type": "execute_result"
    }
   ],
   "source": [
    "venta_join_prod.count()"
   ]
  },
  {
   "cell_type": "code",
   "execution_count": 15,
   "metadata": {},
   "outputs": [
    {
     "name": "stdout",
     "output_type": "stream",
     "text": [
      "+-------+----------+-------------+-------+---------+----------+----------+----------+------+--------+-----------+--------------------+---------+--------+\n",
      "|IdVenta|     Fecha|Fecha_Entrega|IdCanal|IdCliente|IdSucursal|IdEmpleado|IdProducto|Precio|Cantidad|ID_PRODUCTO|            Concepto|     Tipo|precio_p|\n",
      "+-------+----------+-------------+-------+---------+----------+----------+----------+------+--------+-----------+--------------------+---------+--------+\n",
      "|      1|2018-03-09|   2018-03-17|      3|      969|        13|      1674|     42817|813.12|       2|      42817|GAB SENTEY G18-13...|GABINETES|  813.12|\n",
      "+-------+----------+-------------+-------+---------+----------+----------+----------+------+--------+-----------+--------------------+---------+--------+\n",
      "only showing top 1 row\n",
      "\n"
     ]
    }
   ],
   "source": [
    "venta_join_prod.show(1)"
   ]
  },
  {
   "cell_type": "code",
   "execution_count": 16,
   "metadata": {},
   "outputs": [],
   "source": [
    "venta_join_prod = venta_join_prod.withColumn(\n",
    "    \"PrecioFinal\",\n",
    "    when(venta_join_prod['Precio'] == 0, col(\"precio_p\"))\n",
    "    .otherwise(col('Precio'))\n",
    ")"
   ]
  },
  {
   "cell_type": "code",
   "execution_count": 17,
   "metadata": {},
   "outputs": [
    {
     "name": "stdout",
     "output_type": "stream",
     "text": [
      "+-------+----------+-------------+-------+---------+----------+----------+----------+------+--------+-----------+--------------------+---------+--------+-----------+\n",
      "|IdVenta|     Fecha|Fecha_Entrega|IdCanal|IdCliente|IdSucursal|IdEmpleado|IdProducto|Precio|Cantidad|ID_PRODUCTO|            Concepto|     Tipo|precio_p|PrecioFinal|\n",
      "+-------+----------+-------------+-------+---------+----------+----------+----------+------+--------+-----------+--------------------+---------+--------+-----------+\n",
      "|      1|2018-03-09|   2018-03-17|      3|      969|        13|      1674|     42817|813.12|       2|      42817|GAB SENTEY G18-13...|GABINETES|  813.12|     813.12|\n",
      "+-------+----------+-------------+-------+---------+----------+----------+----------+------+--------+-----------+--------------------+---------+--------+-----------+\n",
      "only showing top 1 row\n",
      "\n"
     ]
    }
   ],
   "source": [
    "venta_join_prod.show(1)"
   ]
  },
  {
   "cell_type": "code",
   "execution_count": 18,
   "metadata": {},
   "outputs": [],
   "source": [
    "# SELECCIONO LAS COLUMNAS \n",
    "venta = venta_join_prod.select(\"IdVenta\", \"Fecha\", \"Fecha_Entrega\", \"IdCanal\", \"IdCliente\",\n",
    "                               \"IdSucursal\",\"IdEmpleado\",\"IdProducto\",\"Cantidad\",\"PrecioFinal\")"
   ]
  },
  {
   "cell_type": "code",
   "execution_count": 19,
   "metadata": {},
   "outputs": [],
   "source": [
    "del venta_join_prod"
   ]
  },
  {
   "cell_type": "markdown",
   "metadata": {},
   "source": [
    "*** \n",
    "Corrijo el codigo de Empleado en una nueva columna cuyo nombre sera tempEmpleado"
   ]
  },
  {
   "cell_type": "code",
   "execution_count": 20,
   "metadata": {},
   "outputs": [],
   "source": [
    "venta = venta.withColumn(\"tempEmpleado\", (col(\"IdSucursal\") * 1000000) + col(\"IdEmpleado\"))"
   ]
  },
  {
   "cell_type": "markdown",
   "metadata": {},
   "source": [
    "Borro la columna 'IdEmpleado'"
   ]
  },
  {
   "cell_type": "code",
   "execution_count": 21,
   "metadata": {},
   "outputs": [],
   "source": [
    "venta = venta.drop(\"IdEmpleado\")"
   ]
  },
  {
   "cell_type": "markdown",
   "metadata": {},
   "source": [
    "Renombro Columnas"
   ]
  },
  {
   "cell_type": "code",
   "execution_count": 22,
   "metadata": {},
   "outputs": [],
   "source": [
    "venta = venta.withColumnRenamed(\"tempEmpleado\", \"IdEmpleado\")\\\n",
    "             .withColumnRenamed(\"PrecioFinal\", \"Precio\")\\\n",
    "             .withColumnRenamed(\"Fecha_Entrega\", \"FechaEntrega\")"
   ]
  },
  {
   "cell_type": "markdown",
   "metadata": {},
   "source": [
    "***\n",
    "Creo los dataframe `venta_header` y `venta_detail` a partir de `venta`"
   ]
  },
  {
   "cell_type": "code",
   "execution_count": 23,
   "metadata": {},
   "outputs": [],
   "source": [
    "venta_header = venta.select(\"IdVenta\", \"Fecha\", \"FechaEntrega\", \"IdCanal\", \"IdCliente\", \"IdSucursal\", \"IdEmpleado\")"
   ]
  },
  {
   "cell_type": "code",
   "execution_count": 24,
   "metadata": {},
   "outputs": [
    {
     "name": "stdout",
     "output_type": "stream",
     "text": [
      "+-------+----------+------------+-------+---------+----------+----------+\n",
      "|IdVenta|     Fecha|FechaEntrega|IdCanal|IdCliente|IdSucursal|IdEmpleado|\n",
      "+-------+----------+------------+-------+---------+----------+----------+\n",
      "|      1|2018-03-09|  2018-03-17|      3|      969|        13|  13001674|\n",
      "+-------+----------+------------+-------+---------+----------+----------+\n",
      "only showing top 1 row\n",
      "\n"
     ]
    }
   ],
   "source": [
    "venta_header.show(1)"
   ]
  },
  {
   "cell_type": "code",
   "execution_count": 25,
   "metadata": {},
   "outputs": [],
   "source": [
    "venta_detail = venta.select(\"IdVenta\", \"IdProducto\", \"Precio\", \"Cantidad\")"
   ]
  },
  {
   "cell_type": "code",
   "execution_count": 26,
   "metadata": {},
   "outputs": [
    {
     "name": "stdout",
     "output_type": "stream",
     "text": [
      "+-------+----------+------+--------+\n",
      "|IdVenta|IdProducto|Precio|Cantidad|\n",
      "+-------+----------+------+--------+\n",
      "|      1|     42817|813.12|       2|\n",
      "+-------+----------+------+--------+\n",
      "only showing top 1 row\n",
      "\n"
     ]
    }
   ],
   "source": [
    "venta_detail.show(1)"
   ]
  },
  {
   "cell_type": "code",
   "execution_count": 27,
   "metadata": {},
   "outputs": [],
   "source": [
    "del venta"
   ]
  },
  {
   "cell_type": "markdown",
   "metadata": {},
   "source": [
    "***\n",
    "Creando la Conexion"
   ]
  },
  {
   "cell_type": "code",
   "execution_count": 22,
   "metadata": {},
   "outputs": [],
   "source": [
    "engine = connec_db()"
   ]
  },
  {
   "cell_type": "markdown",
   "metadata": {},
   "source": [
    "***\n",
    "Pasando los Dataframes a Dataframes de Pandas  y vaciando en sus respectivas Tablas"
   ]
  },
  {
   "cell_type": "code",
   "execution_count": 28,
   "metadata": {},
   "outputs": [],
   "source": [
    "# IMPORTANDO LIBRERIA PANDAS\n",
    "import pandas as pd"
   ]
  },
  {
   "cell_type": "markdown",
   "metadata": {},
   "source": [
    "***\n",
    "Vaciando el Dataframe a la Tabla `venta_header`"
   ]
  },
  {
   "cell_type": "code",
   "execution_count": 29,
   "metadata": {},
   "outputs": [],
   "source": [
    "pandas_df_venta_h = venta_header.toPandas()\n"
   ]
  },
  {
   "cell_type": "code",
   "execution_count": 25,
   "metadata": {},
   "outputs": [
    {
     "data": {
      "text/plain": [
       "46645"
      ]
     },
     "execution_count": 25,
     "metadata": {},
     "output_type": "execute_result"
    }
   ],
   "source": [
    "pandas_df_venta_h.to_sql(name=\"venta_header\", con=engine, index=False, if_exists=\"append\")"
   ]
  },
  {
   "cell_type": "code",
   "execution_count": 30,
   "metadata": {},
   "outputs": [],
   "source": [
    "pandas_df_venta_h.to_csv(\"csv_practica/venta_header.csv\", index=False)"
   ]
  },
  {
   "cell_type": "code",
   "execution_count": 31,
   "metadata": {},
   "outputs": [],
   "source": [
    "del pandas_df_venta_h\n",
    "del venta_header"
   ]
  },
  {
   "cell_type": "markdown",
   "metadata": {},
   "source": [
    "***\n",
    "Vaciando el Dataframe a la Tabla `venta_detail`"
   ]
  },
  {
   "cell_type": "code",
   "execution_count": 32,
   "metadata": {},
   "outputs": [],
   "source": [
    "pandas_df_venta_d = venta_detail.toPandas()"
   ]
  },
  {
   "cell_type": "code",
   "execution_count": null,
   "metadata": {},
   "outputs": [],
   "source": [
    "pandas_df_venta_d.to_sql(name=\"venta_detail\", con=engine, index=False, if_exists=\"append\")"
   ]
  },
  {
   "cell_type": "code",
   "execution_count": 34,
   "metadata": {},
   "outputs": [],
   "source": [
    "pandas_df_venta_d.to_csv(\"csv_practica/venta_detail.csv\", index=False)"
   ]
  },
  {
   "cell_type": "code",
   "execution_count": 35,
   "metadata": {},
   "outputs": [],
   "source": [
    "del venta_detail\n",
    "del pandas_df_venta_d"
   ]
  },
  {
   "cell_type": "code",
   "execution_count": 36,
   "metadata": {},
   "outputs": [],
   "source": [
    "spark.stop()"
   ]
  }
 ],
 "metadata": {
  "kernelspec": {
   "display_name": "base",
   "language": "python",
   "name": "python3"
  },
  "language_info": {
   "codemirror_mode": {
    "name": "ipython",
    "version": 3
   },
   "file_extension": ".py",
   "mimetype": "text/x-python",
   "name": "python",
   "nbconvert_exporter": "python",
   "pygments_lexer": "ipython3",
   "version": "3.11.6"
  }
 },
 "nbformat": 4,
 "nbformat_minor": 2
}
