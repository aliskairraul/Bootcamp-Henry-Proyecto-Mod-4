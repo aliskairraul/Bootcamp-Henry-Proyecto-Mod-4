{
 "cells": [
  {
   "cell_type": "markdown",
   "metadata": {},
   "source": [
    "#### NOTA: En este cuaderno se crearan las Tablas `producto` y `tipo_producto` del Datawarehouse"
   ]
  },
  {
   "cell_type": "markdown",
   "metadata": {},
   "source": [
    "***\n",
    "### Importando Librerias"
   ]
  },
  {
   "cell_type": "code",
   "execution_count": 1,
   "metadata": {},
   "outputs": [],
   "source": [
    "from pyspark.sql import SparkSession"
   ]
  },
  {
   "cell_type": "code",
   "execution_count": 2,
   "metadata": {},
   "outputs": [],
   "source": [
    "from pyspark.sql.functions import  count, when, isnull,  monotonically_increasing_id\n"
   ]
  },
  {
   "cell_type": "markdown",
   "metadata": {},
   "source": [
    "***\n",
    "Creando Session de Spark"
   ]
  },
  {
   "cell_type": "code",
   "execution_count": 3,
   "metadata": {},
   "outputs": [],
   "source": [
    "spark = SparkSession.builder.appName('producto-tipo_producto').getOrCreate()"
   ]
  },
  {
   "cell_type": "markdown",
   "metadata": {},
   "source": [
    "***\n",
    "Importando Conexion a Contenedor `mod4_mysql`"
   ]
  },
  {
   "cell_type": "code",
   "execution_count": 4,
   "metadata": {},
   "outputs": [],
   "source": [
    "from db.connection import connec_db"
   ]
  },
  {
   "cell_type": "markdown",
   "metadata": {},
   "source": [
    "***\n",
    "Trabajando La Tabla `producto`"
   ]
  },
  {
   "cell_type": "code",
   "execution_count": 5,
   "metadata": {},
   "outputs": [],
   "source": [
    "producto = spark.read.csv(\"Data/PRODUCTOS.csv\", sep=\",\", header=True, inferSchema=True)"
   ]
  },
  {
   "cell_type": "markdown",
   "metadata": {},
   "source": [
    "***\n",
    "Visualizando como vienen los Datos"
   ]
  },
  {
   "cell_type": "code",
   "execution_count": 6,
   "metadata": {},
   "outputs": [
    {
     "name": "stdout",
     "output_type": "stream",
     "text": [
      "+-----------+--------------------+-----------+-------+\n",
      "|ID_PRODUCTO|            Concepto|       Tipo| Precio|\n",
      "+-----------+--------------------+-----------+-------+\n",
      "|      42737|  EPSON COPYFAX 2000|  IMPRESIÓN| 1658.0|\n",
      "|      42754|MOT ASROCK H110M-...|INFORMATICA| 1237.5|\n",
      "|      42755|MOT ASROCK A58M-V...|INFORMATICA|1079.32|\n",
      "|      42756|  MOT ECS KAM1-I AM1|INFORMATICA| 638.66|\n",
      "|      42757|MOT ASROCK B150M-...|INFORMATICA|1784.42|\n",
      "+-----------+--------------------+-----------+-------+\n",
      "only showing top 5 rows\n",
      "\n"
     ]
    }
   ],
   "source": [
    "producto.show(5)"
   ]
  },
  {
   "cell_type": "markdown",
   "metadata": {},
   "source": [
    "***\n",
    "Visualizando la Inferencia del Schema"
   ]
  },
  {
   "cell_type": "code",
   "execution_count": 7,
   "metadata": {},
   "outputs": [
    {
     "name": "stdout",
     "output_type": "stream",
     "text": [
      "root\n",
      " |-- ID_PRODUCTO: integer (nullable = true)\n",
      " |-- Concepto: string (nullable = true)\n",
      " |-- Tipo: string (nullable = true)\n",
      " |-- Precio: double (nullable = true)\n",
      "\n"
     ]
    }
   ],
   "source": [
    "producto.printSchema()"
   ]
  },
  {
   "cell_type": "markdown",
   "metadata": {},
   "source": [
    "***\n",
    "Anomalia en Registros de Tabla `producto`\n",
    "<image src=\"assets/ANOMALIA-MAESTRO-PRODUCTOS.png\">"
   ]
  },
  {
   "cell_type": "markdown",
   "metadata": {},
   "source": [
    "***\n",
    "Verficar en ventas si esos Productos han tenido ventas y si sus valores se ven mas normales"
   ]
  },
  {
   "cell_type": "code",
   "execution_count": 8,
   "metadata": {},
   "outputs": [
    {
     "name": "stdout",
     "output_type": "stream",
     "text": [
      "+-------+----------+-------------+-------+---------+----------+----------+----------+------+--------+\n",
      "|IdVenta|     Fecha|Fecha_Entrega|IdCanal|IdCliente|IdSucursal|IdEmpleado|IdProducto|Precio|Cantidad|\n",
      "+-------+----------+-------------+-------+---------+----------+----------+----------+------+--------+\n",
      "|      1|2018-03-09|   2018-03-17|      3|      969|        13|      1674|     42817|813.12|       2|\n",
      "+-------+----------+-------------+-------+---------+----------+----------+----------+------+--------+\n",
      "only showing top 1 row\n",
      "\n"
     ]
    }
   ],
   "source": [
    "venta = spark.read.csv(\"Data/Venta.csv\", sep=\",\", header=True, inferSchema=True )\n",
    "venta.show(1)"
   ]
  },
  {
   "cell_type": "markdown",
   "metadata": {},
   "source": [
    "FILTRANDO LAS VENTAS CUYOS CODIGOS DE PRODUCTOS SEAN LOS QUE TIENEN ANOMALIAS`"
   ]
  },
  {
   "cell_type": "code",
   "execution_count": 9,
   "metadata": {},
   "outputs": [
    {
     "name": "stdout",
     "output_type": "stream",
     "text": [
      "+-------+-----+-------------+-------+---------+----------+----------+----------+------+--------+\n",
      "|IdVenta|Fecha|Fecha_Entrega|IdCanal|IdCliente|IdSucursal|IdEmpleado|IdProducto|Precio|Cantidad|\n",
      "+-------+-----+-------------+-------+---------+----------+----------+----------+------+--------+\n",
      "+-------+-----+-------------+-------+---------+----------+----------+----------+------+--------+\n",
      "\n"
     ]
    }
   ],
   "source": [
    "codigos_anomalias = [42802, 42803, 42804, 42805, 42806, 42807, 42808, 42809]\n",
    "venta.filter(venta.IdProducto.isin(codigos_anomalias)).show()"
   ]
  },
  {
   "cell_type": "markdown",
   "metadata": {},
   "source": [
    "Al no tener ventas estos Productos con Fuertes Anomalias y sin Descripcion puedo eliminarlos"
   ]
  },
  {
   "cell_type": "code",
   "execution_count": 10,
   "metadata": {},
   "outputs": [],
   "source": [
    "del venta"
   ]
  },
  {
   "cell_type": "code",
   "execution_count": 11,
   "metadata": {},
   "outputs": [
    {
     "name": "stdout",
     "output_type": "stream",
     "text": [
      "+-----------+---------+----+------------+\n",
      "|ID_PRODUCTO| Concepto|Tipo|      Precio|\n",
      "+-----------+---------+----+------------+\n",
      "|      42802|Producto1|NULL|         0.0|\n",
      "|      42803|Producto2|NULL|2.44444442E8|\n",
      "|      42804|Producto3|NULL|2.44444442E8|\n",
      "|      42805|Producto4|NULL|2.44444442E8|\n",
      "|      42806|Producto5|NULL|         0.0|\n",
      "|      42807|Producto6|NULL|         0.0|\n",
      "|      42808|Producto7|NULL|2.44444442E8|\n",
      "|      42809|Producto8|NULL|         0.0|\n",
      "+-----------+---------+----+------------+\n",
      "\n"
     ]
    }
   ],
   "source": [
    "producto.filter(producto.ID_PRODUCTO.isin(codigos_anomalias)).show()"
   ]
  },
  {
   "cell_type": "code",
   "execution_count": 12,
   "metadata": {},
   "outputs": [],
   "source": [
    "producto = producto.filter(~producto.ID_PRODUCTO.isin(codigos_anomalias))"
   ]
  },
  {
   "cell_type": "code",
   "execution_count": 13,
   "metadata": {},
   "outputs": [
    {
     "name": "stdout",
     "output_type": "stream",
     "text": [
      "+-----------+--------+----+------+\n",
      "|ID_PRODUCTO|Concepto|Tipo|Precio|\n",
      "+-----------+--------+----+------+\n",
      "+-----------+--------+----+------+\n",
      "\n"
     ]
    }
   ],
   "source": [
    "producto.filter(producto.ID_PRODUCTO.isin(codigos_anomalias)).show()"
   ]
  },
  {
   "cell_type": "code",
   "execution_count": 14,
   "metadata": {},
   "outputs": [],
   "source": [
    "del codigos_anomalias"
   ]
  },
  {
   "cell_type": "markdown",
   "metadata": {},
   "source": [
    "***\n",
    "Buscando Valores Faltantes"
   ]
  },
  {
   "cell_type": "code",
   "execution_count": 15,
   "metadata": {},
   "outputs": [
    {
     "name": "stdout",
     "output_type": "stream",
     "text": [
      "+-----------+--------+----+------+\n",
      "|ID_PRODUCTO|Concepto|Tipo|Precio|\n",
      "+-----------+--------+----+------+\n",
      "|          0|       0|   4|     0|\n",
      "+-----------+--------+----+------+\n",
      "\n"
     ]
    }
   ],
   "source": [
    "# Contar valores nulos por columna\n",
    "null_counts = producto.agg(*[count(when(isnull(c), c)).alias(c) for c in producto.columns])\n",
    "\n",
    "null_counts.show()"
   ]
  },
  {
   "cell_type": "markdown",
   "metadata": {},
   "source": [
    "*** \n",
    "Reemplazando Valores Faltantes"
   ]
  },
  {
   "cell_type": "code",
   "execution_count": 16,
   "metadata": {},
   "outputs": [],
   "source": [
    "# REEMPLAZA LOS VALORES FALTANTES DE LA COLUMNA TIPO CON LA PALABRA `VARIOS`\n",
    "producto = producto.fillna({'Tipo': 'VARIOS'})"
   ]
  },
  {
   "cell_type": "code",
   "execution_count": 17,
   "metadata": {},
   "outputs": [
    {
     "name": "stdout",
     "output_type": "stream",
     "text": [
      "+-----------+--------+----+------+\n",
      "|ID_PRODUCTO|Concepto|Tipo|Precio|\n",
      "+-----------+--------+----+------+\n",
      "|          0|       0|   0|     0|\n",
      "+-----------+--------+----+------+\n",
      "\n"
     ]
    }
   ],
   "source": [
    "# VERIFICO QUE NO QUEDO NULOS\n",
    "null_counts = producto.agg(*[count(when(isnull(c), c)).alias(c) for c in producto.columns]).show()"
   ]
  },
  {
   "cell_type": "code",
   "execution_count": 18,
   "metadata": {},
   "outputs": [],
   "source": [
    "del null_counts"
   ]
  },
  {
   "cell_type": "markdown",
   "metadata": {},
   "source": [
    "Creo el Dataframe tipo_producto que luego será vaciado en la Tabla `tipo_producto`"
   ]
  },
  {
   "cell_type": "code",
   "execution_count": 19,
   "metadata": {},
   "outputs": [
    {
     "name": "stdout",
     "output_type": "stream",
     "text": [
      "+--------------+------------+\n",
      "|IdTipoProducto|TipoProducto|\n",
      "+--------------+------------+\n",
      "|             1|      VARIOS|\n",
      "|             2|      GAMING|\n",
      "|             3|       BASES|\n",
      "|             4|    LIMPIEZA|\n",
      "|             5| INFORMATICA|\n",
      "|             6|   IMPRESIÓN|\n",
      "|             7|       AUDIO|\n",
      "|             8|  ESTUCHERIA|\n",
      "|             9|   GRABACION|\n",
      "|            10|   GABINETES|\n",
      "+--------------+------------+\n",
      "\n"
     ]
    }
   ],
   "source": [
    "tipo_producto = producto.select(producto['Tipo']).distinct()\n",
    "\n",
    "# Agregar una columna con un ID único e incremental le sumo 1 para comenzar desde 1 y no de 0\n",
    "tipo_producto = tipo_producto.withColumn('IdTipoProducto', monotonically_increasing_id()+1)\n",
    "\n",
    "# Renombro columna\n",
    "tipo_producto = tipo_producto.withColumnRenamed('Tipo', 'TipoProducto')\n",
    "tipo_producto = tipo_producto.select('IdTipoProducto', 'TipoProducto')\n",
    "tipo_producto.show()"
   ]
  },
  {
   "cell_type": "markdown",
   "metadata": {},
   "source": [
    "Ahora necesito crear la Columna IdTipoProducto en `producto`, mapeando lo que tenga en \"Tipo\" <br>\n",
    "Para mapear se trabaja Tipo SQL se crea un Join de Tablas"
   ]
  },
  {
   "cell_type": "code",
   "execution_count": 20,
   "metadata": {},
   "outputs": [],
   "source": [
    "producto_join_tipo = producto.join(tipo_producto, producto.Tipo == tipo_producto.TipoProducto)\n",
    "\n",
    "producto = producto_join_tipo.select('ID_PRODUCTO', 'Concepto', 'Precio', 'IdTipoProducto')"
   ]
  },
  {
   "cell_type": "code",
   "execution_count": 21,
   "metadata": {},
   "outputs": [
    {
     "data": {
      "text/plain": [
       "['ID_PRODUCTO', 'Concepto', 'Precio', 'IdTipoProducto']"
      ]
     },
     "execution_count": 21,
     "metadata": {},
     "output_type": "execute_result"
    }
   ],
   "source": [
    "producto.columns"
   ]
  },
  {
   "cell_type": "markdown",
   "metadata": {},
   "source": [
    "***\n",
    "Cambio Nombre de las Columnas"
   ]
  },
  {
   "cell_type": "code",
   "execution_count": 22,
   "metadata": {},
   "outputs": [
    {
     "name": "stdout",
     "output_type": "stream",
     "text": [
      "+----------+--------------------+-------+--------------+\n",
      "|IdProducto|            Producto| Precio|IdTipoProducto|\n",
      "+----------+--------------------+-------+--------------+\n",
      "|     42737|  EPSON COPYFAX 2000| 1658.0|             6|\n",
      "|     42754|MOT ASROCK H110M-...| 1237.5|             5|\n",
      "|     42755|MOT ASROCK A58M-V...|1079.32|             5|\n",
      "|     42756|  MOT ECS KAM1-I AM1| 638.66|             5|\n",
      "|     42757|MOT ASROCK B150M-...|1784.42|             5|\n",
      "+----------+--------------------+-------+--------------+\n",
      "only showing top 5 rows\n",
      "\n"
     ]
    }
   ],
   "source": [
    "producto = producto.withColumnRenamed(\"ID_PRODUCTO\", \"IdProducto\")\n",
    "producto = producto.withColumnRenamed(\"Concepto\", \"Producto\")\n",
    "producto.show(5)"
   ]
  },
  {
   "cell_type": "markdown",
   "metadata": {},
   "source": [
    "***\n",
    "Creando la Conexion"
   ]
  },
  {
   "cell_type": "code",
   "execution_count": 23,
   "metadata": {},
   "outputs": [],
   "source": [
    "engine = connec_db()"
   ]
  },
  {
   "cell_type": "markdown",
   "metadata": {},
   "source": [
    "***\n",
    "Pasando los Dataframes a Dataframes de Pandas  "
   ]
  },
  {
   "cell_type": "code",
   "execution_count": 23,
   "metadata": {},
   "outputs": [],
   "source": [
    "# IMPORTANDO LIBRERIA PANDAS\n",
    "import pandas as pd"
   ]
  },
  {
   "cell_type": "code",
   "execution_count": 24,
   "metadata": {},
   "outputs": [],
   "source": [
    "pandas_df_producto = producto.toPandas()\n",
    "pandas_df_tipo_producto = tipo_producto.toPandas()"
   ]
  },
  {
   "cell_type": "markdown",
   "metadata": {},
   "source": [
    "Creando Csv para practica"
   ]
  },
  {
   "cell_type": "code",
   "execution_count": 25,
   "metadata": {},
   "outputs": [],
   "source": [
    "pandas_df_tipo_producto.to_csv(\"csv_practica/tipo_producto.csv\", index=False)"
   ]
  },
  {
   "cell_type": "code",
   "execution_count": 26,
   "metadata": {},
   "outputs": [],
   "source": [
    "pandas_df_producto.to_csv(\"csv_practica/producto.csv\", index=False)"
   ]
  },
  {
   "cell_type": "markdown",
   "metadata": {},
   "source": [
    "***\n",
    "Vaciando el Dataframe a la Tabla `tipo_gasto`"
   ]
  },
  {
   "cell_type": "code",
   "execution_count": 26,
   "metadata": {},
   "outputs": [
    {
     "data": {
      "text/plain": [
       "10"
      ]
     },
     "execution_count": 26,
     "metadata": {},
     "output_type": "execute_result"
    }
   ],
   "source": [
    "pandas_df_tipo_producto.to_sql(name=\"tipo_producto\", con=engine, index=False, if_exists=\"append\")"
   ]
  },
  {
   "cell_type": "code",
   "execution_count": 27,
   "metadata": {},
   "outputs": [
    {
     "data": {
      "text/plain": [
       "283"
      ]
     },
     "execution_count": 27,
     "metadata": {},
     "output_type": "execute_result"
    }
   ],
   "source": [
    "pandas_df_producto.to_sql(name=\"producto\", con=engine, index=False, if_exists=\"append\")"
   ]
  },
  {
   "cell_type": "code",
   "execution_count": 4,
   "metadata": {},
   "outputs": [],
   "source": [
    "spark.stop()"
   ]
  }
 ],
 "metadata": {
  "kernelspec": {
   "display_name": "base",
   "language": "python",
   "name": "python3"
  },
  "language_info": {
   "codemirror_mode": {
    "name": "ipython",
    "version": 3
   },
   "file_extension": ".py",
   "mimetype": "text/x-python",
   "name": "python",
   "nbconvert_exporter": "python",
   "pygments_lexer": "ipython3",
   "version": "3.11.6"
  }
 },
 "nbformat": 4,
 "nbformat_minor": 2
}
