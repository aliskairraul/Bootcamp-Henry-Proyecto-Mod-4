{
 "cells": [
  {
   "cell_type": "markdown",
   "metadata": {},
   "source": [
    "#### NOTA: En este cuaderno se creara las Tablas `tipo_gasto` del Datawarehouse"
   ]
  },
  {
   "cell_type": "markdown",
   "metadata": {},
   "source": [
    "***\n",
    "### Importando Librerias"
   ]
  },
  {
   "cell_type": "code",
   "execution_count": 1,
   "metadata": {},
   "outputs": [],
   "source": [
    "from pyspark.sql import SparkSession"
   ]
  },
  {
   "cell_type": "markdown",
   "metadata": {},
   "source": [
    "***\n",
    "Creando Session de Spark"
   ]
  },
  {
   "cell_type": "code",
   "execution_count": 2,
   "metadata": {},
   "outputs": [],
   "source": [
    "spark = SparkSession.builder \\\n",
    "    .appName('tipo_gasto') \\\n",
    "    .config('spark.ui.enabled', 'true') \\\n",
    "    .getOrCreate()"
   ]
  },
  {
   "cell_type": "markdown",
   "metadata": {},
   "source": [
    "***\n",
    "Importando Conexion a Contenedor `mod4_mysql`"
   ]
  },
  {
   "cell_type": "code",
   "execution_count": 3,
   "metadata": {},
   "outputs": [],
   "source": [
    "from db.connection import connec_db"
   ]
  },
  {
   "cell_type": "markdown",
   "metadata": {},
   "source": [
    "***\n",
    "Trabajando La Tabla `tipo_gasto`"
   ]
  },
  {
   "cell_type": "code",
   "execution_count": 4,
   "metadata": {},
   "outputs": [],
   "source": [
    "tipo_gasto = spark.read.csv(\"Data/TiposDeGasto.csv\", sep=\",\", header=True, inferSchema=True)"
   ]
  },
  {
   "cell_type": "markdown",
   "metadata": {},
   "source": [
    "***\n",
    "Visualizando como vienen los Datos"
   ]
  },
  {
   "cell_type": "code",
   "execution_count": 5,
   "metadata": {},
   "outputs": [
    {
     "name": "stdout",
     "output_type": "stream",
     "text": [
      "+-----------+------------------+----------------+\n",
      "|IdTipoGasto|       Descripcion|Monto_Aproximado|\n",
      "+-----------+------------------+----------------+\n",
      "|          1|          Alquiler|            1000|\n",
      "|          2|         Servicios|             300|\n",
      "|          3|         Impuestos|             100|\n",
      "|          4|Sueldos y Jornales|            1000|\n",
      "+-----------+------------------+----------------+\n",
      "\n"
     ]
    }
   ],
   "source": [
    "tipo_gasto.show()"
   ]
  },
  {
   "cell_type": "markdown",
   "metadata": {},
   "source": [
    "***\n",
    "Visualizando la Inferencia del Schema"
   ]
  },
  {
   "cell_type": "code",
   "execution_count": 6,
   "metadata": {},
   "outputs": [
    {
     "name": "stdout",
     "output_type": "stream",
     "text": [
      "root\n",
      " |-- IdTipoGasto: integer (nullable = true)\n",
      " |-- Descripcion: string (nullable = true)\n",
      " |-- Monto_Aproximado: integer (nullable = true)\n",
      "\n"
     ]
    }
   ],
   "source": [
    "tipo_gasto.printSchema()"
   ]
  },
  {
   "cell_type": "markdown",
   "metadata": {},
   "source": [
    "***\n",
    "Cambio Nombre de las Columnas"
   ]
  },
  {
   "cell_type": "code",
   "execution_count": 7,
   "metadata": {},
   "outputs": [
    {
     "name": "stdout",
     "output_type": "stream",
     "text": [
      "+-----------+------------------+---------------+\n",
      "|IdTipoGasto|         TipoGasto|MontoAproximado|\n",
      "+-----------+------------------+---------------+\n",
      "|          1|          Alquiler|           1000|\n",
      "|          2|         Servicios|            300|\n",
      "|          3|         Impuestos|            100|\n",
      "|          4|Sueldos y Jornales|           1000|\n",
      "+-----------+------------------+---------------+\n",
      "\n"
     ]
    }
   ],
   "source": [
    "tipo_gasto = tipo_gasto.withColumnRenamed(\"Descripcion\", \"TipoGasto\")\n",
    "tipo_gasto = tipo_gasto.withColumnRenamed(\"Monto_Aproximado\", \"MontoAproximado\")\n",
    "tipo_gasto.show()"
   ]
  },
  {
   "cell_type": "markdown",
   "metadata": {},
   "source": [
    "***\n",
    "Creando la Conexion"
   ]
  },
  {
   "cell_type": "code",
   "execution_count": 8,
   "metadata": {},
   "outputs": [],
   "source": [
    "engine = connec_db()"
   ]
  },
  {
   "cell_type": "markdown",
   "metadata": {},
   "source": [
    "***\n",
    "Pasando el Dataframe a un Pandas.Dataframe  "
   ]
  },
  {
   "cell_type": "code",
   "execution_count": 11,
   "metadata": {},
   "outputs": [],
   "source": [
    "# IMPORTANDO LIBRERIA PANDAS\n",
    "import pandas as pd"
   ]
  },
  {
   "cell_type": "code",
   "execution_count": 12,
   "metadata": {},
   "outputs": [],
   "source": [
    "pandas_df = tipo_gasto.toPandas()"
   ]
  },
  {
   "cell_type": "code",
   "execution_count": 13,
   "metadata": {},
   "outputs": [],
   "source": [
    "pandas_df.to_csv(\"csv_practica/tipo_gasto.csv\", index=False)"
   ]
  },
  {
   "cell_type": "markdown",
   "metadata": {},
   "source": [
    "***\n",
    "Vaciando el Dataframe a la Tabla `tipo_gasto`"
   ]
  },
  {
   "cell_type": "code",
   "execution_count": 11,
   "metadata": {},
   "outputs": [
    {
     "data": {
      "text/plain": [
       "4"
      ]
     },
     "execution_count": 11,
     "metadata": {},
     "output_type": "execute_result"
    }
   ],
   "source": [
    "pandas_df.to_sql(name=\"tipo_gasto\", con=engine, index=False, if_exists=\"append\")"
   ]
  },
  {
   "cell_type": "code",
   "execution_count": 12,
   "metadata": {},
   "outputs": [],
   "source": [
    "spark.stop()"
   ]
  }
 ],
 "metadata": {
  "kernelspec": {
   "display_name": "base",
   "language": "python",
   "name": "python3"
  },
  "language_info": {
   "codemirror_mode": {
    "name": "ipython",
    "version": 3
   },
   "file_extension": ".py",
   "mimetype": "text/x-python",
   "name": "python",
   "nbconvert_exporter": "python",
   "pygments_lexer": "ipython3",
   "version": "3.11.6"
  }
 },
 "nbformat": 4,
 "nbformat_minor": 2
}
