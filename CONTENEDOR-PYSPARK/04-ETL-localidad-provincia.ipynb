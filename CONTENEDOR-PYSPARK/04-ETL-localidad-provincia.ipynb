{
 "cells": [
  {
   "cell_type": "markdown",
   "metadata": {},
   "source": [
    "#### NOTA: En este cuaderno se crearan las Tablas `localidad`, `provincia`, <br> `proveedor`, `cliente` y `sucursal` del Datawarehouse"
   ]
  },
  {
   "cell_type": "markdown",
   "metadata": {},
   "source": [
    "***\n",
    "### Importando Librerias"
   ]
  },
  {
   "cell_type": "code",
   "execution_count": 1,
   "metadata": {},
   "outputs": [],
   "source": [
    "from pyspark.sql import SparkSession\n",
    "from pyspark.sql.types import IntegerType, FloatType"
   ]
  },
  {
   "cell_type": "code",
   "execution_count": 2,
   "metadata": {},
   "outputs": [],
   "source": [
    "from pyspark.sql.functions import count, when, isnull, monotonically_increasing_id, initcap\n",
    "from pyspark.sql.functions import initcap, when, col, regexp_replace, coalesce, avg"
   ]
  },
  {
   "cell_type": "markdown",
   "metadata": {},
   "source": [
    "***\n",
    "Creando Session de Spark"
   ]
  },
  {
   "cell_type": "code",
   "execution_count": 3,
   "metadata": {},
   "outputs": [],
   "source": [
    "spark = SparkSession.builder.appName('localidad-provincia-etc').getOrCreate()"
   ]
  },
  {
   "cell_type": "markdown",
   "metadata": {},
   "source": [
    "***\n",
    "Importando Conexion a Contenedor `mod4_mysql`"
   ]
  },
  {
   "cell_type": "code",
   "execution_count": 4,
   "metadata": {},
   "outputs": [],
   "source": [
    "from db.connection import connec_db"
   ]
  },
  {
   "cell_type": "markdown",
   "metadata": {},
   "source": [
    "***\n",
    "Trabajando Las Tablas `proveedor`, `sucursal` y `cliente` "
   ]
  },
  {
   "cell_type": "code",
   "execution_count": 4,
   "metadata": {},
   "outputs": [],
   "source": [
    "proveedor = spark.read.csv(\"Data/Proveedores.csv\", sep=\",\", header=True, inferSchema=True)"
   ]
  },
  {
   "cell_type": "code",
   "execution_count": 5,
   "metadata": {},
   "outputs": [],
   "source": [
    "sucursal = spark.read.csv(\"Data/Sucursales.csv\", sep=\";\", header=True, inferSchema=True)"
   ]
  },
  {
   "cell_type": "code",
   "execution_count": 6,
   "metadata": {},
   "outputs": [],
   "source": [
    "cliente = spark.read.csv(\"Data/Clientes.csv\", sep=\";\", header=True, inferSchema=True)"
   ]
  },
  {
   "cell_type": "markdown",
   "metadata": {},
   "source": [
    "***\n",
    "Visualizando como vienen los Datos"
   ]
  },
  {
   "cell_type": "code",
   "execution_count": 7,
   "metadata": {},
   "outputs": [
    {
     "name": "stdout",
     "output_type": "stream",
     "text": [
      "+-----------+-------------------+--------------------+----------------+------------+---------+----------+\n",
      "|IDProveedor|             Nombre|             Address|            City|       State|  Country|departamen|\n",
      "+-----------+-------------------+--------------------+----------------+------------+---------+----------+\n",
      "|          1|               NULL|     BEREGUESTEIN 36|      AVELLANEDA|BUENOS AIRES|ARGENTINA|AVELLANEDA|\n",
      "|          2|         San Cirano|         ALBERTI 965|CORONEL BRANDSEN|BUENOS AIRES|ARGENTINA|  BRANDSEN|\n",
      "|          3|          Bell S.A.|          MORENO 331|         CAMPANA|BUENOS AIRES|ARGENTINA|   CAMPANA|\n",
      "|          4|     Rivero Insumos|     PTE. PERON 3872| VALENTIN ALSINA|BUENOS AIRES|ARGENTINA|     LANUS|\n",
      "|          5|Laprida Computacion|AVDA. PEDRO PEREY...|         LAPRIDA|BUENOS AIRES|ARGENTINA|   LAPRIDA|\n",
      "+-----------+-------------------+--------------------+----------------+------------+---------+----------+\n",
      "only showing top 5 rows\n",
      "\n"
     ]
    }
   ],
   "source": [
    "proveedor.show(5)"
   ]
  },
  {
   "cell_type": "code",
   "execution_count": 8,
   "metadata": {},
   "outputs": [
    {
     "name": "stdout",
     "output_type": "stream",
     "text": [
      "+---+----------+--------------------+--------------------+--------------------+-----------+-----------+\n",
      "| ID|  Sucursal|           Direccion|           Localidad|           Provincia|    Latitud|   Longitud|\n",
      "+---+----------+--------------------+--------------------+--------------------+-----------+-----------+\n",
      "|  1|   Cabildo|    Av. Cabildo 1342|Ciudad de Buenos ...|Ciudad de Buenos ...|-34,5678060|-58,4495720|\n",
      "|  2| Palermo 1|      Guatemala 5701|                CABA|                CABA|-34,5790350|-58,4335660|\n",
      "|  3| Palermo 2|Gral. Lucio Norbe...|                CABA|    C deBuenos Aires|-34,5959660|-58,4051500|\n",
      "|  4|Corrientes| Av. Corrientes 2352|Ciudad de Buenos ...|               Bs As|-34,6046850|-58,3987640|\n",
      "|  5|   Almagro|      Venezuela 3650|             Capital|             Bs.As. |-34,6173080|-58,4161790|\n",
      "+---+----------+--------------------+--------------------+--------------------+-----------+-----------+\n",
      "only showing top 5 rows\n",
      "\n"
     ]
    }
   ],
   "source": [
    "sucursal.show(5)\n"
   ]
  },
  {
   "cell_type": "code",
   "execution_count": 9,
   "metadata": {},
   "outputs": [
    {
     "name": "stdout",
     "output_type": "stream",
     "text": [
      "+---+------------+--------------------+--------------------+--------+----+-------------------+------------+------------+----------+------------+-------------------------+---------------------------+----------+-----+\n",
      "| ID|   Provincia|   Nombre_y_Apellido|           Domicilio|Telefono|Edad|          Localidad|           X|           Y|Fecha_Alta|Usuario_Alta|Fecha_Ultima_Modificacion|Usuario_Ultima_Modificacion|Marca_Baja|col10|\n",
      "+---+------------+--------------------+--------------------+--------+----+-------------------+------------+------------+----------+------------+-------------------------+---------------------------+----------+-----+\n",
      "|  1|Buenos Aires|  HEBER JONI SANTANA|LAS HERAS Y BAT. ...| 42-5161|  58|         LOMA VERDE|-58,81850307|-34,30997088|2015-01-01|       user1|               2015-01-01|                      user1|         0| NULL|\n",
      "|  2|Buenos Aires|         ANA SAPRIZA|PUEYRREDON Y DUPU...| 49-7578|  61|         SANTA ROSA|-58,73073751|-34,93908311|2015-01-01|       user1|               2015-01-01|                      user1|         0| NULL|\n",
      "|  3|Buenos Aires|FERNANDO LUIS SAR...|CALDERON DE LA BA...| 49-3435|  15|             TORRES|-59,12794068|-34,43082199|2015-01-01|       user1|               2015-01-01|                      user1|         0| NULL|\n",
      "|  4|Buenos Aires|    MANUELA SARASOLA|RUTA 36 KM 45,500...| 49-2883|  29|           RUTA SOL|-58,14393954|-34,92052706|2015-01-01|       user1|               2015-01-01|                      user1|         0| NULL|\n",
      "|  5|Buenos Aires|  MARIO RAÚL SARASUA|492 Y 186 S/N  CO...|491-4608|  34|JOSE MELCHOR ROMERO|  -58,089381| -34,9444471|2015-01-01|       user1|               2015-01-01|                      user1|         0| NULL|\n",
      "+---+------------+--------------------+--------------------+--------+----+-------------------+------------+------------+----------+------------+-------------------------+---------------------------+----------+-----+\n",
      "only showing top 5 rows\n",
      "\n"
     ]
    }
   ],
   "source": [
    "cliente.show(5)"
   ]
  },
  {
   "cell_type": "markdown",
   "metadata": {},
   "source": [
    "***\n",
    "Visualizando la Inferencia de los Schemas"
   ]
  },
  {
   "cell_type": "code",
   "execution_count": 11,
   "metadata": {},
   "outputs": [
    {
     "name": "stdout",
     "output_type": "stream",
     "text": [
      "root\n",
      " |-- IDProveedor: integer (nullable = true)\n",
      " |-- Nombre: string (nullable = true)\n",
      " |-- Address: string (nullable = true)\n",
      " |-- City: string (nullable = true)\n",
      " |-- State: string (nullable = true)\n",
      " |-- Country: string (nullable = true)\n",
      " |-- departamen: string (nullable = true)\n",
      "\n"
     ]
    }
   ],
   "source": [
    "proveedor.printSchema()"
   ]
  },
  {
   "cell_type": "code",
   "execution_count": 12,
   "metadata": {},
   "outputs": [
    {
     "name": "stdout",
     "output_type": "stream",
     "text": [
      "root\n",
      " |-- ID: integer (nullable = true)\n",
      " |-- Sucursal: string (nullable = true)\n",
      " |-- Direccion: string (nullable = true)\n",
      " |-- Localidad: string (nullable = true)\n",
      " |-- Provincia: string (nullable = true)\n",
      " |-- Latitud: string (nullable = true)\n",
      " |-- Longitud: string (nullable = true)\n",
      "\n"
     ]
    }
   ],
   "source": [
    "sucursal.printSchema()"
   ]
  },
  {
   "cell_type": "code",
   "execution_count": 13,
   "metadata": {},
   "outputs": [
    {
     "name": "stdout",
     "output_type": "stream",
     "text": [
      "root\n",
      " |-- ID: integer (nullable = true)\n",
      " |-- Provincia: string (nullable = true)\n",
      " |-- Nombre_y_Apellido: string (nullable = true)\n",
      " |-- Domicilio: string (nullable = true)\n",
      " |-- Telefono: string (nullable = true)\n",
      " |-- Edad: integer (nullable = true)\n",
      " |-- Localidad: string (nullable = true)\n",
      " |-- X: string (nullable = true)\n",
      " |-- Y: string (nullable = true)\n",
      " |-- Fecha_Alta: date (nullable = true)\n",
      " |-- Usuario_Alta: string (nullable = true)\n",
      " |-- Fecha_Ultima_Modificacion: date (nullable = true)\n",
      " |-- Usuario_Ultima_Modificacion: string (nullable = true)\n",
      " |-- Marca_Baja: integer (nullable = true)\n",
      " |-- col10: string (nullable = true)\n",
      "\n"
     ]
    }
   ],
   "source": [
    "cliente.printSchema()"
   ]
  },
  {
   "cell_type": "markdown",
   "metadata": {},
   "source": [
    "***\n",
    "Llevando Campos a Letra Capital"
   ]
  },
  {
   "cell_type": "code",
   "execution_count": 10,
   "metadata": {},
   "outputs": [],
   "source": [
    "# TABLA cliente\n",
    "cliente = cliente.withColumn('Localidad', initcap('Localidad'))\n",
    "cliente = cliente.withColumn('Provincia', initcap('Provincia'))\n",
    "cliente = cliente.withColumn('Domicilio', initcap('Domicilio'))\n",
    "cliente = cliente.withColumn('Nombre_y_Apellido', initcap('Nombre_y_Apellido'))\n",
    "\n",
    "# TABLA sucursal\n",
    "sucursal = sucursal.withColumn('Localidad', initcap('Localidad'))\n",
    "sucursal = sucursal.withColumn('Provincia', initcap('Provincia'))\n",
    "sucursal = sucursal.withColumn('Direccion', initcap('Direccion'))\n",
    "\n",
    "# TABLA proveedor\n",
    "proveedor = proveedor.withColumn('Address', initcap('Address'))\n",
    "proveedor = proveedor.withColumn('City', initcap('City'))\n",
    "proveedor = proveedor.withColumn('State', initcap('State'))\n",
    "proveedor = proveedor.withColumn('Country', initcap('Country'))\n",
    "proveedor = proveedor.withColumn('departamen', initcap('departamen'))"
   ]
  },
  {
   "cell_type": "code",
   "execution_count": 11,
   "metadata": {},
   "outputs": [
    {
     "name": "stdout",
     "output_type": "stream",
     "text": [
      "+---+------------+------------------+--------------------+--------+----+----------+------------+------------+----------+------------+-------------------------+---------------------------+----------+-----+\n",
      "| ID|   Provincia| Nombre_y_Apellido|           Domicilio|Telefono|Edad| Localidad|           X|           Y|Fecha_Alta|Usuario_Alta|Fecha_Ultima_Modificacion|Usuario_Ultima_Modificacion|Marca_Baja|col10|\n",
      "+---+------------+------------------+--------------------+--------+----+----------+------------+------------+----------+------------+-------------------------+---------------------------+----------+-----+\n",
      "|  1|Buenos Aires|Heber Joni Santana|Las Heras Y Bat. ...| 42-5161|  58|Loma Verde|-58,81850307|-34,30997088|2015-01-01|       user1|               2015-01-01|                      user1|         0| NULL|\n",
      "+---+------------+------------------+--------------------+--------+----+----------+------------+------------+----------+------------+-------------------------+---------------------------+----------+-----+\n",
      "only showing top 1 row\n",
      "\n",
      "+---+--------+----------------+--------------------+--------------------+-----------+-----------+\n",
      "| ID|Sucursal|       Direccion|           Localidad|           Provincia|    Latitud|   Longitud|\n",
      "+---+--------+----------------+--------------------+--------------------+-----------+-----------+\n",
      "|  1| Cabildo|Av. Cabildo 1342|Ciudad De Buenos ...|Ciudad De Buenos ...|-34,5678060|-58,4495720|\n",
      "+---+--------+----------------+--------------------+--------------------+-----------+-----------+\n",
      "only showing top 1 row\n",
      "\n",
      "+-----------+------+---------------+----------+------------+---------+----------+\n",
      "|IDProveedor|Nombre|        Address|      City|       State|  Country|departamen|\n",
      "+-----------+------+---------------+----------+------------+---------+----------+\n",
      "|          1|  NULL|Bereguestein 36|Avellaneda|Buenos Aires|Argentina|Avellaneda|\n",
      "+-----------+------+---------------+----------+------------+---------+----------+\n",
      "only showing top 1 row\n",
      "\n"
     ]
    }
   ],
   "source": [
    "cliente.show(1)\n",
    "sucursal.show(1)\n",
    "proveedor.show(1)"
   ]
  },
  {
   "cell_type": "markdown",
   "metadata": {},
   "source": [
    "***\n",
    "Normalizacion de \"Buenos Aires\", \"Córdoba\" y \"Capital Federal\" y \"Río Negro\" en los campos  `Localidad` y `Provincia` Tomar en cuenta que en la Tabla proveedor esos campos todavía se llaman `City` y `State`"
   ]
  },
  {
   "cell_type": "code",
   "execution_count": 12,
   "metadata": {},
   "outputs": [],
   "source": [
    "reemplazar_1 = [\n",
    "    \"Bs.as. \",\n",
    "    \"B.aires\",\n",
    "    \"B. Aires\",\n",
    "    \"B.Aires\",\n",
    "    \" Bs.As.\",\n",
    "    \"Bs.As. \",\n",
    "    \"Bs As\",\n",
    "    \"Bs.As.\",\n",
    "    \"Buenos Aires\",\n",
    "    \"C Debuenos Aires\",\n",
    "    \"Caba\",\n",
    "    \"Cdad De Buenos Aires\",\n",
    "    \"Ciudad de Buenos Aires\",\n",
    "    \"Ciudad De Buenos Aires\",\n",
    "    \"Cdad de Buenos Aires\",\n",
    "    \"Pcia Bs AS\",\n",
    "    \"Pcia Bs As\",\n",
    "    \"Prov de Bs As.\",\n",
    "    \"Prov De Bs As.\",\n",
    "    \"Prov de Buenos Aires.\",\n",
    "    \"Provincia de Buenos Aires\",\n",
    "    \"Provincia De Buenos Aires\",\n",
    "    \"CABA\",\n",
    "    \"C deBuenos Aires\"]\n",
    "# Se reemplazaran por \"Buenos Aires\"\n",
    "\n",
    "reemplazar_2 = [\"Coroba\", \"Cordoba\",  \"Cã³rdoba\"]\n",
    "# Se reemplazaran por \"Córdoba\"\n",
    "\n",
    "reemplazar_3 = [\n",
    "    \"Boca De Atencion Monte Castro\",\n",
    "    \"Cap.   Federal\",\n",
    "    \"Cap. Fed.\",\n",
    "    \"Capfed\",\n",
    "    \"CapFed\",\n",
    "    \"Cap. Fed.\",\n",
    "    \"Cap. Federal\",\n",
    "    \"Capital\"\n",
    "]\n",
    "# Se reemplazaran por \"Capital Federal\"\n",
    "\n",
    "reemplazar_4 = [\"Rio Negro\"]\n",
    "# Se reemplazara por \"Río Negro\""
   ]
  },
  {
   "cell_type": "markdown",
   "metadata": {},
   "source": [
    "Normalizando Buenos Aires"
   ]
  },
  {
   "cell_type": "code",
   "execution_count": 13,
   "metadata": {},
   "outputs": [],
   "source": [
    "# TABLA `sucursal`\n",
    "sucursal = sucursal.withColumn('Localidad', when(col('Localidad')\\\n",
    "                               .isin(reemplazar_1), 'Buenos Aires')\\\n",
    "                               .otherwise(col('Localidad')))\n",
    "\n",
    "sucursal = sucursal.withColumn('Provincia', when(col('Provincia')\\\n",
    "                               .isin(reemplazar_1), 'Buenos Aires')\\\n",
    "                               .otherwise(col('Provincia')))\n",
    "\n",
    "# TABLA `cliente`\n",
    "cliente = cliente.withColumn('Localidad', when(col('Localidad')\\\n",
    "                               .isin(reemplazar_1), 'Buenos Aires')\\\n",
    "                               .otherwise(col('Localidad')))\n",
    "\n",
    "cliente = cliente.withColumn('Provincia', when(col('Provincia')\\\n",
    "                               .isin(reemplazar_1), 'Buenos Aires')\\\n",
    "                               .otherwise(col('Provincia')))\n",
    "\n",
    "# TABLA `proveedor`\n",
    "proveedor = proveedor.withColumn('City', when(col('City')\\\n",
    "                               .isin(reemplazar_1), 'Buenos Aires')\\\n",
    "                               .otherwise(col('City')))\n",
    "\n",
    "proveedor = proveedor.withColumn('State', when(col('State')\\\n",
    "                               .isin(reemplazar_1), 'Buenos Aires')\\\n",
    "                               .otherwise(col('State')))\n"
   ]
  },
  {
   "cell_type": "markdown",
   "metadata": {},
   "source": [
    "Normalizando Córdoba"
   ]
  },
  {
   "cell_type": "code",
   "execution_count": 14,
   "metadata": {},
   "outputs": [],
   "source": [
    "\n",
    "# TABLA `sucursal`\n",
    "sucursal = sucursal.withColumn('Localidad', when(col('Localidad')\\\n",
    "                               .isin(reemplazar_2), 'Córdoba')\\\n",
    "                               .otherwise(col('Localidad')))\n",
    "\n",
    "sucursal = sucursal.withColumn('Provincia', when(col('Provincia')\\\n",
    "                               .isin(reemplazar_2), 'Córdoba')\\\n",
    "                               .otherwise(col('Provincia')))\n",
    "\n",
    "# TABLA `cliente`\n",
    "cliente = cliente.withColumn('Localidad', when(col('Localidad')\\\n",
    "                               .isin(reemplazar_2), 'Córdoba')\\\n",
    "                               .otherwise(col('Localidad')))\n",
    "\n",
    "cliente = cliente.withColumn('Provincia', when(col('Provincia')\\\n",
    "                               .isin(reemplazar_2), 'Córdoba')\\\n",
    "                               .otherwise(col('Provincia')))\n",
    "\n",
    "# TABLA `proveedor`\n",
    "proveedor = proveedor.withColumn('City', when(col('City')\\\n",
    "                               .isin(reemplazar_2), 'Córdoba')\\\n",
    "                               .otherwise(col('City')))\n",
    "\n",
    "proveedor = proveedor.withColumn('State', when(col('State')\\\n",
    "                               .isin(reemplazar_2), 'Córdoba')\\\n",
    "                               .otherwise(col('State')))"
   ]
  },
  {
   "cell_type": "markdown",
   "metadata": {},
   "source": [
    "Normalizando Capital Federal"
   ]
  },
  {
   "cell_type": "code",
   "execution_count": 15,
   "metadata": {},
   "outputs": [],
   "source": [
    "# TABLA `sucursal`\n",
    "sucursal = sucursal.withColumn('Localidad', when(col('Localidad')\\\n",
    "                               .isin(reemplazar_3), 'Capital Federal')\\\n",
    "                               .otherwise(col('Localidad')))\n",
    "\n",
    "sucursal = sucursal.withColumn('Provincia', when(col('Provincia')\\\n",
    "                               .isin(reemplazar_3), 'Capital Federal')\\\n",
    "                               .otherwise(col('Provincia')))\n",
    "\n",
    "# TABLA `cliente`\n",
    "cliente = cliente.withColumn('Localidad', when(col('Localidad')\\\n",
    "                               .isin(reemplazar_3), 'Capital Federal')\\\n",
    "                               .otherwise(col('Localidad')))\n",
    "\n",
    "cliente = cliente.withColumn('Provincia', when(col('Provincia')\\\n",
    "                               .isin(reemplazar_3), 'Capital Federal')\\\n",
    "                               .otherwise(col('Provincia')))\n",
    "\n",
    "# TABLA `proveedor`\n",
    "proveedor = proveedor.withColumn('City', when(col('City')\\\n",
    "                               .isin(reemplazar_3), 'Capital Federal')\\\n",
    "                               .otherwise(col('City')))\n",
    "\n",
    "proveedor = proveedor.withColumn('State', when(col('State')\\\n",
    "                               .isin(reemplazar_3), 'Capital Federal')\\\n",
    "                               .otherwise(col('State')))"
   ]
  },
  {
   "cell_type": "markdown",
   "metadata": {},
   "source": [
    "Normalizando Río Negro"
   ]
  },
  {
   "cell_type": "code",
   "execution_count": 16,
   "metadata": {},
   "outputs": [],
   "source": [
    "# TABLA `sucursal`\n",
    "sucursal = sucursal.withColumn('Localidad', when(col('Localidad')\\\n",
    "                               .isin(reemplazar_4), 'Río Negro')\\\n",
    "                               .otherwise(col('Localidad')))\n",
    "\n",
    "sucursal = sucursal.withColumn('Provincia', when(col('Provincia')\\\n",
    "                               .isin(reemplazar_4), 'Río Negro')\\\n",
    "                               .otherwise(col('Provincia')))\n",
    "\n",
    "# TABLA `cliente`\n",
    "cliente = cliente.withColumn('Localidad', when(col('Localidad')\\\n",
    "                               .isin(reemplazar_4), 'Río Negro')\\\n",
    "                               .otherwise(col('Localidad')))\n",
    "\n",
    "cliente = cliente.withColumn('Provincia', when(col('Provincia')\\\n",
    "                               .isin(reemplazar_4), 'Río Negro')\\\n",
    "                               .otherwise(col('Provincia')))\n",
    "\n",
    "# TABLA `proveedor`\n",
    "proveedor = proveedor.withColumn('City', when(col('City')\\\n",
    "                               .isin(reemplazar_4), 'Río Negro')\\\n",
    "                               .otherwise(col('City')))\n",
    "\n",
    "proveedor = proveedor.withColumn('State', when(col('State')\\\n",
    "                               .isin(reemplazar_4), 'Río Negro')\\\n",
    "                               .otherwise(col('State')))"
   ]
  },
  {
   "cell_type": "code",
   "execution_count": 17,
   "metadata": {},
   "outputs": [],
   "source": [
    "del reemplazar_1\n",
    "del reemplazar_2\n",
    "del reemplazar_3\n",
    "del reemplazar_4"
   ]
  },
  {
   "cell_type": "code",
   "execution_count": 18,
   "metadata": {},
   "outputs": [
    {
     "name": "stdout",
     "output_type": "stream",
     "text": [
      "+---+------------+------------------+--------------------+--------+----+----------+------------+------------+----------+------------+-------------------------+---------------------------+----------+-----+\n",
      "| ID|   Provincia| Nombre_y_Apellido|           Domicilio|Telefono|Edad| Localidad|           X|           Y|Fecha_Alta|Usuario_Alta|Fecha_Ultima_Modificacion|Usuario_Ultima_Modificacion|Marca_Baja|col10|\n",
      "+---+------------+------------------+--------------------+--------+----+----------+------------+------------+----------+------------+-------------------------+---------------------------+----------+-----+\n",
      "|  1|Buenos Aires|Heber Joni Santana|Las Heras Y Bat. ...| 42-5161|  58|Loma Verde|-58,81850307|-34,30997088|2015-01-01|       user1|               2015-01-01|                      user1|         0| NULL|\n",
      "+---+------------+------------------+--------------------+--------+----+----------+------------+------------+----------+------------+-------------------------+---------------------------+----------+-----+\n",
      "only showing top 1 row\n",
      "\n",
      "+---+--------+----------------+------------+------------+-----------+-----------+\n",
      "| ID|Sucursal|       Direccion|   Localidad|   Provincia|    Latitud|   Longitud|\n",
      "+---+--------+----------------+------------+------------+-----------+-----------+\n",
      "|  1| Cabildo|Av. Cabildo 1342|Buenos Aires|Buenos Aires|-34,5678060|-58,4495720|\n",
      "+---+--------+----------------+------------+------------+-----------+-----------+\n",
      "only showing top 1 row\n",
      "\n",
      "+-----------+------+---------------+----------+------------+---------+----------+\n",
      "|IDProveedor|Nombre|        Address|      City|       State|  Country|departamen|\n",
      "+-----------+------+---------------+----------+------------+---------+----------+\n",
      "|          1|  NULL|Bereguestein 36|Avellaneda|Buenos Aires|Argentina|Avellaneda|\n",
      "+-----------+------+---------------+----------+------------+---------+----------+\n",
      "only showing top 1 row\n",
      "\n"
     ]
    }
   ],
   "source": [
    "cliente.show(1)\n",
    "sucursal.show(1)\n",
    "proveedor.show(1)"
   ]
  },
  {
   "cell_type": "markdown",
   "metadata": {},
   "source": [
    "***\n",
    "Normalizando Nombre de Sucursales"
   ]
  },
  {
   "cell_type": "code",
   "execution_count": 19,
   "metadata": {},
   "outputs": [],
   "source": [
    "sucursal = sucursal.withColumn('Sucursal', when(col('Sucursal')\\\n",
    "                               .isin([\"Mendoza1\"]), 'Mendoza-1')\\\n",
    "                               .otherwise(col('Sucursal')))\n",
    "\n",
    "sucursal = sucursal.withColumn('Sucursal', when(col('Sucursal')\\\n",
    "                               .isin([\"Mendoza2\"]), 'Mendoza-2')\\\n",
    "                               .otherwise(col('Sucursal')))\n",
    "\n",
    "sucursal = sucursal.withColumn('Sucursal', when(col('Sucursal')\\\n",
    "                               .isin([\"Palermo 1\"]), 'Palermo-1')\\\n",
    "                               .otherwise(col('Sucursal')))\n",
    "\n",
    "sucursal = sucursal.withColumn('Sucursal', when(col('Sucursal')\\\n",
    "                               .isin([\"Palermo 2\"]), 'Palermo-2')\\\n",
    "                               .otherwise(col('Sucursal')))\n",
    "\n",
    "sucursal = sucursal.withColumn('Sucursal', when(col('Sucursal')\\\n",
    "                               .isin([\"MDQ1\"]), 'Mdq-1')\\\n",
    "                               .otherwise(col('Sucursal')))\n",
    "\n",
    "sucursal = sucursal.withColumn('Sucursal', when(col('Sucursal')\\\n",
    "                               .isin([\"MDQ2\"]), 'Mdq-2')\\\n",
    "                               .otherwise(col('Sucursal')))\n",
    "\n",
    "sucursal = sucursal.withColumn('Sucursal', when(col('Sucursal')\\\n",
    "                               .isin([\"Rosario1\"]), 'Rosario-1')\\\n",
    "                               .otherwise(col('Sucursal')))\n",
    "\n",
    "sucursal = sucursal.withColumn('Sucursal', when(col('Sucursal')\\\n",
    "                               .isin([\"Rosario2\"]), 'Rosario-2')\\\n",
    "                               .otherwise(col('Sucursal')))"
   ]
  },
  {
   "cell_type": "markdown",
   "metadata": {},
   "source": [
    "***\n",
    "Corrigiendo `Latitud` y `Longitud` reemplazando la `,` por `.`"
   ]
  },
  {
   "cell_type": "code",
   "execution_count": 20,
   "metadata": {},
   "outputs": [],
   "source": [
    "# TABLA sucursal\n",
    "sucursal = sucursal.withColumn('Latitud', regexp_replace('Latitud', ',', '.'))\n",
    "sucursal = sucursal.withColumn('Longitud', regexp_replace('Longitud', ',', '.'))\n",
    "# TABLA cliente\n",
    "cliente = cliente.withColumn('X', regexp_replace('X', ',', '.'))\n",
    "cliente = cliente.withColumn('Y', regexp_replace('Y', ',', '.'))"
   ]
  },
  {
   "cell_type": "markdown",
   "metadata": {},
   "source": [
    "Corrigiendo `Latitud` y `Longitud` casteando columnas al tipo float"
   ]
  },
  {
   "cell_type": "code",
   "execution_count": 21,
   "metadata": {},
   "outputs": [],
   "source": [
    "# TABLA sucursal\n",
    "sucursal = sucursal.withColumn('Latitud', sucursal['Latitud'].cast(FloatType()))\n",
    "sucursal = sucursal.withColumn('Longitud', sucursal['Longitud'].cast(FloatType()))\n",
    "# TABLA cliente\n",
    "cliente = cliente.withColumn('X', cliente['X'].cast(FloatType()))\n",
    "cliente = cliente.withColumn('Y', cliente['Y'].cast(FloatType()))"
   ]
  },
  {
   "cell_type": "code",
   "execution_count": 22,
   "metadata": {},
   "outputs": [
    {
     "name": "stdout",
     "output_type": "stream",
     "text": [
      "+---+------------+------------------+--------------------+--------+----+----------+----------+---------+----------+------------+-------------------------+---------------------------+----------+-----+\n",
      "| ID|   Provincia| Nombre_y_Apellido|           Domicilio|Telefono|Edad| Localidad|         X|        Y|Fecha_Alta|Usuario_Alta|Fecha_Ultima_Modificacion|Usuario_Ultima_Modificacion|Marca_Baja|col10|\n",
      "+---+------------+------------------+--------------------+--------+----+----------+----------+---------+----------+------------+-------------------------+---------------------------+----------+-----+\n",
      "|  1|Buenos Aires|Heber Joni Santana|Las Heras Y Bat. ...| 42-5161|  58|Loma Verde|-58.818504|-34.30997|2015-01-01|       user1|               2015-01-01|                      user1|         0| NULL|\n",
      "+---+------------+------------------+--------------------+--------+----+----------+----------+---------+----------+------------+-------------------------+---------------------------+----------+-----+\n",
      "only showing top 1 row\n",
      "\n",
      "+---+--------+----------------+------------+------------+----------+----------+\n",
      "| ID|Sucursal|       Direccion|   Localidad|   Provincia|   Latitud|  Longitud|\n",
      "+---+--------+----------------+------------+------------+----------+----------+\n",
      "|  1| Cabildo|Av. Cabildo 1342|Buenos Aires|Buenos Aires|-34.567806|-58.449574|\n",
      "+---+--------+----------------+------------+------------+----------+----------+\n",
      "only showing top 1 row\n",
      "\n",
      "+-----------+------+---------------+----------+------------+---------+----------+\n",
      "|IDProveedor|Nombre|        Address|      City|       State|  Country|departamen|\n",
      "+-----------+------+---------------+----------+------------+---------+----------+\n",
      "|          1|  NULL|Bereguestein 36|Avellaneda|Buenos Aires|Argentina|Avellaneda|\n",
      "+-----------+------+---------------+----------+------------+---------+----------+\n",
      "only showing top 1 row\n",
      "\n"
     ]
    }
   ],
   "source": [
    "cliente.show(1)\n",
    "sucursal.show(1)\n",
    "proveedor.show(1)"
   ]
  },
  {
   "cell_type": "markdown",
   "metadata": {},
   "source": [
    "***\n",
    "Buscando Valores Faltantes"
   ]
  },
  {
   "cell_type": "code",
   "execution_count": 23,
   "metadata": {},
   "outputs": [
    {
     "name": "stdout",
     "output_type": "stream",
     "text": [
      "+-----------+------+-------+----+-----+-------+----------+\n",
      "|IDProveedor|Nombre|Address|City|State|Country|departamen|\n",
      "+-----------+------+-------+----+-----+-------+----------+\n",
      "|          0|     2|      0|   0|    0|      0|         0|\n",
      "+-----------+------+-------+----+-----+-------+----------+\n",
      "\n",
      "+---+---------+-----------------+---------+--------+----+---------+---+---+----------+------------+-------------------------+---------------------------+----------+-----+\n",
      "| ID|Provincia|Nombre_y_Apellido|Domicilio|Telefono|Edad|Localidad|  X|  Y|Fecha_Alta|Usuario_Alta|Fecha_Ultima_Modificacion|Usuario_Ultima_Modificacion|Marca_Baja|col10|\n",
      "+---+---------+-----------------+---------+--------+----+---------+---+---+----------+------------+-------------------------+---------------------------+----------+-----+\n",
      "|  0|       31|               46|       48|      90|   0|       32| 62| 60|         0|           0|                        0|                          0|         0| 3407|\n",
      "+---+---------+-----------------+---------+--------+----+---------+---+---+----------+------------+-------------------------+---------------------------+----------+-----+\n",
      "\n",
      "+---+--------+---------+---------+---------+-------+--------+\n",
      "| ID|Sucursal|Direccion|Localidad|Provincia|Latitud|Longitud|\n",
      "+---+--------+---------+---------+---------+-------+--------+\n",
      "|  0|       0|        0|        0|        0|      0|       0|\n",
      "+---+--------+---------+---------+---------+-------+--------+\n",
      "\n"
     ]
    }
   ],
   "source": [
    "proveedor.agg(*[count(when(isnull(c), c)).alias(c) for c in proveedor.columns]).show()\n",
    "cliente.agg(*[count(when(isnull(c), c)).alias(c) for c in cliente.columns]).show()\n",
    "sucursal.agg(*[count(when(isnull(c), c)).alias(c) for c in sucursal.columns]).show()\n"
   ]
  },
  {
   "cell_type": "markdown",
   "metadata": {},
   "source": [
    "***\n",
    "Llenando Campos Nulos con \"Sin Dato\" o 0 segun sea el caso"
   ]
  },
  {
   "cell_type": "code",
   "execution_count": 24,
   "metadata": {},
   "outputs": [],
   "source": [
    "# TABLA cliente\n",
    "cliente = cliente.fillna({'Nombre_y_Apellido':'Sin Dato'})\n",
    "cliente = cliente.fillna({'Domicilio':'Sin Dato'})\n",
    "cliente = cliente.fillna({'Telefono':'Sin Dato'})\n",
    "cliente = cliente.fillna({'X':0})\n",
    "cliente = cliente.fillna({'Y':0})\n",
    "# TABLA proveedor\n",
    "proveedor = proveedor.fillna({'Nombre':'Sin Dato'})"
   ]
  },
  {
   "cell_type": "markdown",
   "metadata": {},
   "source": [
    "***\n",
    "Filtrar en `cliente` los registros cuya \"Localidad\" o \"Provincia\" son Nulas"
   ]
  },
  {
   "cell_type": "code",
   "execution_count": 25,
   "metadata": {},
   "outputs": [
    {
     "name": "stdout",
     "output_type": "stream",
     "text": [
      "+----+---------+--------------------+--------------------+------------+----+---------+----------+----------+----------+------------+-------------------------+---------------------------+----------+-----+\n",
      "|  ID|Provincia|   Nombre_y_Apellido|           Domicilio|    Telefono|Edad|Localidad|         X|         Y|Fecha_Alta|Usuario_Alta|Fecha_Ultima_Modificacion|Usuario_Ultima_Modificacion|Marca_Baja|col10|\n",
      "+----+---------+--------------------+--------------------+------------+----+---------+----------+----------+----------+------------+-------------------------+---------------------------+----------+-----+\n",
      "|  12|     NULL|Eduardo Vicente S...|Carlos Tejedor 44...|   4480-0769|  52|     NULL|-58.579502| -34.82788|2015-01-01|       user1|               2015-01-01|                      user1|         0| NULL|\n",
      "|  15|     NULL|Jesus Eduardo Sar...|52 Y 235 S/n  Esq...|    496-4503|  25|     NULL|-58.074615|  -35.0316|2015-01-01|       user1|               2015-01-01|                      user1|         0| NULL|\n",
      "|  20|     NULL|Andres Alberto Sc...|Ruta 15 Y 74 S/n ...|    462-0411|  24|     NULL| -57.80754| -34.89802|2015-01-01|       user1|               2015-01-01|                      user1|         0| NULL|\n",
      "| 203|     NULL|      Mercedes Trigo|      L. N. Alem 387|     47-7194|  31|     NULL| -58.38185|-34.913216|2015-01-01|       user1|               2015-01-01|                      user1|         0| NULL|\n",
      "| 206|     NULL|Silvana Maria Trotto|Godoy Cruz Y R. D...|     47-7952|  28|     NULL|-58.392345| -34.93105|2015-01-01|       user1|               2015-01-01|                      user1|         0| NULL|\n",
      "| 785|     NULL|Fernandez, Anibal...|             22 1338|    451-0607|  20|     NULL|-57.953228| -34.93741|2015-01-01|       user1|               2015-01-01|                      user1|         0| NULL|\n",
      "| 796|     NULL|   Real, Victor Hugo|     2 Bis Y 515 S/n|    471-4086|  52|     NULL|  -57.9831| -34.88246|2015-01-01|       user1|               2015-01-01|                      user1|         0| NULL|\n",
      "| 805|     NULL|      Kepa, Carlos D|   Ruta 36 Y 529 S/n|    491-6025|  45|     NULL| -58.06003| -34.97706|2015-01-01|       user1|               2015-01-01|                      user1|         0| NULL|\n",
      "| 820|     NULL|Rodriguez, Ruben ...|     7 (esq. 32) S/n|    422-4898|  43|     NULL|-57.968475|-34.900646|2015-01-01|       user1|               2015-01-01|                      user1|         0| NULL|\n",
      "| 849|     NULL|Reinel Antonio Ar...|Chiripa Y La Quer...|   4238-7458|  21|     NULL|-58.369576|   -34.819|2015-01-01|       user1|               2015-01-01|                      user1|         0| NULL|\n",
      "| 867|     NULL|Marylin Otero Acosta|Scalabrini Ortiz ...|     42-7372|  39|     NULL|-58.379105|-34.879112|2015-01-01|       user1|               2015-01-01|                      user1|         0| NULL|\n",
      "|1237|     NULL|   Martin Dibarboure| Jose Hernandez 2210|   4236-6325|  17|     NULL|-58.352013|-34.809277|2015-01-01|       user1|               2015-01-01|                      user1|         0| NULL|\n",
      "|1752|     NULL|    Rafael Paternain|Ruta Provincial 2...|    440-9043|  57|     NULL|-58.924107|-34.512684|2015-01-01|       user1|               2015-01-01|                      user1|         0| NULL|\n",
      "|1754|     NULL| Rita Beatriz Patron|Los Ceibos - Rio ...|     48-8125|  59|     NULL|-58.771492| -34.28843|2015-01-01|       user1|               2015-01-01|                      user1|         0| NULL|\n",
      "|1756|     NULL|     Ana Maria Pavon|    Ruta 8 Km 78 S/n|     47-8060|  16|     NULL|-59.134937| -34.37183|2015-01-01|       user1|               2015-01-01|                      user1|         0| NULL|\n",
      "|1811|     NULL|          Jenny Read|Luis Sironi Y Rta...|15-5341-2821|  56|     NULL|-59.040108| -34.62514|2015-01-01|       user1|               2015-01-01|                      user1|         0| NULL|\n",
      "|1826|     NULL|Alejandro Daniel ...|Rio Parana Mini S...|   4728-1891|  62|     NULL|-58.519794| -34.15111|2015-01-01|       user1|               2015-01-01|                      user1|         0| NULL|\n",
      "|1830|     NULL|  Carlos Nicolas Rey|Arroyo Caracoles ...|   4728-1918|  18|     NULL| -58.51497|-34.244064|2015-01-01|       user1|               2015-01-01|                      user1|         0| NULL|\n",
      "|1836|     NULL|       Alfredo Reyes|Rio Lujan Y Arroy...|     46-0230|  65|     NULL| -58.72165| -34.29769|2015-01-01|       user1|               2015-01-01|                      user1|         0| NULL|\n",
      "|1846|     NULL|Washington Raul R...|Ruta Nac.6 Y Ruta...| 15-524-1492|  60|     NULL|-58.229992| -35.02408|2015-01-01|       user1|               2015-01-01|                      user1|         0| NULL|\n",
      "|1871|     NULL|        Jorge Ruibal|Ruta 8 Km 85 Cuar...|     49-2278|  38|     NULL| -59.20675| -34.35546|2015-01-01|       user1|               2015-01-01|                      user1|         0| NULL|\n",
      "|2466|     NULL|Beatriz Elena Med...|Calle Publica  Co...|      449099|  52|     NULL| -64.25408|-31.318754|2015-01-01|       user1|               2015-01-01|                      user1|         0| NULL|\n",
      "|2556|     NULL|   Julio Cesar Bango|Mariano Mansilla ...|     4348386|  52|     NULL| -64.24812|-31.379189|2015-01-01|       user1|               2015-01-01|                      user1|         0| NULL|\n",
      "|2586|     NULL|   Mario Nelgar Diaz|Felix Robin Ferre...|     4347835|  45|     NULL| -64.21587|-31.414896|2015-01-01|       user1|               2015-01-01|                      user1|         0| NULL|\n",
      "|2632|     NULL|     Joaquin Picardo|Calle Publica  S....|     4344129|  43|     NULL| -64.22253|-31.452465|2015-01-01|       user1|               2015-01-01|                      user1|         0| NULL|\n",
      "|2674|     NULL|Alfredo Alberto Ruiz|Calle Publica S/n...|    15647073|  54|     NULL| -64.06719| -31.16495|2015-01-01|       user1|               2015-01-01|                      user1|         0| NULL|\n",
      "|3013|     NULL|Elber Fabian Rodr...|Sin Nombre   Prje...|    Sin Dato|  45|     NULL| -71.38852|-40.187714|2015-01-01|       user1|               2015-01-01|                      user1|         0| NULL|\n",
      "|3019|     NULL|    Nelson Rodriguez|Sin Nombre   Prje...|      491793|  28|     NULL|  -70.9261|-39.805737|2015-01-01|       user1|               2015-01-01|                      user1|         0| NULL|\n",
      "|3249|     NULL| Dardo Angel Sanchez|Ruta Prov. 304 Km...|0381-4940782|  60|     NULL| -65.13814| -26.80019|2015-01-01|       user1|               2015-01-01|                      user1|         0| NULL|\n",
      "|3301|     NULL|   Antonio Carambula|Principal S / Nº ...|    Sin Dato|  24|     NULL| -65.25759|   -26.737|2015-01-01|       user1|               2015-01-01|                      user1|         0| NULL|\n",
      "|3348|  Tucumán|Carlos Roberto Otero|Antonio De Espino...|     4395001|  27|     NULL| -65.28072| -26.84919|2015-01-01|       user1|               2015-01-01|                      user1|         0| NULL|\n",
      "|3387|     NULL|Ramon Heber Rodri...|Ruta 157 - Km. 12...|    Sin Dato|  57|     NULL| -65.25511|-26.932741|2015-01-01|       user1|               2015-01-01|                      user1|         0| NULL|\n",
      "+----+---------+--------------------+--------------------+------------+----+---------+----------+----------+----------+------------+-------------------------+---------------------------+----------+-----+\n",
      "\n"
     ]
    }
   ],
   "source": [
    "filtrados = cliente.filter(col('Localidad').isNull() | col('Provincia').isNull())\n",
    "filtrados.show(32)"
   ]
  },
  {
   "cell_type": "markdown",
   "metadata": {},
   "source": [
    "Dado que los registros cuya Localidad y/o Provincia que presentaron valores Nulos, tenían Latitud y Longitud, se buscaron aparte los Nombres de las Localidades y Provincias a las cuales pertenecian"
   ]
  },
  {
   "cell_type": "code",
   "execution_count": 26,
   "metadata": {},
   "outputs": [],
   "source": [
    "provincias_faltantes = [    \n",
    " 'Buenos Aires',\n",
    " 'Buenos Aires',\n",
    " 'Buenos Aires',\n",
    " 'Buenos Aires',\n",
    " 'Buenos Aires',\n",
    " 'Buenos Aires',\n",
    " 'Buenos Aires',\n",
    " 'Buenos Aires',\n",
    " 'Buenos Aires',\n",
    " 'Buenos Aires',\n",
    " 'Buenos Aires',\n",
    " 'Buenos Aires',\n",
    " 'Buenos Aires',\n",
    " 'Buenos Aires',\n",
    " 'Buenos Aires',\n",
    " 'Buenos Aires',\n",
    " 'Buenos Aires',\n",
    " 'Buenos Aires',\n",
    " 'Buenos Aires',\n",
    " 'Buenos Aires',\n",
    " 'Buenos Aires',\n",
    " 'Córdoba',\n",
    " 'Córdoba',\n",
    " 'Córdoba',\n",
    " 'Córdoba',\n",
    " 'Córdoba',\n",
    " 'Neuquén',\n",
    " 'Neuquén',\n",
    " 'Tucumán',\n",
    " 'Tucumán',\n",
    " 'Tucumán',\n",
    " 'Tucumán'\n",
    "]\n",
    "\n",
    "\n",
    "localidades_faltantes = [\n",
    "    'Aeropuerto Internacional Ezeiza',\n",
    "    'Ángel Etcheverry',\n",
    "    'Berisso',\n",
    "    'Guernica',\n",
    "    'Guernica',\n",
    "    'La Plata',\n",
    "    'La Plata',\n",
    "    'Abasto',\n",
    "    'La Plata',\n",
    "    'Adrogué',\n",
    "    'Adrogué',\n",
    "    'Adrogué',\n",
    "    'Pilar Sur',\n",
    "    'El Cazador',\n",
    "    'Ruta Nacional 8',\n",
    "    'Jardín de Infantes 918',\n",
    "    'Tercera Sección',\n",
    "    'San Fernando',\n",
    "    'Ruta Nacional 8',\n",
    "    'El Peligro',\n",
    "    'Ruta Nacional 8',\n",
    "    'Peña',\n",
    "    'Mariano Mansilla',\n",
    "    'José Esteban Echeverría',\n",
    "    'Hugo Juárez',\n",
    "    'Ruta Nacional 8',\n",
    "    'San Martín de los Andes',\n",
    "    'Huilqui Menuco',\n",
    "    'Alederetes',\n",
    "    'Tafí Viejo',\n",
    "    'El Manantial',\n",
    "    'Santa Bárbara'\n",
    "]"
   ]
  },
  {
   "cell_type": "markdown",
   "metadata": {},
   "source": [
    "Creo un Dataframe con los Valores Faltantes y le creo un indice autoincremental"
   ]
  },
  {
   "cell_type": "code",
   "execution_count": 27,
   "metadata": {},
   "outputs": [],
   "source": [
    "import numpy as np"
   ]
  },
  {
   "cell_type": "markdown",
   "metadata": {},
   "source": [
    "Se crea un Dataframe con las provincias y localidades faltantes con un indice de 0 a 31"
   ]
  },
  {
   "cell_type": "code",
   "execution_count": 28,
   "metadata": {},
   "outputs": [],
   "source": [
    "#Index que voy a poner a coincidir con filtrados\n",
    "indice = np.arange(32).astype(IntegerType) # el indice va de 0 a 31\n",
    "valores_faltantes_df = spark.createDataFrame(zip(indice, provincias_faltantes, localidades_faltantes),\n",
    "                                              schema=['index','prov_falta', 'loc_falta'])"
   ]
  },
  {
   "cell_type": "code",
   "execution_count": 29,
   "metadata": {},
   "outputs": [],
   "source": [
    "del indice"
   ]
  },
  {
   "cell_type": "markdown",
   "metadata": {},
   "source": [
    "Se le crea a filtrado el indice de 0 a 31 para que coincida con valores_faltantes_df"
   ]
  },
  {
   "cell_type": "code",
   "execution_count": 30,
   "metadata": {},
   "outputs": [],
   "source": [
    "filtrados = filtrados.withColumn('index', monotonically_increasing_id())"
   ]
  },
  {
   "cell_type": "markdown",
   "metadata": {},
   "source": [
    "Se unen ambos Dataframes a traves de la columna index y se borra dicha columna"
   ]
  },
  {
   "cell_type": "code",
   "execution_count": 31,
   "metadata": {},
   "outputs": [],
   "source": [
    "filtrados = filtrados.join(valores_faltantes_df, on='index').drop('index')"
   ]
  },
  {
   "cell_type": "code",
   "execution_count": 32,
   "metadata": {},
   "outputs": [
    {
     "name": "stdout",
     "output_type": "stream",
     "text": [
      "+----+---------+--------------------+--------------------+------------+----+---------+----------+----------+----------+------------+-------------------------+---------------------------+----------+-----+------------+--------------------+\n",
      "|  ID|Provincia|   Nombre_y_Apellido|           Domicilio|    Telefono|Edad|Localidad|         X|         Y|Fecha_Alta|Usuario_Alta|Fecha_Ultima_Modificacion|Usuario_Ultima_Modificacion|Marca_Baja|col10|  prov_falta|           loc_falta|\n",
      "+----+---------+--------------------+--------------------+------------+----+---------+----------+----------+----------+------------+-------------------------+---------------------------+----------+-----+------------+--------------------+\n",
      "|  12|     NULL|Eduardo Vicente S...|Carlos Tejedor 44...|   4480-0769|  52|     NULL|-58.579502| -34.82788|2015-01-01|       user1|               2015-01-01|                      user1|         0| NULL|Buenos Aires|Aeropuerto Intern...|\n",
      "|  15|     NULL|Jesus Eduardo Sar...|52 Y 235 S/n  Esq...|    496-4503|  25|     NULL|-58.074615|  -35.0316|2015-01-01|       user1|               2015-01-01|                      user1|         0| NULL|Buenos Aires|    Ángel Etcheverry|\n",
      "|  20|     NULL|Andres Alberto Sc...|Ruta 15 Y 74 S/n ...|    462-0411|  24|     NULL| -57.80754| -34.89802|2015-01-01|       user1|               2015-01-01|                      user1|         0| NULL|Buenos Aires|             Berisso|\n",
      "| 203|     NULL|      Mercedes Trigo|      L. N. Alem 387|     47-7194|  31|     NULL| -58.38185|-34.913216|2015-01-01|       user1|               2015-01-01|                      user1|         0| NULL|Buenos Aires|            Guernica|\n",
      "| 206|     NULL|Silvana Maria Trotto|Godoy Cruz Y R. D...|     47-7952|  28|     NULL|-58.392345| -34.93105|2015-01-01|       user1|               2015-01-01|                      user1|         0| NULL|Buenos Aires|            Guernica|\n",
      "| 785|     NULL|Fernandez, Anibal...|             22 1338|    451-0607|  20|     NULL|-57.953228| -34.93741|2015-01-01|       user1|               2015-01-01|                      user1|         0| NULL|Buenos Aires|            La Plata|\n",
      "| 796|     NULL|   Real, Victor Hugo|     2 Bis Y 515 S/n|    471-4086|  52|     NULL|  -57.9831| -34.88246|2015-01-01|       user1|               2015-01-01|                      user1|         0| NULL|Buenos Aires|            La Plata|\n",
      "| 805|     NULL|      Kepa, Carlos D|   Ruta 36 Y 529 S/n|    491-6025|  45|     NULL| -58.06003| -34.97706|2015-01-01|       user1|               2015-01-01|                      user1|         0| NULL|Buenos Aires|              Abasto|\n",
      "| 820|     NULL|Rodriguez, Ruben ...|     7 (esq. 32) S/n|    422-4898|  43|     NULL|-57.968475|-34.900646|2015-01-01|       user1|               2015-01-01|                      user1|         0| NULL|Buenos Aires|            La Plata|\n",
      "| 849|     NULL|Reinel Antonio Ar...|Chiripa Y La Quer...|   4238-7458|  21|     NULL|-58.369576|   -34.819|2015-01-01|       user1|               2015-01-01|                      user1|         0| NULL|Buenos Aires|             Adrogué|\n",
      "| 867|     NULL|Marylin Otero Acosta|Scalabrini Ortiz ...|     42-7372|  39|     NULL|-58.379105|-34.879112|2015-01-01|       user1|               2015-01-01|                      user1|         0| NULL|Buenos Aires|             Adrogué|\n",
      "|1237|     NULL|   Martin Dibarboure| Jose Hernandez 2210|   4236-6325|  17|     NULL|-58.352013|-34.809277|2015-01-01|       user1|               2015-01-01|                      user1|         0| NULL|Buenos Aires|             Adrogué|\n",
      "|1752|     NULL|    Rafael Paternain|Ruta Provincial 2...|    440-9043|  57|     NULL|-58.924107|-34.512684|2015-01-01|       user1|               2015-01-01|                      user1|         0| NULL|Buenos Aires|           Pilar Sur|\n",
      "|1754|     NULL| Rita Beatriz Patron|Los Ceibos - Rio ...|     48-8125|  59|     NULL|-58.771492| -34.28843|2015-01-01|       user1|               2015-01-01|                      user1|         0| NULL|Buenos Aires|          El Cazador|\n",
      "|1756|     NULL|     Ana Maria Pavon|    Ruta 8 Km 78 S/n|     47-8060|  16|     NULL|-59.134937| -34.37183|2015-01-01|       user1|               2015-01-01|                      user1|         0| NULL|Buenos Aires|     Ruta Nacional 8|\n",
      "|1811|     NULL|          Jenny Read|Luis Sironi Y Rta...|15-5341-2821|  56|     NULL|-59.040108| -34.62514|2015-01-01|       user1|               2015-01-01|                      user1|         0| NULL|Buenos Aires|Jardín de Infante...|\n",
      "|1826|     NULL|Alejandro Daniel ...|Rio Parana Mini S...|   4728-1891|  62|     NULL|-58.519794| -34.15111|2015-01-01|       user1|               2015-01-01|                      user1|         0| NULL|Buenos Aires|     Tercera Sección|\n",
      "|1830|     NULL|  Carlos Nicolas Rey|Arroyo Caracoles ...|   4728-1918|  18|     NULL| -58.51497|-34.244064|2015-01-01|       user1|               2015-01-01|                      user1|         0| NULL|Buenos Aires|        San Fernando|\n",
      "|1836|     NULL|       Alfredo Reyes|Rio Lujan Y Arroy...|     46-0230|  65|     NULL| -58.72165| -34.29769|2015-01-01|       user1|               2015-01-01|                      user1|         0| NULL|Buenos Aires|     Ruta Nacional 8|\n",
      "|1846|     NULL|Washington Raul R...|Ruta Nac.6 Y Ruta...| 15-524-1492|  60|     NULL|-58.229992| -35.02408|2015-01-01|       user1|               2015-01-01|                      user1|         0| NULL|Buenos Aires|          El Peligro|\n",
      "|1871|     NULL|        Jorge Ruibal|Ruta 8 Km 85 Cuar...|     49-2278|  38|     NULL| -59.20675| -34.35546|2015-01-01|       user1|               2015-01-01|                      user1|         0| NULL|Buenos Aires|     Ruta Nacional 8|\n",
      "|2466|     NULL|Beatriz Elena Med...|Calle Publica  Co...|      449099|  52|     NULL| -64.25408|-31.318754|2015-01-01|       user1|               2015-01-01|                      user1|         0| NULL|     Córdoba|                Peña|\n",
      "|2556|     NULL|   Julio Cesar Bango|Mariano Mansilla ...|     4348386|  52|     NULL| -64.24812|-31.379189|2015-01-01|       user1|               2015-01-01|                      user1|         0| NULL|     Córdoba|    Mariano Mansilla|\n",
      "|2586|     NULL|   Mario Nelgar Diaz|Felix Robin Ferre...|     4347835|  45|     NULL| -64.21587|-31.414896|2015-01-01|       user1|               2015-01-01|                      user1|         0| NULL|     Córdoba|José Esteban Eche...|\n",
      "|2632|     NULL|     Joaquin Picardo|Calle Publica  S....|     4344129|  43|     NULL| -64.22253|-31.452465|2015-01-01|       user1|               2015-01-01|                      user1|         0| NULL|     Córdoba|         Hugo Juárez|\n",
      "|2674|     NULL|Alfredo Alberto Ruiz|Calle Publica S/n...|    15647073|  54|     NULL| -64.06719| -31.16495|2015-01-01|       user1|               2015-01-01|                      user1|         0| NULL|     Córdoba|     Ruta Nacional 8|\n",
      "|3013|     NULL|Elber Fabian Rodr...|Sin Nombre   Prje...|    Sin Dato|  45|     NULL| -71.38852|-40.187714|2015-01-01|       user1|               2015-01-01|                      user1|         0| NULL|     Neuquén|San Martín de los...|\n",
      "|3019|     NULL|    Nelson Rodriguez|Sin Nombre   Prje...|      491793|  28|     NULL|  -70.9261|-39.805737|2015-01-01|       user1|               2015-01-01|                      user1|         0| NULL|     Neuquén|      Huilqui Menuco|\n",
      "|3249|     NULL| Dardo Angel Sanchez|Ruta Prov. 304 Km...|0381-4940782|  60|     NULL| -65.13814| -26.80019|2015-01-01|       user1|               2015-01-01|                      user1|         0| NULL|     Tucumán|          Alederetes|\n",
      "|3301|     NULL|   Antonio Carambula|Principal S / Nº ...|    Sin Dato|  24|     NULL| -65.25759|   -26.737|2015-01-01|       user1|               2015-01-01|                      user1|         0| NULL|     Tucumán|          Tafí Viejo|\n",
      "|3348|  Tucumán|Carlos Roberto Otero|Antonio De Espino...|     4395001|  27|     NULL| -65.28072| -26.84919|2015-01-01|       user1|               2015-01-01|                      user1|         0| NULL|     Tucumán|        El Manantial|\n",
      "|3387|     NULL|Ramon Heber Rodri...|Ruta 157 - Km. 12...|    Sin Dato|  57|     NULL| -65.25511|-26.932741|2015-01-01|       user1|               2015-01-01|                      user1|         0| NULL|     Tucumán|       Santa Bárbara|\n",
      "+----+---------+--------------------+--------------------+------------+----+---------+----------+----------+----------+------------+-------------------------+---------------------------+----------+-----+------------+--------------------+\n",
      "\n"
     ]
    }
   ],
   "source": [
    "filtrados.show(32)"
   ]
  },
  {
   "cell_type": "markdown",
   "metadata": {},
   "source": [
    "Ya filtrados tiene los valores faltantes... <br>\n",
    "Se crea un join con cliente por medio del campo ID"
   ]
  },
  {
   "cell_type": "code",
   "execution_count": 33,
   "metadata": {},
   "outputs": [],
   "source": [
    "# filtrados = filtrados.drop(filtrados.Localidad).drop(filtrados.Provincia)\n",
    "filtra2 = filtrados.select(\"ID\",'prov_falta', 'loc_falta')\n",
    "filtra2 = filtra2.withColumnRenamed(\"ID\", \"id-f\")"
   ]
  },
  {
   "cell_type": "code",
   "execution_count": 34,
   "metadata": {},
   "outputs": [],
   "source": [
    "# Realizar un left join entre 'cliente' y 'filtrados'\n",
    "cliente_join_left = cliente.join(filtra2, cliente['ID'] == filtra2['id-f'], 'left')\n",
    "\n",
    "# Actualizar las columnas 'Localidad' y 'Provincia' con los valores faltantes\n",
    "cliente_join_left = cliente_join_left.withColumn('Localidad', coalesce(filtra2['loc_falta'], \n",
    "                                                                       cliente['Localidad']))\n",
    "\n",
    "cliente_join_left = cliente_join_left.withColumn('Provincia', coalesce(filtra2['prov_falta'], \n",
    "                                                                       cliente['Provincia']))\n",
    "\n",
    "# Eliminar las columnas adicionales de 'filtrados' si es necesario\n",
    "cliente_actualizado = cliente_join_left.drop(filtra2['loc_falta']).drop(filtra2['prov_falta']).drop(filtra2['id-f'])"
   ]
  },
  {
   "cell_type": "code",
   "execution_count": 35,
   "metadata": {},
   "outputs": [],
   "source": [
    "cliente = cliente_actualizado"
   ]
  },
  {
   "cell_type": "code",
   "execution_count": 36,
   "metadata": {},
   "outputs": [],
   "source": [
    "del filtra2\n",
    "del filtrados\n",
    "del cliente_join_left\n",
    "del cliente_actualizado\n",
    "del valores_faltantes_df\n",
    "del provincias_faltantes\n",
    "del localidades_faltantes"
   ]
  },
  {
   "cell_type": "code",
   "execution_count": 37,
   "metadata": {},
   "outputs": [
    {
     "name": "stdout",
     "output_type": "stream",
     "text": [
      "+---+------------+--------------------+--------------------+-------------+----+--------------------+----------+----------+----------+------------+-------------------------+---------------------------+----------+-----+\n",
      "| ID|   Provincia|   Nombre_y_Apellido|           Domicilio|     Telefono|Edad|           Localidad|         X|         Y|Fecha_Alta|Usuario_Alta|Fecha_Ultima_Modificacion|Usuario_Ultima_Modificacion|Marca_Baja|col10|\n",
      "+---+------------+--------------------+--------------------+-------------+----+--------------------+----------+----------+----------+------------+-------------------------+---------------------------+----------+-----+\n",
      "| 12|Buenos Aires|Eduardo Vicente S...|Carlos Tejedor 44...|    4480-0769|  52|Aeropuerto Intern...|-58.579502| -34.82788|2015-01-01|       user1|               2015-01-01|                      user1|         0| NULL|\n",
      "|  1|Buenos Aires|  Heber Joni Santana|Las Heras Y Bat. ...|      42-5161|  58|          Loma Verde|-58.818504| -34.30997|2015-01-01|       user1|               2015-01-01|                      user1|         0| NULL|\n",
      "| 13|Buenos Aires|    Roberto Sartorio|Montevideo (ruta ...|     523-9987|  41|          El Pescado|-57.762215|-34.927586|2015-01-01|       user1|               2015-01-01|                      user1|         0| NULL|\n",
      "|  6|Buenos Aires| Pedro Jesus Saravia|Ruta 2 - Km 44,50...|      49-2350|  18|            Ruta Sol|-58.112263|-35.007862|2015-01-01|       user1|               2015-01-01|                      user1|         0| NULL|\n",
      "| 16|Buenos Aires|      Mariela Sasson|236 (e/ 496 Y 498...|491-3216/6886|  61|              Abasto| -58.13481|-34.990154|2015-01-01|       user1|               2015-01-01|                      user1|         0| NULL|\n",
      "|  3|Buenos Aires|Fernando Luis Sar...|Calderon De La Ba...|      49-3435|  15|              Torres| -59.12794| -34.43082|2015-01-01|       user1|               2015-01-01|                      user1|         0| NULL|\n",
      "| 20|Buenos Aires|Andres Alberto Sc...|Ruta 15 Y 74 S/n ...|     462-0411|  24|             Berisso| -57.80754| -34.89802|2015-01-01|       user1|               2015-01-01|                      user1|         0| NULL|\n",
      "|  5|Buenos Aires|  Mario Raúl Sarasua|492 Y 186 S/n  Co...|     491-4608|  34| Jose Melchor Romero|-58.089382|-34.944447|2015-01-01|       user1|               2015-01-01|                      user1|         0| NULL|\n",
      "| 19|Buenos Aires|Silvia Liliana Sc...|Atuel Y Tunuyan 4...| 15-3126-7600|  47|          Marcos Paz| -58.83077|-34.831112|2015-01-01|       user1|               2015-01-01|                      user1|         0| NULL|\n",
      "| 15|Buenos Aires|Jesus Eduardo Sar...|52 Y 235 S/n  Esq...|     496-4503|  25|    Ángel Etcheverry|-58.074615|  -35.0316|2015-01-01|       user1|               2015-01-01|                      user1|         0| NULL|\n",
      "|  9|Buenos Aires|    Oscar Luis Sarlo|Garcilazo De La V...|      49-7576|  18|          Santa Rosa|-58.750084| -34.97535|2015-01-01|       user1|               2015-01-01|                      user1|         0| NULL|\n",
      "| 17|Buenos Aires| Hermes Luis Sauleda|185 Y 78 S/n  Las...|     496-2113|  16|          Los Hornos| -58.00189| -35.00997|2015-01-01|       user1|               2015-01-01|                      user1|         0| NULL|\n",
      "|  4|Buenos Aires|    Manuela Sarasola|Ruta 36 Km 45,500...|      49-2883|  29|            Ruta Sol| -58.14394| -34.92053|2015-01-01|       user1|               2015-01-01|                      user1|         0| NULL|\n",
      "|  8|Buenos Aires|Carlos Jose Sarazola|Isla Santiago S/n...|     623-9935|  40|       Isla Santiago|-57.881542| -34.83503|2015-01-01|       user1|               2015-01-01|                      user1|         0| NULL|\n",
      "|  7|Buenos Aires|       Jorge Saravia|Villarroel Ruta 3...|      49-5306|  21|     Virrey Del Pino| -58.70895|-34.860706|2015-01-01|       user1|               2015-01-01|                      user1|         0| NULL|\n",
      "| 10|Buenos Aires|Jose Adolfo Sarmi...|Segundo Sombra E/...|      49-7565|  58|          Santa Rosa|-58.752037|-34.951427|2015-01-01|       user1|               2015-01-01|                      user1|         0| NULL|\n",
      "| 21|Buenos Aires|    Beatriz Scapusio|Autopista Ricchie...|    4480-0120|  63|          9 De Abril|-58.522476|-34.783257|2015-01-01|       user1|               2015-01-01|                      user1|         0| NULL|\n",
      "| 11|Buenos Aires|       Ana Sarmiento|Los Robles E/ Jua...|    5729-3561|  18|             Canning| -58.50706|-34.907913|2015-01-01|       user1|               2015-01-01|                      user1|         0| NULL|\n",
      "| 14|Buenos Aires|Beatriz Roma Sarubbi| Ruta 205 Km. 54 S/n|      49-1999|  32|    Alejandro Petion|-58.674717|-34.978992|2015-01-01|       user1|               2015-01-01|                      user1|         0| NULL|\n",
      "|  2|Buenos Aires|         Ana Sapriza|Pueyrredon Y Dupu...|      49-7578|  61|          Santa Rosa|-58.730736|-34.939083|2015-01-01|       user1|               2015-01-01|                      user1|         0| NULL|\n",
      "+---+------------+--------------------+--------------------+-------------+----+--------------------+----------+----------+----------+------------+-------------------------+---------------------------+----------+-----+\n",
      "only showing top 20 rows\n",
      "\n"
     ]
    }
   ],
   "source": [
    "cliente.show()"
   ]
  },
  {
   "cell_type": "markdown",
   "metadata": {},
   "source": [
    "***\n",
    "Se crea un Rango Etario"
   ]
  },
  {
   "cell_type": "code",
   "execution_count": 38,
   "metadata": {},
   "outputs": [],
   "source": [
    "cliente = cliente.withColumn(\n",
    "    'RangoEtario',\n",
    "    when(cliente['Edad'] <= 30, '1_Hasta 30 años')\n",
    "    .when((cliente['Edad'] > 30) & (cliente['Edad'] <= 40), '2_De 31 a 40 años')\n",
    "    .when((cliente['Edad'] > 40) & (cliente['Edad'] <= 50), '3_De 41 a 50 años')\n",
    "    .when((cliente['Edad'] > 50) & (cliente['Edad'] <= 60), '4_De 51 a 60 años')\n",
    "    .otherwise('5_Desde 61 años')\n",
    ")"
   ]
  },
  {
   "cell_type": "markdown",
   "metadata": {},
   "source": [
    "Borro Columna col10"
   ]
  },
  {
   "cell_type": "code",
   "execution_count": 39,
   "metadata": {},
   "outputs": [],
   "source": [
    "cliente = cliente.drop(cliente.col10)"
   ]
  },
  {
   "cell_type": "code",
   "execution_count": 40,
   "metadata": {},
   "outputs": [
    {
     "name": "stdout",
     "output_type": "stream",
     "text": [
      "+---+------------+------------------+--------------------+--------+----+----------+----------+---------+----------+------------+-------------------------+---------------------------+----------+-----------------+\n",
      "| ID|   Provincia| Nombre_y_Apellido|           Domicilio|Telefono|Edad| Localidad|         X|        Y|Fecha_Alta|Usuario_Alta|Fecha_Ultima_Modificacion|Usuario_Ultima_Modificacion|Marca_Baja|      RangoEtario|\n",
      "+---+------------+------------------+--------------------+--------+----+----------+----------+---------+----------+------------+-------------------------+---------------------------+----------+-----------------+\n",
      "|  1|Buenos Aires|Heber Joni Santana|Las Heras Y Bat. ...| 42-5161|  58|Loma Verde|-58.818504|-34.30997|2015-01-01|       user1|               2015-01-01|                      user1|         0|4_De 51 a 60 años|\n",
      "+---+------------+------------------+--------------------+--------+----+----------+----------+---------+----------+------------+-------------------------+---------------------------+----------+-----------------+\n",
      "only showing top 1 row\n",
      "\n"
     ]
    }
   ],
   "source": [
    "cliente.show(1)"
   ]
  },
  {
   "cell_type": "markdown",
   "metadata": {},
   "source": [
    "***\n",
    "Empezando a Trabajar la Tabla localidad"
   ]
  },
  {
   "cell_type": "code",
   "execution_count": 41,
   "metadata": {},
   "outputs": [],
   "source": [
    "# Se crean Todas las combinaciones existentes en las distintas tablas (Pero sin duplicados)\n",
    "temp_cliente_localidad = cliente.select(\"Localidad\", \"Provincia\").dropDuplicates()\n",
    "temp_sucursal_localidad = sucursal.select(\"Localidad\", \"Provincia\").dropDuplicates()\n",
    "temp_proveedor_localidad = proveedor.select(\"City\", \"State\").dropDuplicates()\n",
    "\n",
    "temp_proveedor_localidad = temp_proveedor_localidad.withColumnRenamed(\"City\", \"Localidad\")\\\n",
    "                                                   .withColumnRenamed(\"State\", \"Provincia\")\n",
    "\n",
    "# Concateno todo en localidad usando union\n",
    "localidad = temp_cliente_localidad\\\n",
    "            .union(temp_sucursal_localidad)\\\n",
    "            .union(temp_proveedor_localidad)\n",
    "\n",
    "# Elimino Duplicados\n",
    "localidad = localidad.dropDuplicates()"
   ]
  },
  {
   "cell_type": "code",
   "execution_count": 42,
   "metadata": {},
   "outputs": [],
   "source": [
    "del temp_cliente_localidad\n",
    "del temp_proveedor_localidad\n",
    "del temp_sucursal_localidad"
   ]
  },
  {
   "cell_type": "code",
   "execution_count": 43,
   "metadata": {},
   "outputs": [
    {
     "name": "stdout",
     "output_type": "stream",
     "text": [
      "+--------------------+------------+\n",
      "|           Localidad|   Provincia|\n",
      "+--------------------+------------+\n",
      "|         Lanus Oeste|Buenos Aires|\n",
      "|    Villa San Carlos|Buenos Aires|\n",
      "|         Alta Gracia|     Tucumán|\n",
      "|           City Bell|Buenos Aires|\n",
      "|Pedro Molina (gua...|     Mendoza|\n",
      "|            Ruta Sol|Buenos Aires|\n",
      "|   Arroyo De La Cruz|Buenos Aires|\n",
      "|               Gomez|Buenos Aires|\n",
      "|            Castelar|Buenos Aires|\n",
      "|               Lujan|Buenos Aires|\n",
      "|         San Vicente|Buenos Aires|\n",
      "|Rodeo De La Cruz ...|     Mendoza|\n",
      "|    Pampa Del Malleo|     Neuquén|\n",
      "|       Campo De Mayo|Buenos Aires|\n",
      "|      Villa Libertad|Buenos Aires|\n",
      "|      Boca Del Tigre|     Tucumán|\n",
      "|Villa Juan Martin...|Buenos Aires|\n",
      "|      Parada Orlando|Buenos Aires|\n",
      "|Ingeniero Juan Allan|Buenos Aires|\n",
      "|Capilla Del Rosar...|     Mendoza|\n",
      "+--------------------+------------+\n",
      "only showing top 20 rows\n",
      "\n"
     ]
    }
   ],
   "source": [
    "localidad.show()"
   ]
  },
  {
   "cell_type": "markdown",
   "metadata": {},
   "source": [
    "Se Crea la tabla provincia"
   ]
  },
  {
   "cell_type": "code",
   "execution_count": 44,
   "metadata": {},
   "outputs": [],
   "source": [
    "provincia = localidad.select(\"Provincia\").dropDuplicates()\n",
    "provincia = provincia.withColumn('IdProvincia', monotonically_increasing_id()+1)"
   ]
  },
  {
   "cell_type": "code",
   "execution_count": 45,
   "metadata": {},
   "outputs": [
    {
     "name": "stdout",
     "output_type": "stream",
     "text": [
      "+---------+-----------+\n",
      "|Provincia|IdProvincia|\n",
      "+---------+-----------+\n",
      "|  Neuquén|          1|\n",
      "+---------+-----------+\n",
      "only showing top 1 row\n",
      "\n"
     ]
    }
   ],
   "source": [
    "provincia.show(1)"
   ]
  },
  {
   "cell_type": "markdown",
   "metadata": {},
   "source": [
    "Se termina de crear la tabla localidad"
   ]
  },
  {
   "cell_type": "code",
   "execution_count": 46,
   "metadata": {},
   "outputs": [
    {
     "name": "stdout",
     "output_type": "stream",
     "text": [
      "+--------------------------------+------------+-----------+\n",
      "|Localidad                       |Provincia   |IdLocalidad|\n",
      "+--------------------------------+------------+-----------+\n",
      "|Lanus Oeste                     |Buenos Aires|1          |\n",
      "|Villa San Carlos                |Buenos Aires|2          |\n",
      "|Alta Gracia                     |Tucumán     |3          |\n",
      "|City Bell                       |Buenos Aires|4          |\n",
      "|Pedro Molina (guaymallen)       |Mendoza     |5          |\n",
      "|Ruta Sol                        |Buenos Aires|6          |\n",
      "|Arroyo De La Cruz               |Buenos Aires|7          |\n",
      "|Gomez                           |Buenos Aires|8          |\n",
      "|Castelar                        |Buenos Aires|9          |\n",
      "|Lujan                           |Buenos Aires|10         |\n",
      "|San Vicente                     |Buenos Aires|11         |\n",
      "|Rodeo De La Cruz (guaymallen)   |Mendoza     |12         |\n",
      "|Pampa Del Malleo                |Neuquén     |13         |\n",
      "|Campo De Mayo                   |Buenos Aires|14         |\n",
      "|Villa Libertad                  |Buenos Aires|15         |\n",
      "|Boca Del Tigre                  |Tucumán     |16         |\n",
      "|Villa Juan Martin De Pueyrredon |Buenos Aires|17         |\n",
      "|Parada Orlando                  |Buenos Aires|18         |\n",
      "|Ingeniero Juan Allan            |Buenos Aires|19         |\n",
      "|Capilla Del Rosario (guaymallen)|Mendoza     |20         |\n",
      "+--------------------------------+------------+-----------+\n",
      "only showing top 20 rows\n",
      "\n"
     ]
    }
   ],
   "source": [
    "localidad = localidad.withColumn('IdLocalidad', monotonically_increasing_id()+1)\n",
    "localidad.show(truncate=False)\n",
    "\n",
    "# Necesito utilizar una tabla con nombre del campo 'Provincia' diferente a la otra tabla\n",
    "provincia_map = provincia.withColumnRenamed(\"Provincia\", \"Provi\")\n",
    "\n",
    "# Realizo el Join de las tablas localidad y provincia (en este caso representada por provincia.map)\n",
    "localidad_join_provincia = localidad.join(provincia_map, localidad.Provincia == provincia_map.Provi)\n",
    "\n",
    "# De todo el Join Selecciono las columnas que necesito\n",
    "localidad = localidad_join_provincia.select(\"IdLocalidad\", \"Localidad\", \"IdProvincia\")\n",
    "\n",
    "# Creo una tabla para Mapear contra `cliente`, `proveedor`, `sucursal`\n",
    "mapeo = localidad_join_provincia.select(\"IdLocalidad\", \"Provincia\", \"Localidad\")\n",
    "mapeo = mapeo.withColumnRenamed(\"Provincia\", \"Provi\")\\\n",
    "             .withColumnRenamed(\"Localidad\", \"Locali\")"
   ]
  },
  {
   "cell_type": "code",
   "execution_count": 47,
   "metadata": {},
   "outputs": [],
   "source": [
    "del localidad_join_provincia"
   ]
  },
  {
   "cell_type": "code",
   "execution_count": 48,
   "metadata": {},
   "outputs": [
    {
     "name": "stdout",
     "output_type": "stream",
     "text": [
      "+-----------+------------------+-----------+\n",
      "|IdLocalidad|         Localidad|IdProvincia|\n",
      "+-----------+------------------+-----------+\n",
      "|        530|Chiquilihuin (rai)|          1|\n",
      "+-----------+------------------+-----------+\n",
      "only showing top 1 row\n",
      "\n"
     ]
    }
   ],
   "source": [
    "localidad.show(1)"
   ]
  },
  {
   "cell_type": "markdown",
   "metadata": {},
   "source": [
    "Mapeo a la tabla `sucursal` con \"mapeo\" para colocarle un IdLocalidad que represente su <br>\n",
    "combinacion `Localidad - Provincia`"
   ]
  },
  {
   "cell_type": "code",
   "execution_count": 49,
   "metadata": {},
   "outputs": [
    {
     "name": "stdout",
     "output_type": "stream",
     "text": [
      "+---+--------+-------------+---------+------------+----------+---------+-----------+------------+--------+\n",
      "| ID|Sucursal|    Direccion|Localidad|   Provincia|   Latitud| Longitud|IdLocalidad|       Provi|  Locali|\n",
      "+---+--------+-------------+---------+------------+----------+---------+-----------+------------+--------+\n",
      "| 15|Castelar|Sta Rosa 1845| Castelar|Buenos Aires|-34.639305|-58.65567|          9|Buenos Aires|Castelar|\n",
      "+---+--------+-------------+---------+------------+----------+---------+-----------+------------+--------+\n",
      "only showing top 1 row\n",
      "\n"
     ]
    }
   ],
   "source": [
    "sucursal_join_mapeo = sucursal.join(\n",
    "    mapeo,\n",
    "    (mapeo['Provi'] == sucursal['Provincia']) & (mapeo['Locali'] == sucursal['Localidad'])\n",
    ")\n",
    "sucursal_join_mapeo.show(1)"
   ]
  },
  {
   "cell_type": "markdown",
   "metadata": {},
   "source": [
    "Selecciono los campos que necesito del Join <br>\n",
    "Renombro la columna 'ID' a 'IdSucursal'"
   ]
  },
  {
   "cell_type": "code",
   "execution_count": 50,
   "metadata": {},
   "outputs": [],
   "source": [
    "# Seleccionando los campos que necesito\n",
    "sucursal = sucursal_join_mapeo.select(\"ID\", \"Sucursal\", \"Direccion\", \"IdLocalidad\", \"Latitud\", \"Longitud\")\n",
    "\n",
    "# Renombrando el Campo \"ID\"\n",
    "sucursal = sucursal.withColumnRenamed(\"ID\", \"IdSucursal\")"
   ]
  },
  {
   "cell_type": "code",
   "execution_count": 51,
   "metadata": {},
   "outputs": [],
   "source": [
    "sucursal = sucursal.withColumnRenamed(\"Direccion\", \"Domicilio\")"
   ]
  },
  {
   "cell_type": "code",
   "execution_count": 52,
   "metadata": {},
   "outputs": [],
   "source": [
    "del sucursal_join_mapeo"
   ]
  },
  {
   "cell_type": "code",
   "execution_count": 53,
   "metadata": {},
   "outputs": [
    {
     "name": "stdout",
     "output_type": "stream",
     "text": [
      "+----------+------------------+--------------------+-----------+----------+----------+\n",
      "|IdSucursal|          Sucursal|           Domicilio|IdLocalidad|   Latitud|  Longitud|\n",
      "+----------+------------------+--------------------+-----------+----------+----------+\n",
      "|        15|          Castelar|       Sta Rosa 1845|          9|-34.639305| -58.65567|\n",
      "|        10|             Velez|Av. Juan Bautista...|         45|-34.631256|-58.498062|\n",
      "|         4|        Corrientes| Av. Corrientes 2352|         45|-34.604687|-58.398766|\n",
      "|         3|         Palermo-2|Gral. Lucio Norbe...|         45|-34.595966| -58.40515|\n",
      "|         2|         Palermo-1|      Guatemala 5701|         45|-34.579037|-58.433567|\n",
      "|         1|           Cabildo|    Av. Cabildo 1342|         45|-34.567806|-58.449574|\n",
      "|        13|           Caseros|Justo José De Urq...|         87| -34.60595| -58.56332|\n",
      "|        16|         San Justo|Av. Dr. Ignacio A...|        123| -34.68139| -58.55692|\n",
      "|        27|Cerro de las Rosas|Av. Rafael Núñez ...|        198|-31.361254|-64.237816|\n",
      "|        26|    Córdoba Quiroz|Av Duarte Quirós ...|        198|-31.407537| -64.22174|\n",
      "|        25|    Córdoba Centro|        Av Colón 251|        198|-31.412746|-64.186455|\n",
      "|        24|         Rosario-2|          Rueda 6349|        222| -32.96275| -60.70763|\n",
      "|        23|         Rosario-1| Av. Pellegrini 1138|        222| -32.95703|-60.641354|\n",
      "|        30|         Mendoza-2|       Av. Colón 255|        275| -32.89429|  -68.8438|\n",
      "|        29|         Mendoza-1|       Gutiérrez 349|        275| -32.88753| -68.84331|\n",
      "|        18|        Avellaneda|Av. Bartolomé Mit...|        350| -34.66106|-58.366516|\n",
      "|        14|             Moron|           Salta 250|        425|-34.645897|-58.621147|\n",
      "|        19|           Quilmes|Peatonal Rivadavi...|        508| -34.72225|-58.257576|\n",
      "|        20|          La Plata|        Calle 48 974|        578|-34.920776| -57.95889|\n",
      "|        11|     Vicente Lopez|       Av. Maipú 829|        598|  -34.5301|-58.480064|\n",
      "+----------+------------------+--------------------+-----------+----------+----------+\n",
      "only showing top 20 rows\n",
      "\n"
     ]
    }
   ],
   "source": [
    "sucursal.show()"
   ]
  },
  {
   "cell_type": "markdown",
   "metadata": {},
   "source": [
    "Mapeo a la tabla `cliente` con \"mapeo\" para colocarle un IdLocalidad que represente su <br>\n",
    "combinacion `Localidad - Provincia`"
   ]
  },
  {
   "cell_type": "code",
   "execution_count": 54,
   "metadata": {},
   "outputs": [
    {
     "name": "stdout",
     "output_type": "stream",
     "text": [
      "+---+------------+--------------------+--------------------+---------+----+-----------+----------+----------+----------+------------+-------------------------+---------------------------+----------+-----------------+-----------+------------+-----------+\n",
      "| ID|   Provincia|   Nombre_y_Apellido|           Domicilio| Telefono|Edad|  Localidad|         X|         Y|Fecha_Alta|Usuario_Alta|Fecha_Ultima_Modificacion|Usuario_Ultima_Modificacion|Marca_Baja|      RangoEtario|IdLocalidad|       Provi|     Locali|\n",
      "+---+------------+--------------------+--------------------+---------+----+-----------+----------+----------+----------+------------+-------------------------+---------------------------+----------+-----------------+-----------+------------+-----------+\n",
      "|393|Buenos Aires|De Chiaria, Claud...|Ministro Brin Y A...|4249-4641|  31|Lanus Oeste|-58.396244|-34.700245|2015-01-01|       user1|               2015-01-01|                      user1|         0|2_De 31 a 40 años|          1|Buenos Aires|Lanus Oeste|\n",
      "+---+------------+--------------------+--------------------+---------+----+-----------+----------+----------+----------+------------+-------------------------+---------------------------+----------+-----------------+-----------+------------+-----------+\n",
      "only showing top 1 row\n",
      "\n"
     ]
    }
   ],
   "source": [
    "cliente_join_mapeo = cliente.join(\n",
    "    mapeo,\n",
    "    (mapeo['Provi'] == cliente['Provincia']) & (mapeo['Locali'] == cliente['Localidad'])\n",
    ")\n",
    "cliente_join_mapeo.show(1)"
   ]
  },
  {
   "cell_type": "code",
   "execution_count": 55,
   "metadata": {},
   "outputs": [],
   "source": [
    "#Borro los campos que sobran\n",
    "cliente_join_mapeo = cliente_join_mapeo.drop(\"Provincia\",\"Localidad\",\"Provi\",\"Locali\")\n",
    "\n",
    "#Renombro Campos\n",
    "cliente_join_mapeo = cliente_join_mapeo.withColumnRenamed(\"ID\", \"IdCliente\")\\\n",
    "                                       .withColumnRenamed(\"X\", \"Longitud\")\\\n",
    "                                       .withColumnRenamed(\"Y\", \"Latitud\")\\\n",
    "                                       .withColumnRenamed(\"Nombre_y_Apellido\", \"NombreApellido\")"
   ]
  },
  {
   "cell_type": "code",
   "execution_count": 56,
   "metadata": {},
   "outputs": [
    {
     "name": "stdout",
     "output_type": "stream",
     "text": [
      "+---------+--------------------+--------------------+---------+----+----------+----------+----------+------------+-------------------------+---------------------------+----------+-----------------+-----------+\n",
      "|IdCliente|      NombreApellido|           Domicilio| Telefono|Edad|  Longitud|   Latitud|Fecha_Alta|Usuario_Alta|Fecha_Ultima_Modificacion|Usuario_Ultima_Modificacion|Marca_Baja|      RangoEtario|IdLocalidad|\n",
      "+---------+--------------------+--------------------+---------+----+----------+----------+----------+------------+-------------------------+---------------------------+----------+-----------------+-----------+\n",
      "|      393|De Chiaria, Claud...|Ministro Brin Y A...|4249-4641|  31|-58.396244|-34.700245|2015-01-01|       user1|               2015-01-01|                      user1|         0|2_De 31 a 40 años|          1|\n",
      "|      365|Elisa Margarita Z...|1âº De Mayo E/pil...|4262-1887|  53| 58.428944| 34.698895|2015-01-01|       user1|               2015-01-01|                      user1|         0|4_De 51 a 60 años|          1|\n",
      "|      342|Boris Silvestre Y...|Aristobulo Del Va...|4241-2143|  17|  -58.4129|-34.703426|2015-01-01|       user1|               2015-01-01|                      user1|         0|  1_Hasta 30 años|          1|\n",
      "|      349|Dionisio Javier Z...|Carlos Tejedor Y ...|4241-1813|  61|-58.407383|-34.701797|2015-01-01|       user1|               2015-01-01|                      user1|         0|  5_Desde 61 años|          1|\n",
      "|      378|Fontenla, Guiller...|Moreno Y Oliden 2...|4208-5034|  37|-58.423706|-34.690536|2015-01-01|       user1|               2015-01-01|                      user1|         0|2_De 31 a 40 años|          1|\n",
      "|      382|Freire Sanzana, H...|Pte Derqui E/ Roj...|4240-0517|  23|-58.415375|-34.705196|2015-01-01|       user1|               2015-01-01|                      user1|         0|  1_Hasta 30 años|          1|\n",
      "|      345|Jose Francisco Yu...|Maximo Paz Y Noya...|4241-9150|  62| -58.39881|-34.692886|2015-01-01|       user1|               2015-01-01|                      user1|         0|  5_Desde 61 años|          1|\n",
      "|      390|Morel, Aguileo Ni...|Juan Farrel Y Ave...|4228-5138|  33| -58.43364|-34.690475|2015-01-01|       user1|               2015-01-01|                      user1|         0|2_De 31 a 40 años|          1|\n",
      "|      356|       Marcos Zoppis|Dean Funes E/ Hor...|4286-5558|  57| -58.43433|-34.704174|2015-01-01|       user1|               2015-01-01|                      user1|         0|4_De 51 a 60 años|          1|\n",
      "|      394|Rebecchi, Gabriel...|Murguiondo E/ Tal...|4208-5572|  22| -58.42521| -34.67887|2015-01-01|       user1|               2015-01-01|                      user1|         0|  1_Hasta 30 años|          1|\n",
      "|      361|Francisco Adhemar...|Andrade E/urquiza...|4241-0953|  20| -58.40507|-34.714577|2015-01-01|       user1|               2015-01-01|                      user1|         0|  1_Hasta 30 años|          1|\n",
      "|      395|Idiarte, Ruben Fe...|Potosi E/castro Y...|4228-5545|  53|-58.432114| -34.67731|2015-01-01|       user1|               2015-01-01|                      user1|         0|4_De 51 a 60 años|          1|\n",
      "|      343|  Robert Adolfo Yroa|Remedios De Escal...|4208-3223|  59| -58.40013|-34.684723|2015-01-01|       user1|               2015-01-01|                      user1|         0|4_De 51 a 60 años|          1|\n",
      "|      381|   Zelener, Daniel R|Santiago Plaul E/...|4262-5796|  18|-58.406433|  -34.6888|2015-01-01|       user1|               2015-01-01|                      user1|         0|  1_Hasta 30 años|          1|\n",
      "|      387| Diulio, Juan Carlos|Molinedo 3200  Vi...|4209-5423|  20|-58.435364|-34.685696|2015-01-01|       user1|               2015-01-01|                      user1|         0|  1_Hasta 30 años|          1|\n",
      "|      383|Bolzan, Flavio Ja...|1 De Mayo E/ Fern...|4286-8907|  45| 58.425335| 34.704983|2015-01-01|       user1|               2015-01-01|                      user1|         0|3_De 41 a 50 años|          1|\n",
      "|      358|Juan Andres Zorri...|Carlos Gardel Y N...|4240-8741|  39| -58.40739|-34.707253|2015-01-01|       user1|               2015-01-01|                      user1|         0|2_De 31 a 40 años|          1|\n",
      "|      347|     Oscar Zagarzazu|Ministro Brin Y 2...|4241-2124|  63|-58.394997|-34.708565|2015-01-01|       user1|               2015-01-01|                      user1|         0|  5_Desde 61 años|          1|\n",
      "|      397| Impini, Luis Fabian| Gral. Villegas 4551|4267-4088|  48|-58.435745| -34.69822|2015-01-01|       user1|               2015-01-01|                      user1|         0|3_De 41 a 50 años|          1|\n",
      "|      377|    Torres, Carlos E|J.l.suarez E/ Dea...|4286-4677|  51| -58.43369|-34.704277|2015-01-01|       user1|               2015-01-01|                      user1|         0|4_De 51 a 60 años|          1|\n",
      "+---------+--------------------+--------------------+---------+----+----------+----------+----------+------------+-------------------------+---------------------------+----------+-----------------+-----------+\n",
      "only showing top 20 rows\n",
      "\n"
     ]
    }
   ],
   "source": [
    "cliente_join_mapeo.show()"
   ]
  },
  {
   "cell_type": "code",
   "execution_count": 57,
   "metadata": {},
   "outputs": [],
   "source": [
    "cliente = cliente_join_mapeo"
   ]
  },
  {
   "cell_type": "code",
   "execution_count": 59,
   "metadata": {},
   "outputs": [],
   "source": [
    "cliente = (cliente.withColumnRenamed(\"Usuario_Alta\", \"UsuarioAlta\")\\\n",
    "                 .withColumnRenamed(\"Fecha_Alta\", \"FechaAlta\")\\\n",
    "                 .withColumnRenamed(\"Fecha_Ultima_Modificacion\", \"FechaUpdate\")\\\n",
    "                 .withColumnRenamed(\"Usuario_Ultima_Modificacion\", \"UsuarioUpdate\")\\\n",
    "                 .withColumnRenamed(\"Marca_baja\", \"MarcaBaja\"))\n"
   ]
  },
  {
   "cell_type": "code",
   "execution_count": 60,
   "metadata": {},
   "outputs": [],
   "source": [
    "del cliente_join_mapeo"
   ]
  },
  {
   "cell_type": "code",
   "execution_count": 61,
   "metadata": {},
   "outputs": [
    {
     "name": "stdout",
     "output_type": "stream",
     "text": [
      "+---------+--------------------+--------------------+---------+----+----------+----------+----------+-----------+-----------+-------------+---------+-----------------+-----------+\n",
      "|IdCliente|      NombreApellido|           Domicilio| Telefono|Edad|  Longitud|   Latitud| FechaAlta|UsuarioAlta|FechaUpdate|UsuarioUpdate|MarcaBaja|      RangoEtario|IdLocalidad|\n",
      "+---------+--------------------+--------------------+---------+----+----------+----------+----------+-----------+-----------+-------------+---------+-----------------+-----------+\n",
      "|      393|De Chiaria, Claud...|Ministro Brin Y A...|4249-4641|  31|-58.396244|-34.700245|2015-01-01|      user1| 2015-01-01|        user1|        0|2_De 31 a 40 años|          1|\n",
      "|      365|Elisa Margarita Z...|1âº De Mayo E/pil...|4262-1887|  53| 58.428944| 34.698895|2015-01-01|      user1| 2015-01-01|        user1|        0|4_De 51 a 60 años|          1|\n",
      "|      342|Boris Silvestre Y...|Aristobulo Del Va...|4241-2143|  17|  -58.4129|-34.703426|2015-01-01|      user1| 2015-01-01|        user1|        0|  1_Hasta 30 años|          1|\n",
      "|      349|Dionisio Javier Z...|Carlos Tejedor Y ...|4241-1813|  61|-58.407383|-34.701797|2015-01-01|      user1| 2015-01-01|        user1|        0|  5_Desde 61 años|          1|\n",
      "|      378|Fontenla, Guiller...|Moreno Y Oliden 2...|4208-5034|  37|-58.423706|-34.690536|2015-01-01|      user1| 2015-01-01|        user1|        0|2_De 31 a 40 años|          1|\n",
      "+---------+--------------------+--------------------+---------+----+----------+----------+----------+-----------+-----------+-------------+---------+-----------------+-----------+\n",
      "only showing top 5 rows\n",
      "\n"
     ]
    }
   ],
   "source": [
    "cliente.show(5)"
   ]
  },
  {
   "cell_type": "markdown",
   "metadata": {},
   "source": [
    "Mapeo a la tabla `proveedor` con \"mapeo\" para colocarle un IdLocalidad que represente su <br>\n",
    "combinacion `Localidad - Provincia`"
   ]
  },
  {
   "cell_type": "code",
   "execution_count": 62,
   "metadata": {},
   "outputs": [
    {
     "name": "stdout",
     "output_type": "stream",
     "text": [
      "+-----------+--------------+---------------+---------------+------------+---------+----------+-----------+------------+---------------+\n",
      "|IDProveedor|        Nombre|        Address|           City|       State|  Country|departamen|IdLocalidad|       Provi|         Locali|\n",
      "+-----------+--------------+---------------+---------------+------------+---------+----------+-----------+------------+---------------+\n",
      "|          4|Rivero Insumos|Pte. Peron 3872|Valentin Alsina|Buenos Aires|Argentina|     Lanus|         97|Buenos Aires|Valentin Alsina|\n",
      "+-----------+--------------+---------------+---------------+------------+---------+----------+-----------+------------+---------------+\n",
      "only showing top 1 row\n",
      "\n"
     ]
    }
   ],
   "source": [
    "proveedor_join_mapeo = proveedor.join(\n",
    "    mapeo,\n",
    "    (mapeo['Provi'] == proveedor['State']) & (mapeo['Locali'] == proveedor['City'])\n",
    ")\n",
    "proveedor_join_mapeo.show(1)"
   ]
  },
  {
   "cell_type": "code",
   "execution_count": 63,
   "metadata": {},
   "outputs": [
    {
     "name": "stdout",
     "output_type": "stream",
     "text": [
      "+-----------+--------------+---------------+---------+------------+-----------+\n",
      "|IdProveedor|        Nombre|      Domicilio|     Pais|Departamento|IdLocalidad|\n",
      "+-----------+--------------+---------------+---------+------------+-----------+\n",
      "|          4|Rivero Insumos|Pte. Peron 3872|Argentina|       Lanus|         97|\n",
      "+-----------+--------------+---------------+---------+------------+-----------+\n",
      "only showing top 1 row\n",
      "\n"
     ]
    }
   ],
   "source": [
    "# Borro los campos que sobran\n",
    "proveedor_join_mapeo = proveedor_join_mapeo.drop(\"City\", \"State\", \"Provi\", \"Locali\")\n",
    "\n",
    "# Renombro Campos\n",
    "proveedor_join_mapeo = (proveedor_join_mapeo.withColumnRenamed(\"IDProveedor\", \"IdProveedor\")\n",
    "                                             .withColumnRenamed(\"Address\", \"Domicilio\")\n",
    "                                             .withColumnRenamed(\"Country\", \"Pais\")\n",
    "                                             .withColumnRenamed(\"departamen\", \"Departamento\"))\n",
    "\n",
    "proveedor_join_mapeo.show(1)"
   ]
  },
  {
   "cell_type": "code",
   "execution_count": 64,
   "metadata": {},
   "outputs": [],
   "source": [
    "proveedor = proveedor_join_mapeo"
   ]
  },
  {
   "cell_type": "code",
   "execution_count": 65,
   "metadata": {},
   "outputs": [],
   "source": [
    "del proveedor_join_mapeo"
   ]
  },
  {
   "cell_type": "code",
   "execution_count": 66,
   "metadata": {},
   "outputs": [],
   "source": [
    "del provincia_map\n",
    "del mapeo"
   ]
  },
  {
   "cell_type": "code",
   "execution_count": 67,
   "metadata": {},
   "outputs": [
    {
     "name": "stdout",
     "output_type": "stream",
     "text": [
      "+-----------+--------------+---------------+---------+------------+-----------+\n",
      "|IdProveedor|        Nombre|      Domicilio|     Pais|Departamento|IdLocalidad|\n",
      "+-----------+--------------+---------------+---------+------------+-----------+\n",
      "|          4|Rivero Insumos|Pte. Peron 3872|Argentina|       Lanus|         97|\n",
      "+-----------+--------------+---------------+---------+------------+-----------+\n",
      "only showing top 1 row\n",
      "\n"
     ]
    }
   ],
   "source": [
    "proveedor.show(1)"
   ]
  },
  {
   "cell_type": "markdown",
   "metadata": {},
   "source": [
    "*** \n",
    "Toca Imputar valores a las Longitudes y Latitudes NULAS a la cuales ya se les asigno 0 para identificarlas <br>\n",
    "El acuerdo en clase fue Segun su localidad, ubicar el resto de clientes que tuvieran esa misma localidad y obtener el promedio de las latitudes y longitudes"
   ]
  },
  {
   "cell_type": "markdown",
   "metadata": {},
   "source": [
    "Necesito Sacar un Nuevo Df a partir de Cliente Solo con los campos 'IdCliente' y 'Latitud' siempre y cuando Latitud sea diferente de cero(0) "
   ]
  },
  {
   "cell_type": "code",
   "execution_count": 68,
   "metadata": {},
   "outputs": [],
   "source": [
    "latitudes = cliente.filter(cliente['Latitud'] != 0).select('IdLocalidad', 'Latitud')"
   ]
  },
  {
   "cell_type": "code",
   "execution_count": 69,
   "metadata": {},
   "outputs": [
    {
     "name": "stdout",
     "output_type": "stream",
     "text": [
      "+-----------+------------------+\n",
      "|IdLocalidad|   LatitudPromedio|\n",
      "+-----------+------------------+\n",
      "|         26|-34.93217468261719|\n",
      "+-----------+------------------+\n",
      "only showing top 1 row\n",
      "\n"
     ]
    }
   ],
   "source": [
    "# Saco el Promedio de las latitudes por cada IdLocalidad\n",
    "promedio_latitudes = latitudes.groupBy('IdLocalidad').agg(avg('Latitud').alias('LatitudPromedio'))\n",
    "promedio_latitudes.show(1)"
   ]
  },
  {
   "cell_type": "code",
   "execution_count": 70,
   "metadata": {},
   "outputs": [],
   "source": [
    "# Hago un Join left para tener en una columna la 'latitudPromedio'\n",
    "cliente = cliente.join(promedio_latitudes, 'IdLocalidad', 'left')"
   ]
  },
  {
   "cell_type": "code",
   "execution_count": 71,
   "metadata": {},
   "outputs": [
    {
     "name": "stdout",
     "output_type": "stream",
     "text": [
      "+-----------+---------+--------------------+--------------------+---------+----+----------+------------------+----------+-----------+-----------+-------------+---------+-----------------+-------------------+\n",
      "|IdLocalidad|IdCliente|      NombreApellido|           Domicilio| Telefono|Edad|  Longitud|           Latitud| FechaAlta|UsuarioAlta|FechaUpdate|UsuarioUpdate|MarcaBaja|      RangoEtario|    LatitudPromedio|\n",
      "+-----------+---------+--------------------+--------------------+---------+----+----------+------------------+----------+-----------+-----------+-------------+---------+-----------------+-------------------+\n",
      "|          1|      393|De Chiaria, Claud...|Ministro Brin Y A...|4249-4641|  31|-58.396244|-34.70024490356445|2015-01-01|      user1| 2015-01-01|        user1|        0|2_De 31 a 40 años|-29.144632568359373|\n",
      "+-----------+---------+--------------------+--------------------+---------+----+----------+------------------+----------+-----------+-----------+-------------+---------+-----------------+-------------------+\n",
      "only showing top 1 row\n",
      "\n"
     ]
    }
   ],
   "source": [
    "# Mapeo las 'Laltitud` == 0 y hago que sean igaul a `LatitudPromedio`\n",
    "cliente = cliente.withColumn('Latitud', when(col('Latitud') == 0, \n",
    "                             col('LatitudPromedio')).otherwise(col('Latitud')))\n",
    "cliente.show(1)"
   ]
  },
  {
   "cell_type": "code",
   "execution_count": 72,
   "metadata": {},
   "outputs": [],
   "source": [
    "# Elimino la Columna 'LatitudPromedio``\n",
    "cliente = cliente.drop('LatitudPromedio')"
   ]
  },
  {
   "cell_type": "code",
   "execution_count": 73,
   "metadata": {},
   "outputs": [],
   "source": [
    "del latitudes\n",
    "del promedio_latitudes"
   ]
  },
  {
   "cell_type": "markdown",
   "metadata": {},
   "source": [
    "Repito el Proceso pero ahora con 'Longitud'"
   ]
  },
  {
   "cell_type": "code",
   "execution_count": 74,
   "metadata": {},
   "outputs": [],
   "source": [
    "longitudes = cliente.filter(cliente['Longitud'] != 0).select('IdLocalidad', 'Longitud')"
   ]
  },
  {
   "cell_type": "code",
   "execution_count": 75,
   "metadata": {},
   "outputs": [
    {
     "name": "stdout",
     "output_type": "stream",
     "text": [
      "+-----------+------------------+\n",
      "|IdLocalidad|  longitudPromedio|\n",
      "+-----------+------------------+\n",
      "|         26|-58.00044250488281|\n",
      "+-----------+------------------+\n",
      "only showing top 1 row\n",
      "\n"
     ]
    }
   ],
   "source": [
    "promedio_longitudes = longitudes.groupBy('IdLocalidad').agg(avg('longitud').alias('longitudPromedio'))\n",
    "promedio_longitudes.show(1)"
   ]
  },
  {
   "cell_type": "code",
   "execution_count": 76,
   "metadata": {},
   "outputs": [],
   "source": [
    "# Hago un Join left para tener en una columna la 'longitudPromedio'\n",
    "cliente = cliente.join(promedio_longitudes, 'IdLocalidad', 'left')"
   ]
  },
  {
   "cell_type": "code",
   "execution_count": 77,
   "metadata": {},
   "outputs": [
    {
     "name": "stdout",
     "output_type": "stream",
     "text": [
      "+-----------+---------+--------------------+--------------------+---------+----+-------------------+------------------+----------+-----------+-----------+-------------+---------+-----------------+------------------+\n",
      "|IdLocalidad|IdCliente|      NombreApellido|           Domicilio| Telefono|Edad|           Longitud|           Latitud| FechaAlta|UsuarioAlta|FechaUpdate|UsuarioUpdate|MarcaBaja|      RangoEtario|  longitudPromedio|\n",
      "+-----------+---------+--------------------+--------------------+---------+----+-------------------+------------------+----------+-----------+-----------+-------------+---------+-----------------+------------------+\n",
      "|          1|      393|De Chiaria, Claud...|Ministro Brin Y A...|4249-4641|  31|-58.396244049072266|-34.70024490356445|2015-01-01|      user1| 2015-01-01|        user1|        0|2_De 31 a 40 años|-49.06735595703125|\n",
      "+-----------+---------+--------------------+--------------------+---------+----+-------------------+------------------+----------+-----------+-----------+-------------+---------+-----------------+------------------+\n",
      "only showing top 1 row\n",
      "\n"
     ]
    }
   ],
   "source": [
    "# Mapeo las 'Longitud` == 0 y hago que sean igaul a `LongitudPromedio`\n",
    "cliente = cliente.withColumn('Longitud', when(col('Longitud') == 0, \n",
    "                             col('LongitudPromedio')).otherwise(col('Longitud')))\n",
    "cliente.show(1)"
   ]
  },
  {
   "cell_type": "code",
   "execution_count": 78,
   "metadata": {},
   "outputs": [
    {
     "name": "stdout",
     "output_type": "stream",
     "text": [
      "+-----------+---------+--------------------+--------------------+---------+----+-------------------+------------------+----------+-----------+-----------+-------------+---------+-----------------+\n",
      "|IdLocalidad|IdCliente|      NombreApellido|           Domicilio| Telefono|Edad|           Longitud|           Latitud| FechaAlta|UsuarioAlta|FechaUpdate|UsuarioUpdate|MarcaBaja|      RangoEtario|\n",
      "+-----------+---------+--------------------+--------------------+---------+----+-------------------+------------------+----------+-----------+-----------+-------------+---------+-----------------+\n",
      "|          1|      393|De Chiaria, Claud...|Ministro Brin Y A...|4249-4641|  31|-58.396244049072266|-34.70024490356445|2015-01-01|      user1| 2015-01-01|        user1|        0|2_De 31 a 40 años|\n",
      "+-----------+---------+--------------------+--------------------+---------+----+-------------------+------------------+----------+-----------+-----------+-------------+---------+-----------------+\n",
      "only showing top 1 row\n",
      "\n"
     ]
    }
   ],
   "source": [
    "# Elimino la Columna 'LongitudPromedio``\n",
    "cliente = cliente.drop('LongitudPromedio')\n",
    "cliente.show(1)"
   ]
  },
  {
   "cell_type": "code",
   "execution_count": 79,
   "metadata": {},
   "outputs": [
    {
     "name": "stdout",
     "output_type": "stream",
     "text": [
      "+-----------+---------+--------------+---------+--------+----+--------+-------+---------+-----------+-----------+-------------+---------+-----------+\n",
      "|IdLocalidad|IdCliente|NombreApellido|Domicilio|Telefono|Edad|Longitud|Latitud|FechaAlta|UsuarioAlta|FechaUpdate|UsuarioUpdate|MarcaBaja|RangoEtario|\n",
      "+-----------+---------+--------------+---------+--------+----+--------+-------+---------+-----------+-----------+-------------+---------+-----------+\n",
      "+-----------+---------+--------------+---------+--------+----+--------+-------+---------+-----------+-----------+-------------+---------+-----------+\n",
      "\n"
     ]
    }
   ],
   "source": [
    "cliente.filter(cliente['Longitud'] == 0).show()"
   ]
  },
  {
   "cell_type": "code",
   "execution_count": 80,
   "metadata": {},
   "outputs": [
    {
     "name": "stdout",
     "output_type": "stream",
     "text": [
      "+-----------+---------+--------------+---------+--------+----+--------+-------+---------+-----------+-----------+-------------+---------+-----------+\n",
      "|IdLocalidad|IdCliente|NombreApellido|Domicilio|Telefono|Edad|Longitud|Latitud|FechaAlta|UsuarioAlta|FechaUpdate|UsuarioUpdate|MarcaBaja|RangoEtario|\n",
      "+-----------+---------+--------------+---------+--------+----+--------+-------+---------+-----------+-----------+-------------+---------+-----------+\n",
      "+-----------+---------+--------------+---------+--------+----+--------+-------+---------+-----------+-----------+-------------+---------+-----------+\n",
      "\n"
     ]
    }
   ],
   "source": [
    "cliente.filter(cliente['Latitud'] == 0).show()"
   ]
  },
  {
   "cell_type": "markdown",
   "metadata": {},
   "source": [
    "Tomar en cuenta que hay 3 clientes Los cuales son Unicos en sus Localidades por lo que es imposible calcular Promedio de otros clientes"
   ]
  },
  {
   "cell_type": "code",
   "execution_count": 81,
   "metadata": {},
   "outputs": [
    {
     "name": "stdout",
     "output_type": "stream",
     "text": [
      "+-----------+---------+--------------+---------+--------+----+--------+-------+---------+-----------+-----------+-------------+---------+-----------+\n",
      "|IdLocalidad|IdCliente|NombreApellido|Domicilio|Telefono|Edad|Longitud|Latitud|FechaAlta|UsuarioAlta|FechaUpdate|UsuarioUpdate|MarcaBaja|RangoEtario|\n",
      "+-----------+---------+--------------+---------+--------+----+--------+-------+---------+-----------+-----------+-------------+---------+-----------+\n",
      "|          0|        0|             0|        0|       0|   0|       3|      3|        0|          0|          0|            0|        0|          0|\n",
      "+-----------+---------+--------------+---------+--------+----+--------+-------+---------+-----------+-----------+-------------+---------+-----------+\n",
      "\n"
     ]
    }
   ],
   "source": [
    "cliente.agg(*[count(when(isnull(c), c)).alias(c) for c in cliente.columns]).show()"
   ]
  },
  {
   "cell_type": "code",
   "execution_count": 82,
   "metadata": {},
   "outputs": [
    {
     "name": "stdout",
     "output_type": "stream",
     "text": [
      "+-----------+\n",
      "|IdLocalidad|\n",
      "+-----------+\n",
      "|        420|\n",
      "|        511|\n",
      "|        263|\n",
      "+-----------+\n",
      "\n"
     ]
    }
   ],
   "source": [
    "latitudes_nulas = cliente.filter(col('Latitud').isNull()).select('IdLocalidad')\n",
    "latitudes_nulas.show()"
   ]
  },
  {
   "cell_type": "code",
   "execution_count": 83,
   "metadata": {},
   "outputs": [
    {
     "name": "stdout",
     "output_type": "stream",
     "text": [
      "+-----------+\n",
      "|IdLocalidad|\n",
      "+-----------+\n",
      "|        420|\n",
      "|        511|\n",
      "|        263|\n",
      "+-----------+\n",
      "\n"
     ]
    }
   ],
   "source": [
    "longitudes_nulas = cliente.filter(col('longitud').isNull()).select('IdLocalidad')\n",
    "longitudes_nulas.show()"
   ]
  },
  {
   "cell_type": "code",
   "execution_count": 84,
   "metadata": {},
   "outputs": [
    {
     "name": "stdout",
     "output_type": "stream",
     "text": [
      "+-----------+-----------+-----------+\n",
      "|IdLocalidad|  Localidad|IdProvincia|\n",
      "+-----------+-----------+-----------+\n",
      "|        263|Villa Brown|          6|\n",
      "+-----------+-----------+-----------+\n",
      "\n"
     ]
    }
   ],
   "source": [
    "localidad.filter(col(\"IdLocalidad\") == 263).show()"
   ]
  },
  {
   "cell_type": "code",
   "execution_count": 85,
   "metadata": {},
   "outputs": [
    {
     "name": "stdout",
     "output_type": "stream",
     "text": [
      "+-----------+----------------+-----------+\n",
      "|IdLocalidad|       Localidad|IdProvincia|\n",
      "+-----------+----------------+-----------+\n",
      "|        420|Angel Etcheverry|          6|\n",
      "+-----------+----------------+-----------+\n",
      "\n"
     ]
    }
   ],
   "source": [
    "localidad.filter(col(\"IdLocalidad\") == 420).show()"
   ]
  },
  {
   "cell_type": "code",
   "execution_count": 86,
   "metadata": {},
   "outputs": [
    {
     "name": "stdout",
     "output_type": "stream",
     "text": [
      "+-----------+------------------+-----------+\n",
      "|IdLocalidad|         Localidad|IdProvincia|\n",
      "+-----------+------------------+-----------+\n",
      "|        511|Parque San Lorenzo|          6|\n",
      "+-----------+------------------+-----------+\n",
      "\n"
     ]
    }
   ],
   "source": [
    "localidad.filter(col(\"IdLocalidad\") == 511).show()"
   ]
  },
  {
   "cell_type": "code",
   "execution_count": 87,
   "metadata": {},
   "outputs": [
    {
     "name": "stdout",
     "output_type": "stream",
     "text": [
      "+------------+-----------+\n",
      "|   Provincia|IdProvincia|\n",
      "+------------+-----------+\n",
      "|Buenos Aires|          6|\n",
      "+------------+-----------+\n",
      "\n"
     ]
    }
   ],
   "source": [
    "provincia.filter(col(\"IdProvincia\") == 6).show()"
   ]
  },
  {
   "cell_type": "code",
   "execution_count": 88,
   "metadata": {},
   "outputs": [],
   "source": [
    "del longitudes_nulas\n",
    "del latitudes_nulas"
   ]
  },
  {
   "cell_type": "markdown",
   "metadata": {},
   "source": [
    "Se busco por internet manualmente la Longitud y Latitud Promedio de esas 3 Localidades\n",
    "\n",
    "+ cliente con \"IdLocalidad\" == 420\n",
    "    + Angel Etcheverry\n",
    "    + \"Latitud\" = -34.56403\n",
    "    + \"Longitud\" = -58.53444\n",
    "\n",
    "+ cliente \"IdLocalidad\" == 263\n",
    "    + Villa Brown\n",
    "    + \"Latitud\"  = -35.0272\n",
    "    + \"Longitud\" = -58.0719\n",
    "\n",
    "+ cliente con \"IdLocalidad\" == 511\n",
    "    + Parque San Lorenzo\n",
    "    + \"Latitud\" = -34.87164\n",
    "    + \"Longitud\" = -58.28075"
   ]
  },
  {
   "cell_type": "code",
   "execution_count": 89,
   "metadata": {},
   "outputs": [],
   "source": [
    "# Cliente con IdLocalidad = 420\n",
    "cliente = cliente.withColumn('Latitud', when(col('IdLocalidad') == 420, -34.56403).otherwise(col('Latitud')))\n",
    "cliente = cliente.withColumn('Longitud', when(col('IdLocalidad') == 420, -58.53444).otherwise(col('Longitud')))\n",
    "\n",
    "# Cliente con IdLocalidad = 263\n",
    "cliente = cliente.withColumn('Latitud', when(col('IdLocalidad') == 263, -35.0272).otherwise(col('Latitud')))\n",
    "cliente = cliente.withColumn('Longitud', when(col('IdLocalidad') == 263, -58.0719).otherwise(col('Longitud')))\n",
    "\n",
    "# Cliente con IdLocalidad = 511\n",
    "cliente = cliente.withColumn('Latitud', when(col('IdLocalidad') == 511, -34.87164).otherwise(col('Latitud')))\n",
    "cliente = cliente.withColumn('Longitud', when(col('IdLocalidad') == 511, -58.28075).otherwise(col('Longitud')))"
   ]
  },
  {
   "cell_type": "code",
   "execution_count": 90,
   "metadata": {},
   "outputs": [
    {
     "name": "stdout",
     "output_type": "stream",
     "text": [
      "+-----------+---------+--------------------+--------------------+---------+----+-------------------+------------------+----------+-----------+-----------+-------------+---------+-----------------+\n",
      "|IdLocalidad|IdCliente|      NombreApellido|           Domicilio| Telefono|Edad|           Longitud|           Latitud| FechaAlta|UsuarioAlta|FechaUpdate|UsuarioUpdate|MarcaBaja|      RangoEtario|\n",
      "+-----------+---------+--------------------+--------------------+---------+----+-------------------+------------------+----------+-----------+-----------+-------------+---------+-----------------+\n",
      "|          1|      393|De Chiaria, Claud...|Ministro Brin Y A...|4249-4641|  31|-58.396244049072266|-34.70024490356445|2015-01-01|      user1| 2015-01-01|        user1|        0|2_De 31 a 40 años|\n",
      "+-----------+---------+--------------------+--------------------+---------+----+-------------------+------------------+----------+-----------+-----------+-------------+---------+-----------------+\n",
      "only showing top 1 row\n",
      "\n"
     ]
    }
   ],
   "source": [
    "cliente.show(1)"
   ]
  },
  {
   "cell_type": "markdown",
   "metadata": {},
   "source": [
    "***\n",
    "Creando la Conexion"
   ]
  },
  {
   "cell_type": "code",
   "execution_count": 72,
   "metadata": {},
   "outputs": [],
   "source": [
    "engine = connec_db()"
   ]
  },
  {
   "cell_type": "markdown",
   "metadata": {},
   "source": [
    "***\n",
    "Pasando los Dataframes a Dataframes de Pandas de a uno para evitar colapso"
   ]
  },
  {
   "cell_type": "code",
   "execution_count": 91,
   "metadata": {},
   "outputs": [],
   "source": [
    "# IMPORTANDO LIBRERIA PANDAS\n",
    "import pandas as pd"
   ]
  },
  {
   "cell_type": "markdown",
   "metadata": {},
   "source": [
    "### Pasando Los Dataframes a Pandas para poder pasarlos a Tablas SQL"
   ]
  },
  {
   "cell_type": "markdown",
   "metadata": {},
   "source": [
    "***\n",
    "Vaciando el Dataframe a la Tabla `provincia`"
   ]
  },
  {
   "cell_type": "code",
   "execution_count": 92,
   "metadata": {},
   "outputs": [],
   "source": [
    "pandas_df_provincia = provincia.toPandas()"
   ]
  },
  {
   "cell_type": "code",
   "execution_count": 75,
   "metadata": {},
   "outputs": [
    {
     "data": {
      "text/plain": [
       "9"
      ]
     },
     "execution_count": 75,
     "metadata": {},
     "output_type": "execute_result"
    }
   ],
   "source": [
    "pandas_df_provincia.to_sql(name=\"provincia\", con=engine, index=False, if_exists=\"append\")"
   ]
  },
  {
   "cell_type": "code",
   "execution_count": 93,
   "metadata": {},
   "outputs": [],
   "source": [
    "pandas_df_provincia.to_csv(\"csv_practica/provincia.csv\", index=False)"
   ]
  },
  {
   "cell_type": "code",
   "execution_count": 94,
   "metadata": {},
   "outputs": [],
   "source": [
    "del pandas_df_provincia\n",
    "del provincia"
   ]
  },
  {
   "cell_type": "markdown",
   "metadata": {},
   "source": [
    "***\n",
    "Vaciando el Dataframe a la Tabla `localidad`"
   ]
  },
  {
   "cell_type": "code",
   "execution_count": 95,
   "metadata": {},
   "outputs": [],
   "source": [
    "pandas_df_localidad = localidad.toPandas()"
   ]
  },
  {
   "cell_type": "code",
   "execution_count": 78,
   "metadata": {},
   "outputs": [
    {
     "data": {
      "text/plain": [
       "607"
      ]
     },
     "execution_count": 78,
     "metadata": {},
     "output_type": "execute_result"
    }
   ],
   "source": [
    "pandas_df_localidad.to_sql(name=\"localidad\", con=engine, index=False, if_exists=\"append\")"
   ]
  },
  {
   "cell_type": "code",
   "execution_count": 96,
   "metadata": {},
   "outputs": [],
   "source": [
    "pandas_df_localidad.to_csv(\"csv_practica/localidad.csv\", index=False)"
   ]
  },
  {
   "cell_type": "code",
   "execution_count": 97,
   "metadata": {},
   "outputs": [],
   "source": [
    "del localidad\n",
    "del pandas_df_localidad"
   ]
  },
  {
   "cell_type": "markdown",
   "metadata": {},
   "source": [
    "***\n",
    "Vaciando el Dataframe a la Tabla `sucursal`"
   ]
  },
  {
   "cell_type": "code",
   "execution_count": 98,
   "metadata": {},
   "outputs": [],
   "source": [
    "pandas_df_sucursal = sucursal.toPandas()"
   ]
  },
  {
   "cell_type": "code",
   "execution_count": 81,
   "metadata": {},
   "outputs": [
    {
     "data": {
      "text/plain": [
       "31"
      ]
     },
     "execution_count": 81,
     "metadata": {},
     "output_type": "execute_result"
    }
   ],
   "source": [
    "pandas_df_sucursal.to_sql(name=\"sucursal\", con=engine, index=False, if_exists=\"append\")"
   ]
  },
  {
   "cell_type": "code",
   "execution_count": 99,
   "metadata": {},
   "outputs": [],
   "source": [
    "pandas_df_sucursal.to_csv(\"csv_practica/sucursal.csv\", index=False)"
   ]
  },
  {
   "cell_type": "code",
   "execution_count": null,
   "metadata": {},
   "outputs": [],
   "source": [
    "pandas_df_sucursal.to_csv(\"Data/sucursal_normalizada.csv\", index=False)"
   ]
  },
  {
   "cell_type": "code",
   "execution_count": 100,
   "metadata": {},
   "outputs": [],
   "source": [
    "del pandas_df_sucursal\n",
    "del sucursal"
   ]
  },
  {
   "cell_type": "markdown",
   "metadata": {},
   "source": [
    "***\n",
    "Vaciando el Dataframe a la Tabla `proveedor`"
   ]
  },
  {
   "cell_type": "code",
   "execution_count": 101,
   "metadata": {},
   "outputs": [],
   "source": [
    "pandas_df_proveedor = proveedor.toPandas()"
   ]
  },
  {
   "cell_type": "code",
   "execution_count": 84,
   "metadata": {},
   "outputs": [
    {
     "data": {
      "text/plain": [
       "14"
      ]
     },
     "execution_count": 84,
     "metadata": {},
     "output_type": "execute_result"
    }
   ],
   "source": [
    "pandas_df_proveedor.to_sql(name=\"proveedor\", con=engine, index=False, if_exists=\"append\")"
   ]
  },
  {
   "cell_type": "code",
   "execution_count": 102,
   "metadata": {},
   "outputs": [],
   "source": [
    "pandas_df_proveedor.to_csv(\"csv_practica/proveedor.csv\", index=False)"
   ]
  },
  {
   "cell_type": "code",
   "execution_count": 103,
   "metadata": {},
   "outputs": [],
   "source": [
    "del pandas_df_proveedor\n",
    "del proveedor"
   ]
  },
  {
   "cell_type": "markdown",
   "metadata": {},
   "source": [
    "***\n",
    "Vaciando el Dataframe a la Tabla `cliente`"
   ]
  },
  {
   "cell_type": "code",
   "execution_count": 104,
   "metadata": {},
   "outputs": [],
   "source": [
    "pandas_df_cliente = cliente.toPandas()"
   ]
  },
  {
   "cell_type": "code",
   "execution_count": 87,
   "metadata": {},
   "outputs": [
    {
     "data": {
      "text/plain": [
       "3407"
      ]
     },
     "execution_count": 87,
     "metadata": {},
     "output_type": "execute_result"
    }
   ],
   "source": [
    "pandas_df_cliente.to_sql(name=\"cliente\", con=engine, index=False, if_exists=\"append\")"
   ]
  },
  {
   "cell_type": "code",
   "execution_count": 105,
   "metadata": {},
   "outputs": [],
   "source": [
    "pandas_df_cliente.to_csv(\"csv_practica/cliente.csv\", index=False)"
   ]
  },
  {
   "cell_type": "code",
   "execution_count": 106,
   "metadata": {},
   "outputs": [],
   "source": [
    "del cliente\n",
    "del pandas_df_cliente"
   ]
  },
  {
   "cell_type": "code",
   "execution_count": 107,
   "metadata": {},
   "outputs": [],
   "source": [
    "spark.stop()"
   ]
  }
 ],
 "metadata": {
  "kernelspec": {
   "display_name": "base",
   "language": "python",
   "name": "python3"
  },
  "language_info": {
   "codemirror_mode": {
    "name": "ipython",
    "version": 3
   },
   "file_extension": ".py",
   "mimetype": "text/x-python",
   "name": "python",
   "nbconvert_exporter": "python",
   "pygments_lexer": "ipython3",
   "version": "3.11.6"
  }
 },
 "nbformat": 4,
 "nbformat_minor": 2
}
