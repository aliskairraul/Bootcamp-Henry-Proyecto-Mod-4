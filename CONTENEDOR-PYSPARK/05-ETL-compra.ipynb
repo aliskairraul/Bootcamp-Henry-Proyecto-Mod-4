{
 "cells": [
  {
   "cell_type": "markdown",
   "metadata": {},
   "source": [
    "#### NOTA: En este cuaderno se crearan las Tablas `compra_header` y `compra_detail` del Datawarehouse"
   ]
  },
  {
   "cell_type": "markdown",
   "metadata": {},
   "source": [
    "***\n",
    "### Importando Librerias"
   ]
  },
  {
   "cell_type": "code",
   "execution_count": 1,
   "metadata": {},
   "outputs": [],
   "source": [
    "from pyspark.sql import SparkSession"
   ]
  },
  {
   "cell_type": "code",
   "execution_count": 2,
   "metadata": {},
   "outputs": [],
   "source": [
    "from pyspark.sql.functions import count, when, isnull\n"
   ]
  },
  {
   "cell_type": "markdown",
   "metadata": {},
   "source": [
    "***\n",
    "Creando Session de Spark"
   ]
  },
  {
   "cell_type": "code",
   "execution_count": 3,
   "metadata": {},
   "outputs": [],
   "source": [
    "spark = SparkSession.builder.appName('compra_header-compra_detail').getOrCreate()"
   ]
  },
  {
   "cell_type": "markdown",
   "metadata": {},
   "source": [
    "***\n",
    "Importando Conexion a Contenedor `mod4_mysql`"
   ]
  },
  {
   "cell_type": "code",
   "execution_count": 4,
   "metadata": {},
   "outputs": [],
   "source": [
    "from db.connection import connec_db"
   ]
  },
  {
   "cell_type": "markdown",
   "metadata": {},
   "source": [
    "***\n",
    "Trabajando el csv asociado a  `compra`"
   ]
  },
  {
   "cell_type": "code",
   "execution_count": 4,
   "metadata": {},
   "outputs": [],
   "source": [
    "compra = spark.read.csv(\"Data/Compra.csv\", sep=\",\", header=True, inferSchema=True)"
   ]
  },
  {
   "cell_type": "markdown",
   "metadata": {},
   "source": [
    "***\n",
    "Visualizando como vienen los Datos"
   ]
  },
  {
   "cell_type": "code",
   "execution_count": 5,
   "metadata": {},
   "outputs": [
    {
     "name": "stdout",
     "output_type": "stream",
     "text": [
      "+--------+----------+----------+--------+------+-----------+\n",
      "|IdCompra|     Fecha|IdProducto|Cantidad|Precio|IdProveedor|\n",
      "+--------+----------+----------+--------+------+-----------+\n",
      "|       1|2015-01-30|     42832|      13|560.51|         12|\n",
      "|       2|2015-01-30|     42833|      11|497.58|          7|\n",
      "|       3|2015-01-30|     42834|       1| 588.5|          6|\n",
      "|       4|2015-01-30|     42835|       9|567.66|         14|\n",
      "|       5|2015-01-30|     42839|      14|231.31|          2|\n",
      "+--------+----------+----------+--------+------+-----------+\n",
      "only showing top 5 rows\n",
      "\n"
     ]
    }
   ],
   "source": [
    "compra.show(5)"
   ]
  },
  {
   "cell_type": "markdown",
   "metadata": {},
   "source": [
    "***\n",
    "Visualizando la Inferencia del Schema"
   ]
  },
  {
   "cell_type": "code",
   "execution_count": 6,
   "metadata": {},
   "outputs": [
    {
     "name": "stdout",
     "output_type": "stream",
     "text": [
      "root\n",
      " |-- IdCompra: integer (nullable = true)\n",
      " |-- Fecha: date (nullable = true)\n",
      " |-- IdProducto: integer (nullable = true)\n",
      " |-- Cantidad: integer (nullable = true)\n",
      " |-- Precio: double (nullable = true)\n",
      " |-- IdProveedor: integer (nullable = true)\n",
      "\n"
     ]
    }
   ],
   "source": [
    "compra.printSchema()"
   ]
  },
  {
   "cell_type": "markdown",
   "metadata": {},
   "source": [
    "***\n",
    "Buscando Valores Faltantes"
   ]
  },
  {
   "cell_type": "code",
   "execution_count": 7,
   "metadata": {},
   "outputs": [
    {
     "name": "stdout",
     "output_type": "stream",
     "text": [
      "+--------+-----+----------+--------+------+-----------+\n",
      "|IdCompra|Fecha|IdProducto|Cantidad|Precio|IdProveedor|\n",
      "+--------+-----+----------+--------+------+-----------+\n",
      "|       0|    0|         0|       0|     0|          0|\n",
      "+--------+-----+----------+--------+------+-----------+\n",
      "\n"
     ]
    }
   ],
   "source": [
    "# Contar valores nulos por columna\n",
    "compra.agg(*[count(when(isnull(c), c)).alias(c) for c in compra.columns]).show()\n",
    "\n"
   ]
  },
  {
   "cell_type": "markdown",
   "metadata": {},
   "source": [
    "Creo los dataframes `compra_header` y `compra_detail` a partir de `compra`"
   ]
  },
  {
   "cell_type": "code",
   "execution_count": 8,
   "metadata": {},
   "outputs": [],
   "source": [
    "compra_header = compra.select(\"IdCompra\", \"Fecha\", \"IdProveedor\")"
   ]
  },
  {
   "cell_type": "code",
   "execution_count": 9,
   "metadata": {},
   "outputs": [],
   "source": [
    "compra_detail = compra.select(\"IdCompra\", \"IdProducto\", \"Cantidad\", \"Precio\")"
   ]
  },
  {
   "cell_type": "markdown",
   "metadata": {},
   "source": [
    "Visualizo como se ven los nuevos Dataframes"
   ]
  },
  {
   "cell_type": "code",
   "execution_count": 10,
   "metadata": {},
   "outputs": [
    {
     "name": "stdout",
     "output_type": "stream",
     "text": [
      "+--------+----------+-----------+\n",
      "|IdCompra|     Fecha|IdProveedor|\n",
      "+--------+----------+-----------+\n",
      "|       1|2015-01-30|         12|\n",
      "|       2|2015-01-30|          7|\n",
      "|       3|2015-01-30|          6|\n",
      "|       4|2015-01-30|         14|\n",
      "|       5|2015-01-30|          2|\n",
      "|       6|2015-01-30|         13|\n",
      "|       7|2015-01-30|          4|\n",
      "|       8|2015-01-30|          4|\n",
      "|       9|2015-01-30|         12|\n",
      "|      10|2015-01-30|          6|\n",
      "|      11|2015-01-30|          3|\n",
      "|      12|2015-01-30|          7|\n",
      "|      13|2015-01-30|         11|\n",
      "|      14|2015-01-30|          6|\n",
      "|      15|2015-01-30|          2|\n",
      "|      16|2015-01-30|          5|\n",
      "|      17|2015-01-30|         13|\n",
      "|      18|2015-01-30|          7|\n",
      "|      19|2015-01-30|          8|\n",
      "|      20|2015-01-30|         13|\n",
      "+--------+----------+-----------+\n",
      "only showing top 20 rows\n",
      "\n"
     ]
    }
   ],
   "source": [
    "compra_header.show()"
   ]
  },
  {
   "cell_type": "code",
   "execution_count": 11,
   "metadata": {},
   "outputs": [
    {
     "name": "stdout",
     "output_type": "stream",
     "text": [
      "+--------+----------+--------+-------+\n",
      "|IdCompra|IdProducto|Cantidad| Precio|\n",
      "+--------+----------+--------+-------+\n",
      "|       1|     42832|      13| 560.51|\n",
      "|       2|     42833|      11| 497.58|\n",
      "|       3|     42834|       1|  588.5|\n",
      "|       4|     42835|       9| 567.66|\n",
      "|       5|     42839|      14| 231.31|\n",
      "|       6|     42840|      14| 232.07|\n",
      "|       7|     42841|       8| 236.98|\n",
      "|       8|     42842|       4| 255.33|\n",
      "|       9|     42845|       5| 578.61|\n",
      "|      10|     42855|       1| 809.04|\n",
      "|      11|     42857|       8| 379.77|\n",
      "|      12|     42858|      11| 365.37|\n",
      "|      13|     42860|       5| 447.15|\n",
      "|      14|     42862|       4| 310.02|\n",
      "|      15|     42984|       7| 173.64|\n",
      "|      16|     42907|       6| 316.37|\n",
      "|      17|     42908|       4|1081.16|\n",
      "|      18|     42911|       8|1409.06|\n",
      "|      19|     42914|       4|  982.0|\n",
      "|      20|     42915|      17|1225.11|\n",
      "+--------+----------+--------+-------+\n",
      "only showing top 20 rows\n",
      "\n"
     ]
    }
   ],
   "source": [
    "compra_detail.show()"
   ]
  },
  {
   "cell_type": "code",
   "execution_count": 12,
   "metadata": {},
   "outputs": [],
   "source": [
    "del compra"
   ]
  },
  {
   "cell_type": "markdown",
   "metadata": {},
   "source": [
    "***\n",
    "Creando la Conexion"
   ]
  },
  {
   "cell_type": "code",
   "execution_count": 9,
   "metadata": {},
   "outputs": [],
   "source": [
    "engine = connec_db()"
   ]
  },
  {
   "cell_type": "markdown",
   "metadata": {},
   "source": [
    "***\n",
    "Pasando los Dataframes a Dataframes de Pandas  y vaciando en sus respectivas Tablas"
   ]
  },
  {
   "cell_type": "code",
   "execution_count": 13,
   "metadata": {},
   "outputs": [],
   "source": [
    "# IMPORTANDO LIBRERIA PANDAS\n",
    "import pandas as pd"
   ]
  },
  {
   "cell_type": "markdown",
   "metadata": {},
   "source": [
    "***\n",
    "Vaciando el Dataframe a la Tabla `compra_header`"
   ]
  },
  {
   "cell_type": "code",
   "execution_count": 14,
   "metadata": {},
   "outputs": [],
   "source": [
    "pandas_df_compra_h = compra_header.toPandas()\n"
   ]
  },
  {
   "cell_type": "code",
   "execution_count": 12,
   "metadata": {},
   "outputs": [
    {
     "data": {
      "text/plain": [
       "11539"
      ]
     },
     "execution_count": 12,
     "metadata": {},
     "output_type": "execute_result"
    }
   ],
   "source": [
    "pandas_df_compra_h.to_sql(name=\"compra_header\", con=engine, index=False, if_exists=\"append\")"
   ]
  },
  {
   "cell_type": "code",
   "execution_count": 15,
   "metadata": {},
   "outputs": [],
   "source": [
    "pandas_df_compra_h.to_csv(\"csv_practica/compra_header.csv\", index=False)"
   ]
  },
  {
   "cell_type": "code",
   "execution_count": 16,
   "metadata": {},
   "outputs": [],
   "source": [
    "del pandas_df_compra_h\n",
    "del compra_header"
   ]
  },
  {
   "cell_type": "markdown",
   "metadata": {},
   "source": [
    "***\n",
    "Vaciando el Dataframe a la Tabla `compra_detail`"
   ]
  },
  {
   "cell_type": "code",
   "execution_count": 17,
   "metadata": {},
   "outputs": [],
   "source": [
    "pandas_df_compra_d = compra_detail.toPandas()"
   ]
  },
  {
   "cell_type": "code",
   "execution_count": 15,
   "metadata": {},
   "outputs": [
    {
     "data": {
      "text/plain": [
       "11539"
      ]
     },
     "execution_count": 15,
     "metadata": {},
     "output_type": "execute_result"
    }
   ],
   "source": [
    "pandas_df_compra_d.to_sql(name=\"compra_detail\", con=engine, index=False, if_exists=\"append\")"
   ]
  },
  {
   "cell_type": "code",
   "execution_count": 18,
   "metadata": {},
   "outputs": [],
   "source": [
    "pandas_df_compra_d.to_csv(\"csv_practica/compra_detail.csv\", index=False)"
   ]
  },
  {
   "cell_type": "code",
   "execution_count": 19,
   "metadata": {},
   "outputs": [],
   "source": [
    "del compra_detail\n",
    "del pandas_df_compra_d"
   ]
  },
  {
   "cell_type": "code",
   "execution_count": 20,
   "metadata": {},
   "outputs": [],
   "source": [
    "spark.stop()"
   ]
  }
 ],
 "metadata": {
  "kernelspec": {
   "display_name": "base",
   "language": "python",
   "name": "python3"
  },
  "language_info": {
   "codemirror_mode": {
    "name": "ipython",
    "version": 3
   },
   "file_extension": ".py",
   "mimetype": "text/x-python",
   "name": "python",
   "nbconvert_exporter": "python",
   "pygments_lexer": "ipython3",
   "version": "3.11.6"
  }
 },
 "nbformat": 4,
 "nbformat_minor": 2
}
