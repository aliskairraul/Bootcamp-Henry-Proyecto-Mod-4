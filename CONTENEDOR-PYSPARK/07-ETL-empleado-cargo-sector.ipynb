{
 "cells": [
  {
   "cell_type": "markdown",
   "metadata": {},
   "source": [
    "#### NOTA: En este cuaderno se crearan las Tablas `empleado`, `cargo` y `sector` del Datawarehouse"
   ]
  },
  {
   "cell_type": "markdown",
   "metadata": {},
   "source": [
    "***\n",
    "### Importando Librerias"
   ]
  },
  {
   "cell_type": "code",
   "execution_count": 1,
   "metadata": {},
   "outputs": [],
   "source": [
    "from pyspark.sql import SparkSession"
   ]
  },
  {
   "cell_type": "code",
   "execution_count": 2,
   "metadata": {},
   "outputs": [],
   "source": [
    "from pyspark.sql.functions import col, max, count, when, isnull, monotonically_increasing_id"
   ]
  },
  {
   "cell_type": "markdown",
   "metadata": {},
   "source": [
    "***\n",
    "Creando Session de Spark"
   ]
  },
  {
   "cell_type": "code",
   "execution_count": 3,
   "metadata": {},
   "outputs": [],
   "source": [
    "spark = SparkSession.builder.appName('empleado-cargo-sector').getOrCreate()"
   ]
  },
  {
   "cell_type": "markdown",
   "metadata": {},
   "source": [
    "***\n",
    "Importando Conexion a Contenedor `mod4_mysql`"
   ]
  },
  {
   "cell_type": "code",
   "execution_count": 4,
   "metadata": {},
   "outputs": [],
   "source": [
    "from db.connection import connec_db"
   ]
  },
  {
   "cell_type": "markdown",
   "metadata": {},
   "source": [
    "***\n",
    "Trabajando el csv asociado a  `empleado`"
   ]
  },
  {
   "cell_type": "code",
   "execution_count": 4,
   "metadata": {},
   "outputs": [],
   "source": [
    "empleado = spark.read.csv(\"Data/Empleados.csv\", sep=\",\", header=True, inferSchema=True)"
   ]
  },
  {
   "cell_type": "markdown",
   "metadata": {},
   "source": [
    "***\n",
    "Visualizando como vienen los Datos"
   ]
  },
  {
   "cell_type": "code",
   "execution_count": 5,
   "metadata": {},
   "outputs": [
    {
     "name": "stdout",
     "output_type": "stream",
     "text": [
      "+-----------+---------+---------+--------+--------------+--------------+-------+\n",
      "|ID_empleado| Apellido|   Nombre|Sucursal|        Sector|         Cargo|Salario|\n",
      "+-----------+---------+---------+--------+--------------+--------------+-------+\n",
      "|       1968|   Burgos| Jeronimo| Caseros|Administración|Administrativo|32000.0|\n",
      "|       1674| Villegas|Estefania| Caseros|Administración|      Vendedor|32000.0|\n",
      "|       1516|Fernandez|Guillermo| Caseros|Administración|      Vendedor|45000.0|\n",
      "|       1330|  Ramirez|   Eliana| Caseros|Administración|      Vendedor|32000.0|\n",
      "|       1657|  Carmona|     Jose| Caseros|Administración|      Vendedor|32000.0|\n",
      "+-----------+---------+---------+--------+--------------+--------------+-------+\n",
      "only showing top 5 rows\n",
      "\n"
     ]
    }
   ],
   "source": [
    "empleado.show(5)"
   ]
  },
  {
   "cell_type": "markdown",
   "metadata": {},
   "source": [
    "***\n",
    "Visualizando la Inferencia del Schema"
   ]
  },
  {
   "cell_type": "code",
   "execution_count": 6,
   "metadata": {},
   "outputs": [
    {
     "name": "stdout",
     "output_type": "stream",
     "text": [
      "root\n",
      " |-- ID_empleado: integer (nullable = true)\n",
      " |-- Apellido: string (nullable = true)\n",
      " |-- Nombre: string (nullable = true)\n",
      " |-- Sucursal: string (nullable = true)\n",
      " |-- Sector: string (nullable = true)\n",
      " |-- Cargo: string (nullable = true)\n",
      " |-- Salario: double (nullable = true)\n",
      "\n"
     ]
    }
   ],
   "source": [
    "empleado.printSchema()"
   ]
  },
  {
   "cell_type": "markdown",
   "metadata": {},
   "source": [
    "***\n",
    "Buscando Valores Faltantes"
   ]
  },
  {
   "cell_type": "code",
   "execution_count": 7,
   "metadata": {},
   "outputs": [
    {
     "name": "stdout",
     "output_type": "stream",
     "text": [
      "+-----------+--------+------+--------+------+-----+-------+\n",
      "|ID_empleado|Apellido|Nombre|Sucursal|Sector|Cargo|Salario|\n",
      "+-----------+--------+------+--------+------+-----+-------+\n",
      "|          0|       0|     0|       0|     0|    0|      0|\n",
      "+-----------+--------+------+--------+------+-----+-------+\n",
      "\n"
     ]
    }
   ],
   "source": [
    "# Contar valores nulos por columna\n",
    "empleado.agg(*[count(when(isnull(c), c)).alias(c) for c in empleado.columns]).show()"
   ]
  },
  {
   "cell_type": "markdown",
   "metadata": {},
   "source": [
    "Renombrando la columna 'ID_empleado'"
   ]
  },
  {
   "cell_type": "code",
   "execution_count": 8,
   "metadata": {},
   "outputs": [
    {
     "name": "stdout",
     "output_type": "stream",
     "text": [
      "+----------+--------+--------+--------+--------------+--------------+-------+\n",
      "|IdEmpleado|Apellido|  Nombre|Sucursal|        Sector|         Cargo|Salario|\n",
      "+----------+--------+--------+--------+--------------+--------------+-------+\n",
      "|      1968|  Burgos|Jeronimo| Caseros|Administración|Administrativo|32000.0|\n",
      "+----------+--------+--------+--------+--------------+--------------+-------+\n",
      "only showing top 1 row\n",
      "\n"
     ]
    }
   ],
   "source": [
    "empleado = empleado.withColumnRenamed(\"ID_empleado\", \"IdEmpleado\")\n",
    "empleado.show(1)"
   ]
  },
  {
   "cell_type": "markdown",
   "metadata": {},
   "source": [
    "***\n",
    "Creando el Dataframe que representa la tabla `cargo`"
   ]
  },
  {
   "cell_type": "code",
   "execution_count": 9,
   "metadata": {},
   "outputs": [],
   "source": [
    "cargo = empleado.select(\"Cargo\").distinct()"
   ]
  },
  {
   "cell_type": "code",
   "execution_count": 10,
   "metadata": {},
   "outputs": [],
   "source": [
    "cargo = cargo.withColumn(\"IdCargo\", monotonically_increasing_id()+1)"
   ]
  },
  {
   "cell_type": "code",
   "execution_count": 11,
   "metadata": {},
   "outputs": [
    {
     "name": "stdout",
     "output_type": "stream",
     "text": [
      "+-------------------+-------+\n",
      "|              Cargo|IdCargo|\n",
      "+-------------------+-------+\n",
      "|            Técnico|      1|\n",
      "|          Vendedor |      2|\n",
      "|Aux. Administrativo|      3|\n",
      "|           Vendedor|      4|\n",
      "|     Administrativo|      5|\n",
      "|       Aux. Técnico|      6|\n",
      "+-------------------+-------+\n",
      "\n"
     ]
    }
   ],
   "source": [
    "cargo.show()"
   ]
  },
  {
   "cell_type": "markdown",
   "metadata": {},
   "source": [
    "***\n",
    "Creando el Dataframe que representa la tabla `sector`"
   ]
  },
  {
   "cell_type": "code",
   "execution_count": 12,
   "metadata": {},
   "outputs": [],
   "source": [
    "sector = empleado.select(\"Sector\").distinct()"
   ]
  },
  {
   "cell_type": "code",
   "execution_count": 13,
   "metadata": {},
   "outputs": [],
   "source": [
    "sector = sector.withColumn(\"IdSector\", monotonically_increasing_id()+1)"
   ]
  },
  {
   "cell_type": "code",
   "execution_count": 14,
   "metadata": {},
   "outputs": [
    {
     "name": "stdout",
     "output_type": "stream",
     "text": [
      "+--------------+--------+\n",
      "|        Sector|IdSector|\n",
      "+--------------+--------+\n",
      "|        Diseño|       1|\n",
      "|  Comunicación|       2|\n",
      "|Administración|       3|\n",
      "|        Ventas|       4|\n",
      "|       Derecho|       5|\n",
      "|    Publicidad|       6|\n",
      "+--------------+--------+\n",
      "\n"
     ]
    }
   ],
   "source": [
    "sector.show()"
   ]
  },
  {
   "cell_type": "markdown",
   "metadata": {},
   "source": [
    "***\n",
    "Mapeando Sector en la tabla `empleado` utilizando join"
   ]
  },
  {
   "cell_type": "code",
   "execution_count": 15,
   "metadata": {},
   "outputs": [],
   "source": [
    "map_sector = sector.withColumnRenamed(\"Sector\", \"Sector_map\")"
   ]
  },
  {
   "cell_type": "code",
   "execution_count": 16,
   "metadata": {},
   "outputs": [
    {
     "name": "stdout",
     "output_type": "stream",
     "text": [
      "+----------+--------+--------+--------+--------------+--------------+-------+--------------+--------+\n",
      "|IdEmpleado|Apellido|  Nombre|Sucursal|        Sector|         Cargo|Salario|    Sector_map|IdSector|\n",
      "+----------+--------+--------+--------+--------------+--------------+-------+--------------+--------+\n",
      "|      1968|  Burgos|Jeronimo| Caseros|Administración|Administrativo|32000.0|Administración|       3|\n",
      "+----------+--------+--------+--------+--------------+--------------+-------+--------------+--------+\n",
      "only showing top 1 row\n",
      "\n"
     ]
    }
   ],
   "source": [
    "empleado_join_sector = empleado.join(map_sector, map_sector[\"Sector_map\"] == empleado[\"Sector\"])\n",
    "empleado_join_sector.show(1)"
   ]
  },
  {
   "cell_type": "code",
   "execution_count": 17,
   "metadata": {},
   "outputs": [
    {
     "name": "stdout",
     "output_type": "stream",
     "text": [
      "+----------+--------+------+--------+------+-----+-------+----------+--------+\n",
      "|IdEmpleado|Apellido|Nombre|Sucursal|Sector|Cargo|Salario|Sector_map|IdSector|\n",
      "+----------+--------+------+--------+------+-----+-------+----------+--------+\n",
      "|         0|       0|     0|       0|     0|    0|      0|         0|       0|\n",
      "+----------+--------+------+--------+------+-----+-------+----------+--------+\n",
      "\n"
     ]
    }
   ],
   "source": [
    "# Verificando que el Join se Hizo correctamente Sin Nulos\n",
    "empleado_join_sector.agg(*[count(when(isnull(c), c)).alias(c) for c in empleado_join_sector.columns]).show()"
   ]
  },
  {
   "cell_type": "code",
   "execution_count": 18,
   "metadata": {},
   "outputs": [],
   "source": [
    "# Descartando la columna Sector \n",
    "empleado = empleado_join_sector.select(\"IdEmpleado\", \"Apellido\", \"Nombre\", \"Sucursal\", \"Cargo\", \"IdSector\", \"Salario\")"
   ]
  },
  {
   "cell_type": "code",
   "execution_count": 19,
   "metadata": {},
   "outputs": [],
   "source": [
    "del map_sector\n",
    "del empleado_join_sector"
   ]
  },
  {
   "cell_type": "markdown",
   "metadata": {},
   "source": [
    "***\n",
    "Mapeando Cargo en la tabla `empleado` utilizando join"
   ]
  },
  {
   "cell_type": "code",
   "execution_count": 20,
   "metadata": {},
   "outputs": [],
   "source": [
    "map_cargo = cargo.withColumnRenamed(\"Cargo\", \"Cargo_map\")"
   ]
  },
  {
   "cell_type": "code",
   "execution_count": 21,
   "metadata": {},
   "outputs": [],
   "source": [
    "empleado_join_cargo = empleado.join(map_cargo, map_cargo[\"Cargo_map\"] == empleado[\"cargo\"])"
   ]
  },
  {
   "cell_type": "code",
   "execution_count": 22,
   "metadata": {},
   "outputs": [
    {
     "name": "stdout",
     "output_type": "stream",
     "text": [
      "+----------+--------+------+--------+-----+--------+-------+---------+-------+\n",
      "|IdEmpleado|Apellido|Nombre|Sucursal|Cargo|IdSector|Salario|Cargo_map|IdCargo|\n",
      "+----------+--------+------+--------+-----+--------+-------+---------+-------+\n",
      "|         0|       0|     0|       0|    0|       0|      0|        0|      0|\n",
      "+----------+--------+------+--------+-----+--------+-------+---------+-------+\n",
      "\n"
     ]
    }
   ],
   "source": [
    "# Verificando que el Join se Hizo correctamente Sin Nulos\n",
    "empleado_join_cargo.agg(*[count(when(isnull(c), c)).alias(c) for c in empleado_join_cargo.columns]).show()"
   ]
  },
  {
   "cell_type": "code",
   "execution_count": 23,
   "metadata": {},
   "outputs": [],
   "source": [
    "# Descartando la columna Cargo\n",
    "empleado = empleado_join_cargo.select(\"IdEmpleado\",\"Apellido\",\"Nombre\",\"Sucursal\",\"IdSector\",\"IdCargo\",\"Salario\")\n"
   ]
  },
  {
   "cell_type": "code",
   "execution_count": 24,
   "metadata": {},
   "outputs": [],
   "source": [
    "del map_cargo\n",
    "del empleado_join_cargo"
   ]
  },
  {
   "cell_type": "markdown",
   "metadata": {},
   "source": [
    "Se debe Normalizar la Columna `sucursal` para poder mapearla"
   ]
  },
  {
   "cell_type": "code",
   "execution_count": 25,
   "metadata": {},
   "outputs": [],
   "source": [
    "empleado = empleado.withColumn('Sucursal', when(col('Sucursal')\\\n",
    "                               .isin([\"Mendoza1\"]), 'Mendoza-1')\\\n",
    "                               .otherwise(col('Sucursal')))\n",
    "\n",
    "empleado = empleado.withColumn('Sucursal', when(col('Sucursal')\\\n",
    "                               .isin([\"Mendoza 1\"]), 'Mendoza-1')\\\n",
    "                               .otherwise(col('Sucursal')))\n",
    "\n",
    "empleado = empleado.withColumn('Sucursal', when(col('Sucursal')\\\n",
    "                               .isin([\"Mendoza2\"]), 'Mendoza-2')\\\n",
    "                               .otherwise(col('Sucursal')))\n",
    "\n",
    "empleado = empleado.withColumn('Sucursal', when(col('Sucursal')\\\n",
    "                               .isin([\"Mendoza 2\"]), 'Mendoza-2')\\\n",
    "                               .otherwise(col('Sucursal')))\n",
    "\n",
    "\n",
    "empleado = empleado.withColumn('Sucursal', when(col('Sucursal')\\\n",
    "                               .isin([\"MDQ1\"]), 'Mdq-1')\\\n",
    "                               .otherwise(col('Sucursal')))\n",
    "\n",
    "empleado = empleado.withColumn('Sucursal', when(col('Sucursal')\\\n",
    "                               .isin([\"MDQ2\"]), 'Mdq-2')\\\n",
    "                               .otherwise(col('Sucursal')))\n",
    "\n",
    "empleado = empleado.withColumn('Sucursal', when(col('Sucursal')\\\n",
    "                               .isin([\"Rosario1\"]), 'Rosario-1')\\\n",
    "                               .otherwise(col('Sucursal')))\n",
    "\n",
    "empleado = empleado.withColumn('Sucursal', when(col('Sucursal')\\\n",
    "                               .isin([\"Rosario2\"]), 'Rosario-2')\\\n",
    "                               .otherwise(col('Sucursal')))\n",
    "\n",
    "empleado = empleado.withColumn('Sucursal', when(col('Sucursal')\\\n",
    "                               .isin([\"Palermo 1\"]), 'Palermo-1')\\\n",
    "                               .otherwise(col('Sucursal')))\n",
    "\n",
    "empleado = empleado.withColumn('Sucursal', when(col('Sucursal')\\\n",
    "                               .isin([\"Palermo 2\"]), 'Palermo-2')\\\n",
    "                               .otherwise(col('Sucursal')))\n",
    "\n",
    "empleado = empleado.withColumn('Sucursal', when(col('Sucursal')\\\n",
    "                               .isin([\"Cordoba Quiroz\"]), 'Córdoba Quiroz')\\\n",
    "                               .otherwise(col('Sucursal')))"
   ]
  },
  {
   "cell_type": "code",
   "execution_count": 26,
   "metadata": {},
   "outputs": [
    {
     "name": "stdout",
     "output_type": "stream",
     "text": [
      "+------------------+\n",
      "|          Sucursal|\n",
      "+------------------+\n",
      "|Cerro de las Rosas|\n",
      "|         Rosario-1|\n",
      "|    Córdoba Quiroz|\n",
      "|          Deposito|\n",
      "|             Mdq-1|\n",
      "|             Mdq-2|\n",
      "|    Córdoba Centro|\n",
      "|           Almagro|\n",
      "|            Flores|\n",
      "|         Bariloche|\n",
      "|         Palermo-2|\n",
      "|     Vicente Lopez|\n",
      "|             Velez|\n",
      "|           Alberdi|\n",
      "|         Palermo-1|\n",
      "|        Corrientes|\n",
      "|        Avellaneda|\n",
      "|          La Plata|\n",
      "|        San Isidro|\n",
      "|             Moron|\n",
      "|         Caballito|\n",
      "|         Mendoza-2|\n",
      "|           Cabildo|\n",
      "|         Rosario-2|\n",
      "|          Castelar|\n",
      "|           Quilmes|\n",
      "|           Caseros|\n",
      "|             Lanus|\n",
      "|         San Justo|\n",
      "|         Mendoza-1|\n",
      "+------------------+\n",
      "\n"
     ]
    }
   ],
   "source": [
    "empleado.select(\"Sucursal\").distinct().show(31)"
   ]
  },
  {
   "cell_type": "markdown",
   "metadata": {},
   "source": [
    "***\n",
    "Para poder mapear la columna 'sucursal' dentro de `empleado` necesito traer la informacion de <br>\n",
    "la tabla `sucursal` ya normalizada. Cuando se trabajo 'sucursal' se dejo un archivo csv llamado <br>\n",
    "'sucursal_normalizada.csv` "
   ]
  },
  {
   "cell_type": "code",
   "execution_count": 27,
   "metadata": {},
   "outputs": [],
   "source": [
    "sucursal = spark.read.csv(\"Data/sucursal_normalizada.csv\", sep=\",\", header=True ,inferSchema=True)"
   ]
  },
  {
   "cell_type": "code",
   "execution_count": 28,
   "metadata": {},
   "outputs": [
    {
     "name": "stdout",
     "output_type": "stream",
     "text": [
      "+----------+--------+-------------+-----------+----------+---------+\n",
      "|IdSucursal|Sucursal|    Domicilio|IdLocalidad|   Latitud| Longitud|\n",
      "+----------+--------+-------------+-----------+----------+---------+\n",
      "|        15|Castelar|Sta Rosa 1845|          9|-34.639305|-58.65567|\n",
      "+----------+--------+-------------+-----------+----------+---------+\n",
      "only showing top 1 row\n",
      "\n"
     ]
    }
   ],
   "source": [
    "sucursal.show(1)"
   ]
  },
  {
   "cell_type": "code",
   "execution_count": 29,
   "metadata": {},
   "outputs": [],
   "source": [
    "sucursal_map = sucursal.select(\"IdSucursal\", \"Sucursal\")\n",
    "sucursal_map = sucursal_map.withColumnRenamed(\"Sucursal\", \"Sucur_map\")"
   ]
  },
  {
   "cell_type": "code",
   "execution_count": 30,
   "metadata": {},
   "outputs": [
    {
     "name": "stdout",
     "output_type": "stream",
     "text": [
      "+----------+---------+\n",
      "|IdSucursal|Sucur_map|\n",
      "+----------+---------+\n",
      "|        15| Castelar|\n",
      "+----------+---------+\n",
      "only showing top 1 row\n",
      "\n"
     ]
    }
   ],
   "source": [
    "sucursal_map.show(1)"
   ]
  },
  {
   "cell_type": "code",
   "execution_count": 31,
   "metadata": {},
   "outputs": [],
   "source": [
    "del sucursal"
   ]
  },
  {
   "cell_type": "markdown",
   "metadata": {},
   "source": [
    "Mapeando Sucursal en la tabla `empleado` utilizando join"
   ]
  },
  {
   "cell_type": "code",
   "execution_count": 32,
   "metadata": {},
   "outputs": [],
   "source": [
    "empleado_join_sucursal = empleado.join(sucursal_map, sucursal_map[\"Sucur_map\"] == empleado[\"Sucursal\"])"
   ]
  },
  {
   "cell_type": "code",
   "execution_count": 33,
   "metadata": {},
   "outputs": [
    {
     "name": "stdout",
     "output_type": "stream",
     "text": [
      "+----------+--------+------+--------+--------+-------+-------+----------+---------+\n",
      "|IdEmpleado|Apellido|Nombre|Sucursal|IdSector|IdCargo|Salario|IdSucursal|Sucur_map|\n",
      "+----------+--------+------+--------+--------+-------+-------+----------+---------+\n",
      "|         0|       0|     0|       0|       0|      0|      0|         0|        0|\n",
      "+----------+--------+------+--------+--------+-------+-------+----------+---------+\n",
      "\n"
     ]
    }
   ],
   "source": [
    "# Verificando que el Join se Hizo correctamente Sin Nulos\n",
    "empleado_join_sucursal.agg(*[count(when(isnull(c), c)).alias(c) for c in empleado_join_sucursal.columns]).show()"
   ]
  },
  {
   "cell_type": "code",
   "execution_count": 34,
   "metadata": {},
   "outputs": [],
   "source": [
    "# Descartando la Columna Sucursal\n",
    "empleado = empleado_join_sucursal.select(\"IdEmpleado\", \"Apellido\", \"Nombre\", \"IdSector\",\n",
    "                                         \"IdSucursal\", \"IdCargo\", \"Salario\")"
   ]
  },
  {
   "cell_type": "code",
   "execution_count": 35,
   "metadata": {},
   "outputs": [
    {
     "data": {
      "text/plain": [
       "267"
      ]
     },
     "execution_count": 35,
     "metadata": {},
     "output_type": "execute_result"
    }
   ],
   "source": [
    "empleado.count()"
   ]
  },
  {
   "cell_type": "code",
   "execution_count": 36,
   "metadata": {},
   "outputs": [],
   "source": [
    "del empleado_join_sucursal\n",
    "del sucursal_map"
   ]
  },
  {
   "cell_type": "markdown",
   "metadata": {},
   "source": [
    "***\n",
    "#### Tratamiento de Valores Repetidos en `IdEmpleado`\n",
    "Creo la columna \"CodigoEmpleado\" y le asigno el mismo valor que hasta ahora tiene \"IdEmpleado\""
   ]
  },
  {
   "cell_type": "code",
   "execution_count": 37,
   "metadata": {},
   "outputs": [
    {
     "name": "stdout",
     "output_type": "stream",
     "text": [
      "+----------+---------+---------+--------+----------+-------+-------+--------------+\n",
      "|IdEmpleado| Apellido|   Nombre|IdSector|IdSucursal|IdCargo|Salario|CodigoEmpleado|\n",
      "+----------+---------+---------+--------+----------+-------+-------+--------------+\n",
      "|      1968|   Burgos| Jeronimo|       3|        13|      5|32000.0|          1968|\n",
      "|      1674| Villegas|Estefania|       3|        13|      4|32000.0|          1674|\n",
      "|      1516|Fernandez|Guillermo|       3|        13|      4|45000.0|          1516|\n",
      "|      1330|  Ramirez|   Eliana|       3|        13|      4|32000.0|          1330|\n",
      "|      1657|  Carmona|     Jose|       3|        13|      4|32000.0|          1657|\n",
      "|      1573|De santis|  Marcela|       3|        13|      3|15000.0|          1573|\n",
      "|      1658|   Franco|  Daniela|       3|        13|      4|32000.0|          1658|\n",
      "|      1078|   Cortes|   Rafael|       1|        13|      5|42000.0|          1078|\n",
      "|      1695|   Berrio|   Camilo|       1|         1|      4|32000.0|          1695|\n",
      "|      1285|    Arias|Francisco|       1|         1|      4|32000.0|          1285|\n",
      "+----------+---------+---------+--------+----------+-------+-------+--------------+\n",
      "only showing top 10 rows\n",
      "\n"
     ]
    }
   ],
   "source": [
    "empleado = empleado.withColumn(\"CodigoEmpleado\", col(\"IdEmpleado\"))\n",
    "empleado.show(10)"
   ]
  },
  {
   "cell_type": "markdown",
   "metadata": {},
   "source": [
    "***\n",
    "En la Clase se Establecio que el nuevo `IdEmpleado` seria (sucursal * 1.000.000) + IdEmpleado_viejo"
   ]
  },
  {
   "cell_type": "code",
   "execution_count": 38,
   "metadata": {},
   "outputs": [],
   "source": [
    "# Borro la columna `IdEmpleado`, la informacion ya la tengo en `CodigoEmpleado`\n",
    "empleado = empleado.drop('IdEmpleado')"
   ]
  },
  {
   "cell_type": "code",
   "execution_count": 39,
   "metadata": {},
   "outputs": [],
   "source": [
    "# Creo nuevamente la columna `IdEmpleado` pero esta vez (sucursal * 1.000.000) + CodigoEmpleado\n",
    "empleado = empleado.withColumn(\"IdEmpleado\", (col(\"IdSucursal\") * 1000000) + col(\"CodigoEmpleado\"))"
   ]
  },
  {
   "cell_type": "code",
   "execution_count": 40,
   "metadata": {},
   "outputs": [
    {
     "name": "stdout",
     "output_type": "stream",
     "text": [
      "+-----------+---------+--------+----------+-------+-------+--------------+----------+\n",
      "|   Apellido|   Nombre|IdSector|IdSucursal|IdCargo|Salario|CodigoEmpleado|IdEmpleado|\n",
      "+-----------+---------+--------+----------+-------+-------+--------------+----------+\n",
      "|     Burgos| Jeronimo|       3|        13|      5|32000.0|          1968|  13001968|\n",
      "|   Villegas|Estefania|       3|        13|      4|32000.0|          1674|  13001674|\n",
      "|  Fernandez|Guillermo|       3|        13|      4|45000.0|          1516|  13001516|\n",
      "|    Ramirez|   Eliana|       3|        13|      4|32000.0|          1330|  13001330|\n",
      "|    Carmona|     Jose|       3|        13|      4|32000.0|          1657|  13001657|\n",
      "|  De santis|  Marcela|       3|        13|      3|15000.0|          1573|  13001573|\n",
      "|     Franco|  Daniela|       3|        13|      4|32000.0|          1658|  13001658|\n",
      "|     Cortes|   Rafael|       1|        13|      5|42000.0|          1078|  13001078|\n",
      "|     Berrio|   Camilo|       1|         1|      4|32000.0|          1695|   1001695|\n",
      "|      Arias|Francisco|       1|         1|      4|32000.0|          1285|   1001285|\n",
      "|  Merizalde|  Antonio|       1|         1|      4|32000.0|          1284|   1001284|\n",
      "|   Restrepo|    Karen|       1|         1|      3|15000.0|          1517|   1001517|\n",
      "|      Lemus|    David|       1|         1|      4|32000.0|          1674|   1001674|\n",
      "|    Santana|   Javier|       2|         1|      5|56000.0|          1056|   1001056|\n",
      "|Saldarriaga| Virginia|       2|         1|      4|42000.0|          1977|   1001977|\n",
      "|     Posada|   Sergio|       2|         1|      4|56000.0|          1725|   1001725|\n",
      "|       Zea |    Jorge|       2|         1|      4|65000.0|          1675|   1001675|\n",
      "|      Diaz |  Mariana|       2|         1|      4|32000.0|          1968|   1001968|\n",
      "|    Giraldo|  Esteban|       4|         1|      3|13500.0|          1723|   1001723|\n",
      "|   Idarraga|    Jorge|       4|        14|      3|12000.0|          1076|  14001076|\n",
      "+-----------+---------+--------+----------+-------+-------+--------------+----------+\n",
      "only showing top 20 rows\n",
      "\n"
     ]
    }
   ],
   "source": [
    "empleado.show()"
   ]
  },
  {
   "cell_type": "markdown",
   "metadata": {},
   "source": [
    "***\n",
    "Creando la Conexion"
   ]
  },
  {
   "cell_type": "code",
   "execution_count": 39,
   "metadata": {},
   "outputs": [],
   "source": [
    "engine = connec_db()"
   ]
  },
  {
   "cell_type": "markdown",
   "metadata": {},
   "source": [
    "***\n",
    "Pasando el Dataframe a Dataframe de Pandas  y vaciando en su respectiva Tabla"
   ]
  },
  {
   "cell_type": "code",
   "execution_count": 41,
   "metadata": {},
   "outputs": [],
   "source": [
    "# IMPORTANDO LIBRERIA PANDAS\n",
    "import pandas as pd"
   ]
  },
  {
   "cell_type": "markdown",
   "metadata": {},
   "source": [
    "***\n",
    "Vaciando el Dataframe a la Tabla `cargo`"
   ]
  },
  {
   "cell_type": "code",
   "execution_count": 42,
   "metadata": {},
   "outputs": [],
   "source": [
    "pandas_df_cargo = cargo.toPandas()\n"
   ]
  },
  {
   "cell_type": "code",
   "execution_count": 42,
   "metadata": {},
   "outputs": [
    {
     "data": {
      "text/plain": [
       "6"
      ]
     },
     "execution_count": 42,
     "metadata": {},
     "output_type": "execute_result"
    }
   ],
   "source": [
    "pandas_df_cargo.to_sql(name=\"cargo\", con=engine, index=False, if_exists=\"append\")"
   ]
  },
  {
   "cell_type": "code",
   "execution_count": 43,
   "metadata": {},
   "outputs": [],
   "source": [
    "pandas_df_cargo.to_csv(\"csv_practica/cargo.csv\")"
   ]
  },
  {
   "cell_type": "code",
   "execution_count": 44,
   "metadata": {},
   "outputs": [],
   "source": [
    "del cargo\n",
    "del pandas_df_cargo"
   ]
  },
  {
   "cell_type": "markdown",
   "metadata": {},
   "source": [
    "***\n",
    "Vaciando el Dataframe a la Tabla `sector`"
   ]
  },
  {
   "cell_type": "code",
   "execution_count": 45,
   "metadata": {},
   "outputs": [],
   "source": [
    "pandas_df_sector = sector.toPandas()"
   ]
  },
  {
   "cell_type": "code",
   "execution_count": 45,
   "metadata": {},
   "outputs": [
    {
     "data": {
      "text/plain": [
       "6"
      ]
     },
     "execution_count": 45,
     "metadata": {},
     "output_type": "execute_result"
    }
   ],
   "source": [
    "pandas_df_sector.to_sql(name=\"sector\", con=engine, index=False, if_exists=\"append\")"
   ]
  },
  {
   "cell_type": "code",
   "execution_count": 46,
   "metadata": {},
   "outputs": [],
   "source": [
    "pandas_df_sector.to_csv(\"csv_practica/sector.csv\", index=False)"
   ]
  },
  {
   "cell_type": "code",
   "execution_count": 47,
   "metadata": {},
   "outputs": [],
   "source": [
    "del sector\n",
    "del pandas_df_sector"
   ]
  },
  {
   "cell_type": "markdown",
   "metadata": {},
   "source": [
    "***\n",
    "Vaciando el Dataframe a la Tabla `empleado`"
   ]
  },
  {
   "cell_type": "code",
   "execution_count": 48,
   "metadata": {},
   "outputs": [],
   "source": [
    "pandas_df_empleado = empleado.toPandas()"
   ]
  },
  {
   "cell_type": "code",
   "execution_count": 48,
   "metadata": {},
   "outputs": [
    {
     "data": {
      "text/plain": [
       "267"
      ]
     },
     "execution_count": 48,
     "metadata": {},
     "output_type": "execute_result"
    }
   ],
   "source": [
    "pandas_df_empleado.to_sql(name=\"empleado\", con=engine, index=False, if_exists=\"append\")"
   ]
  },
  {
   "cell_type": "code",
   "execution_count": 49,
   "metadata": {},
   "outputs": [],
   "source": [
    "pandas_df_empleado.to_csv(\"csv_practica/empleado.csv\", index=False)"
   ]
  },
  {
   "cell_type": "code",
   "execution_count": 50,
   "metadata": {},
   "outputs": [],
   "source": [
    "del empleado"
   ]
  },
  {
   "cell_type": "markdown",
   "metadata": {},
   "source": [
    "Guardo la informacion de empleado ya normalizado en un csv por si es necesario cuando se trabaje `venta`"
   ]
  },
  {
   "cell_type": "code",
   "execution_count": 46,
   "metadata": {},
   "outputs": [],
   "source": [
    "pandas_df_empleado.to_csv(\"Data/empleado_normalizado.csv\")"
   ]
  },
  {
   "cell_type": "code",
   "execution_count": 51,
   "metadata": {},
   "outputs": [],
   "source": [
    "del pandas_df_empleado"
   ]
  },
  {
   "cell_type": "code",
   "execution_count": 52,
   "metadata": {},
   "outputs": [],
   "source": [
    "spark.stop()"
   ]
  }
 ],
 "metadata": {
  "kernelspec": {
   "display_name": "base",
   "language": "python",
   "name": "python3"
  },
  "language_info": {
   "codemirror_mode": {
    "name": "ipython",
    "version": 3
   },
   "file_extension": ".py",
   "mimetype": "text/x-python",
   "name": "python",
   "nbconvert_exporter": "python",
   "pygments_lexer": "ipython3",
   "version": "3.11.6"
  }
 },
 "nbformat": 4,
 "nbformat_minor": 2
}
